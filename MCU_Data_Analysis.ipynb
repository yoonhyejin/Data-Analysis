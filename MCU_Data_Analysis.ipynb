{
 "cells": [
  {
   "cell_type": "markdown",
   "metadata": {},
   "source": [
    "# Marvel Cinematic Universe Data Analysis\n",
    "\n",
    "Some of the MCU movies are re-released in my country due to the coronavirus.<br>\n",
    "And Yes, i am in the BIG fangirling mode again. <br>\n",
    "After going through some marathon, i was just thinking... : Okay, maybe it would be fun if i do some data analysis with it. <br>\n",
    "I was trying to answer following questions...\n",
    "\n",
    "* Which main actor made the most profit in total?\n",
    "* Which movie's cast is the most gender equal?\n",
    "    \n",
    "Here is the index. <br>\n",
    "1. Examine the data\n",
    "    * Movie database \n",
    "    * Cast database (optional)\n",
    "2. Data cleaning\n",
    "    * Treat the missing data\n",
    "    * Make it clean!\n",
    "3. Feature Engineering\n",
    "    * Get geocodes & countries of the filming locations\n",
    "    * Get ROI & profit in dollars\n",
    "    * Get actors' genders using gender_guesser\n",
    "4. Data analysis\n",
    "    * How is the distribution on released date & running time?\n",
    "    * On where was the movie shooted the most? \n",
    "    * Which movie had most collections & ROI?\n",
    "    * Which actor starred the most as the main cast?\n",
    "    * How is the gender distribution of the lead characters?\n",
    "\n",
    "So, shall we start?\n",
    "\n",
    "![lemme start with thor's godlike face](https://media.giphy.com/media/l1J9Kgcw47UuavsOc/giphy.gif)\n"
   ]
  },
  {
   "cell_type": "markdown",
   "metadata": {},
   "source": [
    "## 1. Examine the data\n",
    "\n",
    "First, We will gonna see how the dataset looks like. <br>\n",
    "*I got the full dataset of mcu movies from kaggle. Thanks mate.\n",
    "\n",
    "https://www.kaggle.com/promptcloud/all-marvel-cinematic-universe-movies-on-imdb#imdb_com_movie_data_promotion_promptcloud_master_deduped_n-20190529_123020337730168__0%202.csv"
   ]
  },
  {
   "cell_type": "code",
   "execution_count": 1,
   "metadata": {},
   "outputs": [],
   "source": [
    "import pandas as pd\n",
    "import numpy as np\n",
    "import seaborn as sns\n",
    "import matplotlib.pyplot as plt"
   ]
  },
  {
   "cell_type": "code",
   "execution_count": 2,
   "metadata": {},
   "outputs": [
    {
     "name": "stdout",
     "output_type": "stream",
     "text": [
      "<class 'pandas.core.frame.DataFrame'>\n",
      "RangeIndex: 24 entries, 0 to 23\n",
      "Data columns (total 16 columns):\n",
      " #   Column             Non-Null Count  Dtype  \n",
      "---  ------             --------------  -----  \n",
      " 0   Uniq Id            24 non-null     object \n",
      " 1   Crawl Timestamp    24 non-null     object \n",
      " 2   Pageurl            24 non-null     object \n",
      " 3   Title              24 non-null     object \n",
      " 4   Genres             22 non-null     object \n",
      " 5   Release Date       23 non-null     object \n",
      " 6   Movie Rating       22 non-null     object \n",
      " 7   Review Rating      22 non-null     float64\n",
      " 8   Movie Run Time     22 non-null     object \n",
      " 9   Plot               24 non-null     object \n",
      " 10  Cast               22 non-null     object \n",
      " 11  Language           24 non-null     object \n",
      " 12  Filming Locations  23 non-null     object \n",
      " 13  Budget             21 non-null     object \n",
      " 14  Collection         22 non-null     object \n",
      " 15  Collection Date    4 non-null      object \n",
      "dtypes: float64(1), object(15)\n",
      "memory usage: 3.1+ KB\n",
      "None\n"
     ]
    }
   ],
   "source": [
    "df = pd.read_csv('mcu.csv')\n",
    "print(df.info())"
   ]
  },
  {
   "cell_type": "code",
   "execution_count": 3,
   "metadata": {
    "scrolled": true
   },
   "outputs": [
    {
     "data": {
      "text/html": [
       "<div>\n",
       "<style scoped>\n",
       "    .dataframe tbody tr th:only-of-type {\n",
       "        vertical-align: middle;\n",
       "    }\n",
       "\n",
       "    .dataframe tbody tr th {\n",
       "        vertical-align: top;\n",
       "    }\n",
       "\n",
       "    .dataframe thead th {\n",
       "        text-align: right;\n",
       "    }\n",
       "</style>\n",
       "<table border=\"1\" class=\"dataframe\">\n",
       "  <thead>\n",
       "    <tr style=\"text-align: right;\">\n",
       "      <th></th>\n",
       "      <th>Uniq Id</th>\n",
       "      <th>Crawl Timestamp</th>\n",
       "      <th>Pageurl</th>\n",
       "      <th>Title</th>\n",
       "      <th>Genres</th>\n",
       "      <th>Release Date</th>\n",
       "      <th>Movie Rating</th>\n",
       "      <th>Review Rating</th>\n",
       "      <th>Movie Run Time</th>\n",
       "      <th>Plot</th>\n",
       "      <th>Cast</th>\n",
       "      <th>Language</th>\n",
       "      <th>Filming Locations</th>\n",
       "      <th>Budget</th>\n",
       "      <th>Collection</th>\n",
       "      <th>Collection Date</th>\n",
       "    </tr>\n",
       "  </thead>\n",
       "  <tbody>\n",
       "    <tr>\n",
       "      <th>0</th>\n",
       "      <td>bdce103d6c8ee8206477f5ef43cdd6cf</td>\n",
       "      <td>2019-05-29 12:32:00 +0000</td>\n",
       "      <td>https://www.imdb.com/title/tt6791350/</td>\n",
       "      <td>Guardians of the Galaxy Vol. 3 (2021) - IMDb</td>\n",
       "      <td>NaN</td>\n",
       "      <td>NaN</td>\n",
       "      <td>NaN</td>\n",
       "      <td>NaN</td>\n",
       "      <td>NaN</td>\n",
       "      <td>Directed by James Gunn. With Elizabeth Debicki...</td>\n",
       "      <td>NaN</td>\n",
       "      <td>English</td>\n",
       "      <td>NaN</td>\n",
       "      <td>NaN</td>\n",
       "      <td>NaN</td>\n",
       "      <td>NaN</td>\n",
       "    </tr>\n",
       "    <tr>\n",
       "      <th>1</th>\n",
       "      <td>90bd11174adf73475d088f93a2da28da</td>\n",
       "      <td>2019-05-29 12:30:33 +0000</td>\n",
       "      <td>https://www.imdb.com/title/tt1228705/</td>\n",
       "      <td>Iron Man 2 (2010) - IMDb</td>\n",
       "      <td>Action|Adventure|Sci-Fi</td>\n",
       "      <td>7 May 2010 (USA)</td>\n",
       "      <td>PG-13</td>\n",
       "      <td>7.0</td>\n",
       "      <td>124 min</td>\n",
       "      <td>Directed by Jon Favreau. With Robert Downey Jr...</td>\n",
       "      <td>Robert Downey Jr.|Mickey Rourke|Gwyneth Paltro...</td>\n",
       "      <td>English|French|Russian</td>\n",
       "      <td>D.C. Stages, 1360 East 6th Street, Downtown, L...</td>\n",
       "      <td>$200,000,000</td>\n",
       "      <td>$623,933,331,</td>\n",
       "      <td>19 August 2010</td>\n",
       "    </tr>\n",
       "    <tr>\n",
       "      <th>2</th>\n",
       "      <td>df6fc7d029a7e5c214509cbfb513d283</td>\n",
       "      <td>2019-05-29 12:31:05 +0000</td>\n",
       "      <td>https://www.imdb.com/title/tt2015381/</td>\n",
       "      <td>Guardians of the Galaxy (2014) - IMDb</td>\n",
       "      <td>Action|Adventure|Comedy|Sci-Fi</td>\n",
       "      <td>1 August 2014 (USA)</td>\n",
       "      <td>PG-13</td>\n",
       "      <td>8.1</td>\n",
       "      <td>121 min</td>\n",
       "      <td>Directed by James Gunn. With Chris Pratt, Vin ...</td>\n",
       "      <td>Chris Pratt|Vin Diesel|Bradley Cooper|Zoe Saldana</td>\n",
       "      <td>English</td>\n",
       "      <td>Shepperton Studios, Shepperton, Surrey, Englan...</td>\n",
       "      <td>$170,000,000</td>\n",
       "      <td>$774,176,600</td>\n",
       "      <td>NaN</td>\n",
       "    </tr>\n",
       "    <tr>\n",
       "      <th>3</th>\n",
       "      <td>4f73f64a1b559ac76448fd9347bca974</td>\n",
       "      <td>2019-05-29 12:31:37 +0000</td>\n",
       "      <td>https://www.imdb.com/title/tt1825683/</td>\n",
       "      <td>Black Panther (2018) - IMDb</td>\n",
       "      <td>Action|Adventure|Sci-Fi</td>\n",
       "      <td>16 February 2018 (USA)</td>\n",
       "      <td>PG-13</td>\n",
       "      <td>7.3</td>\n",
       "      <td>134 min</td>\n",
       "      <td>Directed by Ryan Coogler. With Chadwick Bosema...</td>\n",
       "      <td>Chadwick Boseman|Michael B. Jordan|Lupita Nyon...</td>\n",
       "      <td>English|Swahili|Nama|Xhosa|Korean</td>\n",
       "      <td>Pinewood Atlanta Studios, 461 Sandy Creek Road...</td>\n",
       "      <td>$200,000,000</td>\n",
       "      <td>$1,347,071,259</td>\n",
       "      <td>NaN</td>\n",
       "    </tr>\n",
       "    <tr>\n",
       "      <th>4</th>\n",
       "      <td>35ced81a516bc02c3f303015cb7a068f</td>\n",
       "      <td>2019-05-29 12:30:49 +0000</td>\n",
       "      <td>https://www.imdb.com/title/tt1300854/</td>\n",
       "      <td>Iron Man 3 (2013) - IMDb</td>\n",
       "      <td>Action|Adventure|Sci-Fi</td>\n",
       "      <td>3 May 2013 (USA)</td>\n",
       "      <td>PG-13</td>\n",
       "      <td>7.2</td>\n",
       "      <td>130 min</td>\n",
       "      <td>Directed by Shane Black. With Robert Downey Jr...</td>\n",
       "      <td>Robert Downey Jr.|Guy Pearce|Gwyneth Paltrow|D...</td>\n",
       "      <td>English</td>\n",
       "      <td>Cary, North Carolina, USA</td>\n",
       "      <td>$200,000,000</td>\n",
       "      <td>$1,215,439,994</td>\n",
       "      <td>NaN</td>\n",
       "    </tr>\n",
       "  </tbody>\n",
       "</table>\n",
       "</div>"
      ],
      "text/plain": [
       "                            Uniq Id            Crawl Timestamp  \\\n",
       "0  bdce103d6c8ee8206477f5ef43cdd6cf  2019-05-29 12:32:00 +0000   \n",
       "1  90bd11174adf73475d088f93a2da28da  2019-05-29 12:30:33 +0000   \n",
       "2  df6fc7d029a7e5c214509cbfb513d283  2019-05-29 12:31:05 +0000   \n",
       "3  4f73f64a1b559ac76448fd9347bca974  2019-05-29 12:31:37 +0000   \n",
       "4  35ced81a516bc02c3f303015cb7a068f  2019-05-29 12:30:49 +0000   \n",
       "\n",
       "                                 Pageurl  \\\n",
       "0  https://www.imdb.com/title/tt6791350/   \n",
       "1  https://www.imdb.com/title/tt1228705/   \n",
       "2  https://www.imdb.com/title/tt2015381/   \n",
       "3  https://www.imdb.com/title/tt1825683/   \n",
       "4  https://www.imdb.com/title/tt1300854/   \n",
       "\n",
       "                                          Title  \\\n",
       "0  Guardians of the Galaxy Vol. 3 (2021) - IMDb   \n",
       "1                      Iron Man 2 (2010) - IMDb   \n",
       "2         Guardians of the Galaxy (2014) - IMDb   \n",
       "3                   Black Panther (2018) - IMDb   \n",
       "4                      Iron Man 3 (2013) - IMDb   \n",
       "\n",
       "                           Genres             Release Date Movie Rating  \\\n",
       "0                             NaN                      NaN          NaN   \n",
       "1         Action|Adventure|Sci-Fi        7 May 2010 (USA)         PG-13   \n",
       "2  Action|Adventure|Comedy|Sci-Fi     1 August 2014 (USA)         PG-13   \n",
       "3         Action|Adventure|Sci-Fi  16 February 2018 (USA)         PG-13   \n",
       "4         Action|Adventure|Sci-Fi        3 May 2013 (USA)         PG-13   \n",
       "\n",
       "   Review Rating Movie Run Time  \\\n",
       "0            NaN            NaN   \n",
       "1            7.0        124 min   \n",
       "2            8.1        121 min   \n",
       "3            7.3        134 min   \n",
       "4            7.2        130 min   \n",
       "\n",
       "                                                Plot  \\\n",
       "0  Directed by James Gunn. With Elizabeth Debicki...   \n",
       "1  Directed by Jon Favreau. With Robert Downey Jr...   \n",
       "2  Directed by James Gunn. With Chris Pratt, Vin ...   \n",
       "3  Directed by Ryan Coogler. With Chadwick Bosema...   \n",
       "4  Directed by Shane Black. With Robert Downey Jr...   \n",
       "\n",
       "                                                Cast  \\\n",
       "0                                                NaN   \n",
       "1  Robert Downey Jr.|Mickey Rourke|Gwyneth Paltro...   \n",
       "2  Chris Pratt|Vin Diesel|Bradley Cooper|Zoe Saldana   \n",
       "3  Chadwick Boseman|Michael B. Jordan|Lupita Nyon...   \n",
       "4  Robert Downey Jr.|Guy Pearce|Gwyneth Paltrow|D...   \n",
       "\n",
       "                            Language  \\\n",
       "0                            English   \n",
       "1             English|French|Russian   \n",
       "2                            English   \n",
       "3  English|Swahili|Nama|Xhosa|Korean   \n",
       "4                            English   \n",
       "\n",
       "                                   Filming Locations           Budget  \\\n",
       "0                                                NaN              NaN   \n",
       "1  D.C. Stages, 1360 East 6th Street, Downtown, L...   $200,000,000     \n",
       "2  Shepperton Studios, Shepperton, Surrey, Englan...   $170,000,000     \n",
       "3  Pinewood Atlanta Studios, 461 Sandy Creek Road...   $200,000,000     \n",
       "4                          Cary, North Carolina, USA   $200,000,000     \n",
       "\n",
       "       Collection Collection Date  \n",
       "0             NaN             NaN  \n",
       "1   $623,933,331,  19 August 2010  \n",
       "2    $774,176,600             NaN  \n",
       "3  $1,347,071,259             NaN  \n",
       "4  $1,215,439,994             NaN  "
      ]
     },
     "metadata": {},
     "output_type": "display_data"
    }
   ],
   "source": [
    "display(df.head())"
   ]
  },
  {
   "cell_type": "code",
   "execution_count": 4,
   "metadata": {
    "scrolled": true
   },
   "outputs": [
    {
     "data": {
      "text/plain": [
       "Uniq Id              24\n",
       "Crawl Timestamp      24\n",
       "Pageurl              24\n",
       "Title                24\n",
       "Genres                6\n",
       "Release Date         23\n",
       "Movie Rating          1\n",
       "Review Rating        13\n",
       "Movie Run Time       17\n",
       "Plot                 24\n",
       "Cast                 21\n",
       "Language             12\n",
       "Filming Locations    15\n",
       "Budget               13\n",
       "Collection           22\n",
       "Collection Date       4\n",
       "dtype: int64"
      ]
     },
     "execution_count": 4,
     "metadata": {},
     "output_type": "execute_result"
    }
   ],
   "source": [
    "df.nunique()"
   ]
  },
  {
   "cell_type": "markdown",
   "metadata": {},
   "source": [
    "O-kay... seems like we have 16 colums and some of the values are empty.. <br>\n",
    "And it looks like a lot of the columns need processing. <br>\n",
    "We can defitenly drop the Uniq Id, collection date column & crawl timestamp though.<br>\n",
    "Also, we will drop Movie Rating column because all values are the same (PG-13).<br>\n",
    "Also, we can just drop the row with Guardians of Galaxy 3 becuase it's not release yet & barely has any information."
   ]
  },
  {
   "cell_type": "markdown",
   "metadata": {},
   "source": [
    "## 2. Data Cleaning\n",
    "In this step, we'll do the following things:\n",
    "1. Treat the missing values\n",
    "2. Make it clean!"
   ]
  },
  {
   "cell_type": "markdown",
   "metadata": {},
   "source": [
    "### 2-1 Treat the missing values"
   ]
  },
  {
   "cell_type": "code",
   "execution_count": 5,
   "metadata": {},
   "outputs": [
    {
     "name": "stdout",
     "output_type": "stream",
     "text": [
      "Pageurl              0\n",
      "Title                0\n",
      "Genres               1\n",
      "Release Date         0\n",
      "Review Rating        1\n",
      "Movie Run Time       1\n",
      "Plot                 0\n",
      "Cast                 1\n",
      "Language             0\n",
      "Filming Locations    0\n",
      "Budget               2\n",
      "Collection           1\n",
      "dtype: int64\n"
     ]
    }
   ],
   "source": [
    "df = df.drop(columns= [\"Uniq Id\",\"Crawl Timestamp\",\"Collection Date\", \"Movie Rating\"])\n",
    "df = df.drop([0], axis=0)\n",
    "\n",
    "print(df.isnull().sum())"
   ]
  },
  {
   "cell_type": "markdown",
   "metadata": {},
   "source": [
    "Cool, it's better now... except that it is not. <br>\n",
    "Seems like there are some null values still..\n",
    "Let's find out by printing them."
   ]
  },
  {
   "cell_type": "code",
   "execution_count": 6,
   "metadata": {},
   "outputs": [
    {
     "data": {
      "text/html": [
       "<div>\n",
       "<style scoped>\n",
       "    .dataframe tbody tr th:only-of-type {\n",
       "        vertical-align: middle;\n",
       "    }\n",
       "\n",
       "    .dataframe tbody tr th {\n",
       "        vertical-align: top;\n",
       "    }\n",
       "\n",
       "    .dataframe thead th {\n",
       "        text-align: right;\n",
       "    }\n",
       "</style>\n",
       "<table border=\"1\" class=\"dataframe\">\n",
       "  <thead>\n",
       "    <tr style=\"text-align: right;\">\n",
       "      <th></th>\n",
       "      <th>Pageurl</th>\n",
       "      <th>Title</th>\n",
       "      <th>Genres</th>\n",
       "      <th>Release Date</th>\n",
       "      <th>Review Rating</th>\n",
       "      <th>Movie Run Time</th>\n",
       "      <th>Plot</th>\n",
       "      <th>Cast</th>\n",
       "      <th>Language</th>\n",
       "      <th>Filming Locations</th>\n",
       "      <th>Budget</th>\n",
       "      <th>Collection</th>\n",
       "    </tr>\n",
       "  </thead>\n",
       "  <tbody>\n",
       "    <tr>\n",
       "      <th>10</th>\n",
       "      <td>https://www.imdb.com/title/tt6320628/</td>\n",
       "      <td>Spider-Man: Far from Home (2019) - IMDb</td>\n",
       "      <td>NaN</td>\n",
       "      <td>2 July 2019 (USA)</td>\n",
       "      <td>NaN</td>\n",
       "      <td>NaN</td>\n",
       "      <td>Directed by Jon Watts. With Zendaya, Tom Holla...</td>\n",
       "      <td>NaN</td>\n",
       "      <td>English</td>\n",
       "      <td>Hertfordshire, England, UK</td>\n",
       "      <td>NaN</td>\n",
       "      <td>NaN</td>\n",
       "    </tr>\n",
       "  </tbody>\n",
       "</table>\n",
       "</div>"
      ],
      "text/plain": [
       "                                  Pageurl  \\\n",
       "10  https://www.imdb.com/title/tt6320628/   \n",
       "\n",
       "                                      Title Genres        Release Date  \\\n",
       "10  Spider-Man: Far from Home (2019) - IMDb    NaN  2 July 2019 (USA)    \n",
       "\n",
       "    Review Rating Movie Run Time  \\\n",
       "10            NaN            NaN   \n",
       "\n",
       "                                                 Plot Cast Language  \\\n",
       "10  Directed by Jon Watts. With Zendaya, Tom Holla...  NaN  English   \n",
       "\n",
       "             Filming Locations Budget Collection  \n",
       "10  Hertfordshire, England, UK    NaN        NaN  "
      ]
     },
     "metadata": {},
     "output_type": "display_data"
    },
    {
     "data": {
      "text/html": [
       "<div>\n",
       "<style scoped>\n",
       "    .dataframe tbody tr th:only-of-type {\n",
       "        vertical-align: middle;\n",
       "    }\n",
       "\n",
       "    .dataframe tbody tr th {\n",
       "        vertical-align: top;\n",
       "    }\n",
       "\n",
       "    .dataframe thead th {\n",
       "        text-align: right;\n",
       "    }\n",
       "</style>\n",
       "<table border=\"1\" class=\"dataframe\">\n",
       "  <thead>\n",
       "    <tr style=\"text-align: right;\">\n",
       "      <th></th>\n",
       "      <th>Pageurl</th>\n",
       "      <th>Title</th>\n",
       "      <th>Genres</th>\n",
       "      <th>Release Date</th>\n",
       "      <th>Review Rating</th>\n",
       "      <th>Movie Run Time</th>\n",
       "      <th>Plot</th>\n",
       "      <th>Cast</th>\n",
       "      <th>Language</th>\n",
       "      <th>Filming Locations</th>\n",
       "      <th>Budget</th>\n",
       "      <th>Collection</th>\n",
       "    </tr>\n",
       "  </thead>\n",
       "  <tbody>\n",
       "    <tr>\n",
       "      <th>6</th>\n",
       "      <td>https://www.imdb.com/title/tt4154664/</td>\n",
       "      <td>Captain Marvel (2019) - IMDb</td>\n",
       "      <td>Action|Adventure|Sci-Fi</td>\n",
       "      <td>8 March 2019 (USA)</td>\n",
       "      <td>7.1</td>\n",
       "      <td>123 min</td>\n",
       "      <td>Directed by Anna Boden, Ryan Fleck. With Brie ...</td>\n",
       "      <td>Brie Larson|Samuel L. Jackson|Ben Mendelsohn|J...</td>\n",
       "      <td>English</td>\n",
       "      <td>Los Angeles, California, USA</td>\n",
       "      <td>NaN</td>\n",
       "      <td>$1,126,318,317,</td>\n",
       "    </tr>\n",
       "    <tr>\n",
       "      <th>10</th>\n",
       "      <td>https://www.imdb.com/title/tt6320628/</td>\n",
       "      <td>Spider-Man: Far from Home (2019) - IMDb</td>\n",
       "      <td>NaN</td>\n",
       "      <td>2 July 2019 (USA)</td>\n",
       "      <td>NaN</td>\n",
       "      <td>NaN</td>\n",
       "      <td>Directed by Jon Watts. With Zendaya, Tom Holla...</td>\n",
       "      <td>NaN</td>\n",
       "      <td>English</td>\n",
       "      <td>Hertfordshire, England, UK</td>\n",
       "      <td>NaN</td>\n",
       "      <td>NaN</td>\n",
       "    </tr>\n",
       "  </tbody>\n",
       "</table>\n",
       "</div>"
      ],
      "text/plain": [
       "                                  Pageurl  \\\n",
       "6   https://www.imdb.com/title/tt4154664/   \n",
       "10  https://www.imdb.com/title/tt6320628/   \n",
       "\n",
       "                                      Title                   Genres  \\\n",
       "6              Captain Marvel (2019) - IMDb  Action|Adventure|Sci-Fi   \n",
       "10  Spider-Man: Far from Home (2019) - IMDb                      NaN   \n",
       "\n",
       "           Release Date  Review Rating Movie Run Time  \\\n",
       "6   8 March 2019 (USA)             7.1        123 min   \n",
       "10   2 July 2019 (USA)             NaN            NaN   \n",
       "\n",
       "                                                 Plot  \\\n",
       "6   Directed by Anna Boden, Ryan Fleck. With Brie ...   \n",
       "10  Directed by Jon Watts. With Zendaya, Tom Holla...   \n",
       "\n",
       "                                                 Cast Language  \\\n",
       "6   Brie Larson|Samuel L. Jackson|Ben Mendelsohn|J...  English   \n",
       "10                                                NaN  English   \n",
       "\n",
       "               Filming Locations Budget       Collection  \n",
       "6   Los Angeles, California, USA    NaN  $1,126,318,317,  \n",
       "10    Hertfordshire, England, UK    NaN              NaN  "
      ]
     },
     "metadata": {},
     "output_type": "display_data"
    },
    {
     "name": "stdout",
     "output_type": "stream",
     "text": [
      "Null values in the dataframe without these 2 movies:\n"
     ]
    },
    {
     "data": {
      "text/plain": [
       "Pageurl              0\n",
       "Title                0\n",
       "Genres               0\n",
       "Release Date         0\n",
       "Review Rating        0\n",
       "Movie Run Time       0\n",
       "Plot                 0\n",
       "Cast                 0\n",
       "Language             0\n",
       "Filming Locations    0\n",
       "Budget               0\n",
       "Collection           0\n",
       "dtype: int64"
      ]
     },
     "execution_count": 6,
     "metadata": {},
     "output_type": "execute_result"
    }
   ],
   "source": [
    "display(df[df.Genres.isnull()])\n",
    "display(df[df.Budget.isnull()])\n",
    "\n",
    "print(\"Null values in the dataframe without these 2 movies:\")\n",
    "#print(df.drop([6,10], axis=0).info())\n",
    "df.drop([6,10]).isnull().sum()"
   ]
  },
  {
   "cell_type": "markdown",
   "metadata": {},
   "source": [
    "It turns out only 2 movies (Captain Marvel and Spider-Man:Far From Home) has some empty valus.<br>\n",
    "Luckily, it seems like we can fill out these values by googling."
   ]
  },
  {
   "cell_type": "code",
   "execution_count": 7,
   "metadata": {},
   "outputs": [
    {
     "name": "stdout",
     "output_type": "stream",
     "text": [
      "<class 'pandas.core.frame.DataFrame'>\n",
      "Int64Index: 23 entries, 1 to 23\n",
      "Data columns (total 12 columns):\n",
      " #   Column             Non-Null Count  Dtype  \n",
      "---  ------             --------------  -----  \n",
      " 0   Pageurl            23 non-null     object \n",
      " 1   Title              23 non-null     object \n",
      " 2   Genres             23 non-null     object \n",
      " 3   Release Date       23 non-null     object \n",
      " 4   Review Rating      23 non-null     float64\n",
      " 5   Movie Run Time     23 non-null     object \n",
      " 6   Plot               23 non-null     object \n",
      " 7   Cast               23 non-null     object \n",
      " 8   Language           23 non-null     object \n",
      " 9   Filming Locations  23 non-null     object \n",
      " 10  Budget             23 non-null     object \n",
      " 11  Collection         23 non-null     object \n",
      "dtypes: float64(1), object(11)\n",
      "memory usage: 3.0+ KB\n"
     ]
    },
    {
     "data": {
      "text/plain": [
       "None"
      ]
     },
     "metadata": {},
     "output_type": "display_data"
    }
   ],
   "source": [
    "df.loc[6,\"Budget\"] =  \"$152,000,000\"\n",
    "#https://variety.com/2019/film/news/captain-marvel-box-office-opening-thursday-1203158181/\n",
    "\n",
    "df.loc[10, \"Genres\"] = 'Action | Adventure | Sci-Fi'\n",
    "df.loc[10, \"Review Rating\"] = 7.5\n",
    "df.loc[10, \"Movie Run Time\"] = '129 min'\n",
    "df.loc[10, \"Cast\"] = 'Tom Holland|Samuel L. Jackson|Jake Gyllenhaal|Marisa Tomei'\n",
    "df.loc[10, \"Budget\"] = '$160,000,000'\n",
    "df.loc[10, \"Collection\"] = '$1,132,000,000'\n",
    "#https://www.imdb.com/title/tt6320628/\n",
    "\n",
    "display(df.info())"
   ]
  },
  {
   "cell_type": "markdown",
   "metadata": {},
   "source": [
    "### 2-2 Make it clean!\n",
    "\n",
    "Cool. We successfully filled out the empty values - Now it's time to rightfully process the column values. <br>\n",
    "First, let's examine the dataset again."
   ]
  },
  {
   "cell_type": "code",
   "execution_count": 8,
   "metadata": {},
   "outputs": [
    {
     "data": {
      "text/html": [
       "<div>\n",
       "<style scoped>\n",
       "    .dataframe tbody tr th:only-of-type {\n",
       "        vertical-align: middle;\n",
       "    }\n",
       "\n",
       "    .dataframe tbody tr th {\n",
       "        vertical-align: top;\n",
       "    }\n",
       "\n",
       "    .dataframe thead th {\n",
       "        text-align: right;\n",
       "    }\n",
       "</style>\n",
       "<table border=\"1\" class=\"dataframe\">\n",
       "  <thead>\n",
       "    <tr style=\"text-align: right;\">\n",
       "      <th></th>\n",
       "      <th>Pageurl</th>\n",
       "      <th>Title</th>\n",
       "      <th>Genres</th>\n",
       "      <th>Release Date</th>\n",
       "      <th>Review Rating</th>\n",
       "      <th>Movie Run Time</th>\n",
       "      <th>Plot</th>\n",
       "      <th>Cast</th>\n",
       "      <th>Language</th>\n",
       "      <th>Filming Locations</th>\n",
       "      <th>Budget</th>\n",
       "      <th>Collection</th>\n",
       "    </tr>\n",
       "  </thead>\n",
       "  <tbody>\n",
       "    <tr>\n",
       "      <th>1</th>\n",
       "      <td>https://www.imdb.com/title/tt1228705/</td>\n",
       "      <td>Iron Man 2 (2010) - IMDb</td>\n",
       "      <td>Action|Adventure|Sci-Fi</td>\n",
       "      <td>7 May 2010 (USA)</td>\n",
       "      <td>7.0</td>\n",
       "      <td>124 min</td>\n",
       "      <td>Directed by Jon Favreau. With Robert Downey Jr...</td>\n",
       "      <td>Robert Downey Jr.|Mickey Rourke|Gwyneth Paltro...</td>\n",
       "      <td>English|French|Russian</td>\n",
       "      <td>D.C. Stages, 1360 East 6th Street, Downtown, L...</td>\n",
       "      <td>$200,000,000</td>\n",
       "      <td>$623,933,331,</td>\n",
       "    </tr>\n",
       "    <tr>\n",
       "      <th>2</th>\n",
       "      <td>https://www.imdb.com/title/tt2015381/</td>\n",
       "      <td>Guardians of the Galaxy (2014) - IMDb</td>\n",
       "      <td>Action|Adventure|Comedy|Sci-Fi</td>\n",
       "      <td>1 August 2014 (USA)</td>\n",
       "      <td>8.1</td>\n",
       "      <td>121 min</td>\n",
       "      <td>Directed by James Gunn. With Chris Pratt, Vin ...</td>\n",
       "      <td>Chris Pratt|Vin Diesel|Bradley Cooper|Zoe Saldana</td>\n",
       "      <td>English</td>\n",
       "      <td>Shepperton Studios, Shepperton, Surrey, Englan...</td>\n",
       "      <td>$170,000,000</td>\n",
       "      <td>$774,176,600</td>\n",
       "    </tr>\n",
       "    <tr>\n",
       "      <th>3</th>\n",
       "      <td>https://www.imdb.com/title/tt1825683/</td>\n",
       "      <td>Black Panther (2018) - IMDb</td>\n",
       "      <td>Action|Adventure|Sci-Fi</td>\n",
       "      <td>16 February 2018 (USA)</td>\n",
       "      <td>7.3</td>\n",
       "      <td>134 min</td>\n",
       "      <td>Directed by Ryan Coogler. With Chadwick Bosema...</td>\n",
       "      <td>Chadwick Boseman|Michael B. Jordan|Lupita Nyon...</td>\n",
       "      <td>English|Swahili|Nama|Xhosa|Korean</td>\n",
       "      <td>Pinewood Atlanta Studios, 461 Sandy Creek Road...</td>\n",
       "      <td>$200,000,000</td>\n",
       "      <td>$1,347,071,259</td>\n",
       "    </tr>\n",
       "    <tr>\n",
       "      <th>4</th>\n",
       "      <td>https://www.imdb.com/title/tt1300854/</td>\n",
       "      <td>Iron Man 3 (2013) - IMDb</td>\n",
       "      <td>Action|Adventure|Sci-Fi</td>\n",
       "      <td>3 May 2013 (USA)</td>\n",
       "      <td>7.2</td>\n",
       "      <td>130 min</td>\n",
       "      <td>Directed by Shane Black. With Robert Downey Jr...</td>\n",
       "      <td>Robert Downey Jr.|Guy Pearce|Gwyneth Paltrow|D...</td>\n",
       "      <td>English</td>\n",
       "      <td>Cary, North Carolina, USA</td>\n",
       "      <td>$200,000,000</td>\n",
       "      <td>$1,215,439,994</td>\n",
       "    </tr>\n",
       "    <tr>\n",
       "      <th>5</th>\n",
       "      <td>https://www.imdb.com/title/tt0800080/</td>\n",
       "      <td>The Incredible Hulk (2008) - IMDb</td>\n",
       "      <td>Action|Adventure|Sci-Fi</td>\n",
       "      <td>13 June 2008 (USA)</td>\n",
       "      <td>6.7</td>\n",
       "      <td>112 min</td>\n",
       "      <td>Directed by Louis Leterrier. With Edward Norto...</td>\n",
       "      <td>Edward Norton|Liv Tyler|Tim Roth|William Hurt</td>\n",
       "      <td>English|Portuguese|Spanish</td>\n",
       "      <td>Cherry Street Bridge, Toronto, Ontario, Canada</td>\n",
       "      <td>$150,000,000</td>\n",
       "      <td>$263,427,551</td>\n",
       "    </tr>\n",
       "  </tbody>\n",
       "</table>\n",
       "</div>"
      ],
      "text/plain": [
       "                                 Pageurl  \\\n",
       "1  https://www.imdb.com/title/tt1228705/   \n",
       "2  https://www.imdb.com/title/tt2015381/   \n",
       "3  https://www.imdb.com/title/tt1825683/   \n",
       "4  https://www.imdb.com/title/tt1300854/   \n",
       "5  https://www.imdb.com/title/tt0800080/   \n",
       "\n",
       "                                   Title                          Genres  \\\n",
       "1               Iron Man 2 (2010) - IMDb         Action|Adventure|Sci-Fi   \n",
       "2  Guardians of the Galaxy (2014) - IMDb  Action|Adventure|Comedy|Sci-Fi   \n",
       "3            Black Panther (2018) - IMDb         Action|Adventure|Sci-Fi   \n",
       "4               Iron Man 3 (2013) - IMDb         Action|Adventure|Sci-Fi   \n",
       "5      The Incredible Hulk (2008) - IMDb         Action|Adventure|Sci-Fi   \n",
       "\n",
       "              Release Date  Review Rating Movie Run Time  \\\n",
       "1        7 May 2010 (USA)             7.0        124 min   \n",
       "2     1 August 2014 (USA)             8.1        121 min   \n",
       "3  16 February 2018 (USA)             7.3        134 min   \n",
       "4        3 May 2013 (USA)             7.2        130 min   \n",
       "5      13 June 2008 (USA)             6.7        112 min   \n",
       "\n",
       "                                                Plot  \\\n",
       "1  Directed by Jon Favreau. With Robert Downey Jr...   \n",
       "2  Directed by James Gunn. With Chris Pratt, Vin ...   \n",
       "3  Directed by Ryan Coogler. With Chadwick Bosema...   \n",
       "4  Directed by Shane Black. With Robert Downey Jr...   \n",
       "5  Directed by Louis Leterrier. With Edward Norto...   \n",
       "\n",
       "                                                Cast  \\\n",
       "1  Robert Downey Jr.|Mickey Rourke|Gwyneth Paltro...   \n",
       "2  Chris Pratt|Vin Diesel|Bradley Cooper|Zoe Saldana   \n",
       "3  Chadwick Boseman|Michael B. Jordan|Lupita Nyon...   \n",
       "4  Robert Downey Jr.|Guy Pearce|Gwyneth Paltrow|D...   \n",
       "5      Edward Norton|Liv Tyler|Tim Roth|William Hurt   \n",
       "\n",
       "                            Language  \\\n",
       "1             English|French|Russian   \n",
       "2                            English   \n",
       "3  English|Swahili|Nama|Xhosa|Korean   \n",
       "4                            English   \n",
       "5         English|Portuguese|Spanish   \n",
       "\n",
       "                                   Filming Locations           Budget  \\\n",
       "1  D.C. Stages, 1360 East 6th Street, Downtown, L...   $200,000,000     \n",
       "2  Shepperton Studios, Shepperton, Surrey, Englan...   $170,000,000     \n",
       "3  Pinewood Atlanta Studios, 461 Sandy Creek Road...   $200,000,000     \n",
       "4                          Cary, North Carolina, USA   $200,000,000     \n",
       "5     Cherry Street Bridge, Toronto, Ontario, Canada   $150,000,000     \n",
       "\n",
       "       Collection  \n",
       "1   $623,933,331,  \n",
       "2    $774,176,600  \n",
       "3  $1,347,071,259  \n",
       "4  $1,215,439,994  \n",
       "5    $263,427,551  "
      ]
     },
     "execution_count": 8,
     "metadata": {},
     "output_type": "execute_result"
    }
   ],
   "source": [
    "df.head()"
   ]
  },
  {
   "cell_type": "markdown",
   "metadata": {},
   "source": [
    "Okay... let's think for a minute. <br>\n",
    "First, It will be better to change the column names to simpler ones."
   ]
  },
  {
   "cell_type": "code",
   "execution_count": 9,
   "metadata": {},
   "outputs": [
    {
     "name": "stdout",
     "output_type": "stream",
     "text": [
      "Index(['url', 'title', 'genres', 'date', 'score', 'runtime', 'plots', 'cast',\n",
      "       'language', 'locations', 'budget', 'collection'],\n",
      "      dtype='object')\n"
     ]
    }
   ],
   "source": [
    "df.columns = map(str.lower, df.columns)\n",
    "df = df.rename(columns={\"pageurl\":\"url\", \"release date\":\"date\", \"review rating\":\"score\", \"movie run time\":\"runtime\", \"plot\":\"plots\",\n",
    "                   \"filming locations\":\"locations\"})\n",
    "print(df.columns)"
   ]
  },
  {
   "cell_type": "markdown",
   "metadata": {},
   "source": [
    "Also, The following things needs to be done for cleansing data.\n",
    "\n",
    "---\n",
    "Title -> drop the '(year) - IMDb' part.<br>\n",
    "Genres -> replace '|' to ',' <br>\n",
    "Release Date -> drop the (USA) part and covert the string to datetime. <br>\n",
    "Movie Run time -> drop \"min\" part and convert the string to int. <br>\n",
    "Plot -> We can extract the 'Directed by ~.' sentence and make it to another column. <br>\n",
    "Cast -> seperate them into multiple columns (1st cast, 2nd cast..) <br>\n",
    "Language -> replace '|' to ',' <br>\n",
    "Filming Locations -> Maybe we can convert them into coordiates?  <br>\n",
    "Budget & Collection -> remove \"$\" and \",\" and convert them into int value. Also we can create a profit column by \n",
    "calculating these columns.\n",
    "\n",
    "----\n",
    "After this, we will sort the movies by releasing date and reset index. "
   ]
  },
  {
   "cell_type": "code",
   "execution_count": 10,
   "metadata": {},
   "outputs": [
    {
     "data": {
      "text/html": [
       "<div>\n",
       "<style scoped>\n",
       "    .dataframe tbody tr th:only-of-type {\n",
       "        vertical-align: middle;\n",
       "    }\n",
       "\n",
       "    .dataframe tbody tr th {\n",
       "        vertical-align: top;\n",
       "    }\n",
       "\n",
       "    .dataframe thead th {\n",
       "        text-align: right;\n",
       "    }\n",
       "</style>\n",
       "<table border=\"1\" class=\"dataframe\">\n",
       "  <thead>\n",
       "    <tr style=\"text-align: right;\">\n",
       "      <th></th>\n",
       "      <th>title</th>\n",
       "      <th>genres</th>\n",
       "      <th>date</th>\n",
       "      <th>score</th>\n",
       "      <th>runtime</th>\n",
       "      <th>language</th>\n",
       "      <th>locations</th>\n",
       "      <th>budget</th>\n",
       "      <th>collection</th>\n",
       "      <th>actor_1</th>\n",
       "      <th>actor_2</th>\n",
       "      <th>actor_3</th>\n",
       "      <th>actor_4</th>\n",
       "      <th>director</th>\n",
       "      <th>story</th>\n",
       "    </tr>\n",
       "  </thead>\n",
       "  <tbody>\n",
       "    <tr>\n",
       "      <th>0</th>\n",
       "      <td>Iron Man</td>\n",
       "      <td>Action,Adventure,Sci-Fi</td>\n",
       "      <td>2008-05-02</td>\n",
       "      <td>7.9</td>\n",
       "      <td>126</td>\n",
       "      <td>English,Persian,Urdu,Arabic,Hungarian</td>\n",
       "      <td>Palmdale Regional Airport, Palmdale, Californi...</td>\n",
       "      <td>140000000</td>\n",
       "      <td>585174222</td>\n",
       "      <td>Robert Downey Jr.</td>\n",
       "      <td>Gwyneth Paltrow</td>\n",
       "      <td>Terrence Howard</td>\n",
       "      <td>Jeff Bridges</td>\n",
       "      <td>Jon Favreau</td>\n",
       "      <td>After being held captive in an Afghan cave, bi...</td>\n",
       "    </tr>\n",
       "    <tr>\n",
       "      <th>1</th>\n",
       "      <td>The Incredible Hulk</td>\n",
       "      <td>Action,Adventure,Sci-Fi</td>\n",
       "      <td>2008-06-13</td>\n",
       "      <td>6.7</td>\n",
       "      <td>112</td>\n",
       "      <td>English,Portuguese,Spanish</td>\n",
       "      <td>Cherry Street Bridge, Toronto, Ontario, Canada</td>\n",
       "      <td>150000000</td>\n",
       "      <td>263427551</td>\n",
       "      <td>Edward Norton</td>\n",
       "      <td>Liv Tyler</td>\n",
       "      <td>Tim Roth</td>\n",
       "      <td>William Hurt</td>\n",
       "      <td>Louis Leterrier</td>\n",
       "      <td>Government, must find a cure for the monster h...</td>\n",
       "    </tr>\n",
       "    <tr>\n",
       "      <th>2</th>\n",
       "      <td>Iron Man 2</td>\n",
       "      <td>Action,Adventure,Sci-Fi</td>\n",
       "      <td>2010-05-07</td>\n",
       "      <td>7.0</td>\n",
       "      <td>124</td>\n",
       "      <td>English,French,Russian</td>\n",
       "      <td>D.C. Stages, 1360 East 6th Street, Downtown, L...</td>\n",
       "      <td>200000000</td>\n",
       "      <td>623933331</td>\n",
       "      <td>Robert Downey Jr.</td>\n",
       "      <td>Mickey Rourke</td>\n",
       "      <td>Gwyneth Paltrow</td>\n",
       "      <td>Don Cheadle</td>\n",
       "      <td>Jon Favreau</td>\n",
       "      <td>With the world now aware of his identity as Ir...</td>\n",
       "    </tr>\n",
       "    <tr>\n",
       "      <th>3</th>\n",
       "      <td>Thor</td>\n",
       "      <td>Action,Adventure,Fantasy,Sci-Fi</td>\n",
       "      <td>2011-05-06</td>\n",
       "      <td>7.0</td>\n",
       "      <td>115</td>\n",
       "      <td>English</td>\n",
       "      <td>Galisteo, New Mexico, USA</td>\n",
       "      <td>150000000</td>\n",
       "      <td>449326618</td>\n",
       "      <td>Chris Hemsworth</td>\n",
       "      <td>Anthony Hopkins</td>\n",
       "      <td>Natalie Portman</td>\n",
       "      <td>Tom Hiddleston</td>\n",
       "      <td>Kenneth Branagh</td>\n",
       "      <td>The powerful but arrogant god Thor (Chris Hems...</td>\n",
       "    </tr>\n",
       "    <tr>\n",
       "      <th>4</th>\n",
       "      <td>Captain America: The First Avenger</td>\n",
       "      <td>Action,Adventure,Sci-Fi</td>\n",
       "      <td>2011-07-22</td>\n",
       "      <td>6.9</td>\n",
       "      <td>124</td>\n",
       "      <td>English,Norwegian,French</td>\n",
       "      <td>Stanley Dock, Liverpool, Merseyside, England, UK</td>\n",
       "      <td>140000000</td>\n",
       "      <td>370569774</td>\n",
       "      <td>Chris Evans</td>\n",
       "      <td>Hugo Weaving</td>\n",
       "      <td>Samuel L. Jackson</td>\n",
       "      <td>Hayley Atwell</td>\n",
       "      <td>Joe Johnston</td>\n",
       "      <td>But being Captain America comes at a price as ...</td>\n",
       "    </tr>\n",
       "  </tbody>\n",
       "</table>\n",
       "</div>"
      ],
      "text/plain": [
       "                                title                           genres  \\\n",
       "0                            Iron Man          Action,Adventure,Sci-Fi   \n",
       "1                 The Incredible Hulk          Action,Adventure,Sci-Fi   \n",
       "2                          Iron Man 2          Action,Adventure,Sci-Fi   \n",
       "3                                Thor  Action,Adventure,Fantasy,Sci-Fi   \n",
       "4  Captain America: The First Avenger          Action,Adventure,Sci-Fi   \n",
       "\n",
       "        date  score  runtime                               language  \\\n",
       "0 2008-05-02    7.9      126  English,Persian,Urdu,Arabic,Hungarian   \n",
       "1 2008-06-13    6.7      112             English,Portuguese,Spanish   \n",
       "2 2010-05-07    7.0      124                 English,French,Russian   \n",
       "3 2011-05-06    7.0      115                                English   \n",
       "4 2011-07-22    6.9      124               English,Norwegian,French   \n",
       "\n",
       "                                           locations     budget  collection  \\\n",
       "0  Palmdale Regional Airport, Palmdale, Californi...  140000000   585174222   \n",
       "1     Cherry Street Bridge, Toronto, Ontario, Canada  150000000   263427551   \n",
       "2  D.C. Stages, 1360 East 6th Street, Downtown, L...  200000000   623933331   \n",
       "3                          Galisteo, New Mexico, USA  150000000   449326618   \n",
       "4   Stanley Dock, Liverpool, Merseyside, England, UK  140000000   370569774   \n",
       "\n",
       "             actor_1          actor_2            actor_3         actor_4  \\\n",
       "0  Robert Downey Jr.  Gwyneth Paltrow    Terrence Howard    Jeff Bridges   \n",
       "1      Edward Norton        Liv Tyler           Tim Roth    William Hurt   \n",
       "2  Robert Downey Jr.    Mickey Rourke    Gwyneth Paltrow     Don Cheadle   \n",
       "3    Chris Hemsworth  Anthony Hopkins    Natalie Portman  Tom Hiddleston   \n",
       "4        Chris Evans     Hugo Weaving  Samuel L. Jackson   Hayley Atwell   \n",
       "\n",
       "          director                                              story  \n",
       "0      Jon Favreau  After being held captive in an Afghan cave, bi...  \n",
       "1  Louis Leterrier  Government, must find a cure for the monster h...  \n",
       "2      Jon Favreau  With the world now aware of his identity as Ir...  \n",
       "3  Kenneth Branagh  The powerful but arrogant god Thor (Chris Hems...  \n",
       "4     Joe Johnston  But being Captain America comes at a price as ...  "
      ]
     },
     "metadata": {},
     "output_type": "display_data"
    }
   ],
   "source": [
    "from datetime import datetime\n",
    "import re \n",
    "\n",
    "def cleaning_df(df):\n",
    "    clean_df = df.copy()\n",
    "    clean_df.title = df.title.str.split(\" \\(\").str[0]\n",
    "    clean_df.genres = df.genres.str.replace('|',',')\n",
    "    clean_df.date = df.date.str.split(\" \\(\").str[0]\n",
    "    clean_df.date= pd.to_datetime(df.date.str.split(\" \\(\").str[0])\n",
    "    clean_df.runtime = df.runtime.str.split(\" min\").str[0].astype(int)\n",
    "    clean_df.language = df.language.str.replace('|',',')\n",
    "    clean_df.budget = df.budget.str.replace('$',\"\").str.replace(\",\",\"\").astype(int)\n",
    "    clean_df.collection = df.collection.str.replace('$',\"\").str.replace(\",\",\"\").astype(int)\n",
    "    \n",
    "    for i in range(clean_df.cast.count()):\n",
    "        clean_df.loc[i+1, \"actor_1\"] = df.loc[i+1, \"cast\"].split(\"|\")[0]\n",
    "        clean_df.loc[i+1, \"actor_2\"] = df.loc[i+1, \"cast\"].split(\"|\")[1]\n",
    "        clean_df.loc[i+1, \"actor_3\"] = df.loc[i+1, \"cast\"].split(\"|\")[2]\n",
    "        clean_df.loc[i+1, \"actor_4\"] = df.loc[i+1, \"cast\"].split(\"|\")[3]\n",
    "    \n",
    "    for i in range(clean_df.plots.count()):\n",
    "        m = re.split(r'(?<=[^A-Z].[.?]) +(?=[A-Z])', df.loc[i+1,\"plots\"])\n",
    "        director = re.search('Directed by (.+?)\\.', m[0]).group(1)\n",
    "        plots = m[-1] # not 100% accurate. has to drop the sentence with \"With~\"\n",
    "        clean_df.loc[i+1,\"director\"] = director\n",
    "        clean_df.loc[i+1,\"story\"] = plots\n",
    "    \n",
    "    clean_df = clean_df.sort_values(\"date\")\n",
    "    clean_df = clean_df.reset_index()\n",
    "    clean_df = clean_df.drop(columns= [\"plots\",\"cast\",\"url\", \"index\"], axis=1)\n",
    "    return clean_df\n",
    "\n",
    "clean_df = cleaning_df(df)\n",
    "\n",
    "display(clean_df.head())"
   ]
  },
  {
   "cell_type": "markdown",
   "metadata": {},
   "source": [
    "## 3. Feature Engineering\n",
    "\n",
    "In this step, we'll do the following things:\n",
    "1. Get geocodes & countries of the filming location using geopy.\n",
    "2. Calculate profit and the ROI.\n",
    "3. Get actors' genders using gender_guesser\n",
    "\n",
    "### 3-1 Get geocodes"
   ]
  },
  {
   "cell_type": "code",
   "execution_count": 11,
   "metadata": {},
   "outputs": [
    {
     "name": "stdout",
     "output_type": "stream",
     "text": [
      "Requirement already satisfied: geopy in /Users/yoonhyejin/anaconda3/lib/python3.8/site-packages (2.0.0)\n",
      "Requirement already satisfied: geographiclib<2,>=1.49 in /Users/yoonhyejin/anaconda3/lib/python3.8/site-packages (from geopy) (1.50)\n",
      "Note: you may need to restart the kernel to use updated packages.\n"
     ]
    }
   ],
   "source": [
    "pip install geopy"
   ]
  },
  {
   "cell_type": "code",
   "execution_count": 106,
   "metadata": {},
   "outputs": [],
   "source": [
    "from geopy.geocoders import Nominatim\n",
    "import time\n",
    "from geopy.exc import GeocoderTimedOut\n",
    "\n",
    "def get_geocodes(clean_df):\n",
    "    locator = Nominatim(user_agent=\"myGeocoder\")\n",
    "    clean_df.locations = clean_df.locations.replace(\"D.C. Stages, 1360 East 6th Street, Downtown, Los Angeles, California, USA\", \n",
    "                                                    \"1360 E 6th St, Los Angeles, CA 90021, United States\")\n",
    "    clean_df.locations = clean_df.locations.replace(\"Shepperton Studios, Shepperton, Surrey, England, UK\", \n",
    "                                                    \"Studios Rd, Shepperton TW17 0QD, United Kingdom\")\n",
    "    clean_df.locations = clean_df.locations.replace(\"Pinewood Atlanta Studios, 461 Sandy Creek Road, Fayetteville, Georgia, USA\", \n",
    "                                                    \"461 Sandy Creek Rd, Fayetteville, GA 30214, United States\")\n",
    "    clean_df.locations = clean_df.locations.replace(\"Stanley Dock, Liverpool, Merseyside, England, UK\", \n",
    "                                                    \"Regent Rd, Liverpool L3 0AN, United Kingdom\")\n",
    "    clean_df.locations = clean_df.locations.replace(\"Palmdale Regional Airport, Palmdale, California, USA\", \n",
    "                                                    \"41000 20 St E, Palmdale, CA 93550, United States\")\n",
    "    for i in range(clean_df.locations.count()):\n",
    "        try:\n",
    "            location = locator.geocode(clean_df.loc[i, \"locations\"])\n",
    "            if location != None:\n",
    "                clean_df.loc[i, \"longitude\"] = location.longitude\n",
    "                clean_df.loc[i, \"latitude\"] = location.latitude\n",
    "        except GeocoderTimedOut as e:\n",
    "            debug('retrying_set_location: geocoder exception ({}), retrying'.format(str(e)))\n",
    "            \n",
    "        #Fill Nans\n",
    "        clean_df.loc[clean_df.title == 'Iron Man', \"longitude\"] = 118.0833\n",
    "        clean_df.loc[clean_df.title == 'Iron Man', \"latitude\"] =34.6275\n",
    "        \n",
    "        clean_df.loc[clean_df.locations == \"Studios Rd, Shepperton TW17 0QD, United Kingdom\", \"longitude\"] = -0.4655 \n",
    "        clean_df.loc[clean_df.locations == \"Studios Rd, Shepperton TW17 0QD, United Kingdom\", \"latitude\"] = 51.4068\n",
    "\n",
    "        \n",
    "        time.sleep(1.25) \n",
    "    return clean_df\n",
    "\n",
    "clean_df = get_geocodes(clean_df)"
   ]
  },
  {
   "cell_type": "code",
   "execution_count": 107,
   "metadata": {},
   "outputs": [],
   "source": [
    "def get_country(clean_df):\n",
    "    clean_df[\"locations_country\"] = clean_df.locations.str.split(\",\").str[-1].str.strip()\n",
    "    clean_df.locations_country = clean_df[\"locations_country\"].replace(\"United Kingdom\",\"UK\")\n",
    "    clean_df.locations_country = clean_df[\"locations_country\"].replace(\"United States\",\"USA\")\n",
    "    return clean_df\n",
    "\n",
    "clean_df = get_country(clean_df)"
   ]
  },
  {
   "cell_type": "code",
   "execution_count": 108,
   "metadata": {
    "scrolled": true
   },
   "outputs": [
    {
     "data": {
      "text/html": [
       "<div>\n",
       "<style scoped>\n",
       "    .dataframe tbody tr th:only-of-type {\n",
       "        vertical-align: middle;\n",
       "    }\n",
       "\n",
       "    .dataframe tbody tr th {\n",
       "        vertical-align: top;\n",
       "    }\n",
       "\n",
       "    .dataframe thead th {\n",
       "        text-align: right;\n",
       "    }\n",
       "</style>\n",
       "<table border=\"1\" class=\"dataframe\">\n",
       "  <thead>\n",
       "    <tr style=\"text-align: right;\">\n",
       "      <th></th>\n",
       "      <th>title</th>\n",
       "      <th>locations</th>\n",
       "      <th>locations_country</th>\n",
       "      <th>longitude</th>\n",
       "      <th>latitude</th>\n",
       "    </tr>\n",
       "  </thead>\n",
       "  <tbody>\n",
       "    <tr>\n",
       "      <th>0</th>\n",
       "      <td>Iron Man</td>\n",
       "      <td>41000 20 St E, Palmdale, CA 93550, United States</td>\n",
       "      <td>USA</td>\n",
       "      <td>118.083300</td>\n",
       "      <td>34.627500</td>\n",
       "    </tr>\n",
       "    <tr>\n",
       "      <th>1</th>\n",
       "      <td>The Incredible Hulk</td>\n",
       "      <td>Cherry Street Bridge, Toronto, Ontario, Canada</td>\n",
       "      <td>Canada</td>\n",
       "      <td>-79.348568</td>\n",
       "      <td>43.640840</td>\n",
       "    </tr>\n",
       "    <tr>\n",
       "      <th>2</th>\n",
       "      <td>Iron Man 2</td>\n",
       "      <td>1360 E 6th St, Los Angeles, CA 90021, United S...</td>\n",
       "      <td>USA</td>\n",
       "      <td>-118.233847</td>\n",
       "      <td>34.038153</td>\n",
       "    </tr>\n",
       "    <tr>\n",
       "      <th>3</th>\n",
       "      <td>Thor</td>\n",
       "      <td>Galisteo, New Mexico, USA</td>\n",
       "      <td>USA</td>\n",
       "      <td>-105.960457</td>\n",
       "      <td>35.394459</td>\n",
       "    </tr>\n",
       "    <tr>\n",
       "      <th>4</th>\n",
       "      <td>Captain America: The First Avenger</td>\n",
       "      <td>Regent Rd, Liverpool L3 0AN, United Kingdom</td>\n",
       "      <td>UK</td>\n",
       "      <td>-3.000121</td>\n",
       "      <td>53.419796</td>\n",
       "    </tr>\n",
       "  </tbody>\n",
       "</table>\n",
       "</div>"
      ],
      "text/plain": [
       "                                title  \\\n",
       "0                            Iron Man   \n",
       "1                 The Incredible Hulk   \n",
       "2                          Iron Man 2   \n",
       "3                                Thor   \n",
       "4  Captain America: The First Avenger   \n",
       "\n",
       "                                           locations locations_country  \\\n",
       "0   41000 20 St E, Palmdale, CA 93550, United States               USA   \n",
       "1     Cherry Street Bridge, Toronto, Ontario, Canada            Canada   \n",
       "2  1360 E 6th St, Los Angeles, CA 90021, United S...               USA   \n",
       "3                          Galisteo, New Mexico, USA               USA   \n",
       "4        Regent Rd, Liverpool L3 0AN, United Kingdom                UK   \n",
       "\n",
       "    longitude   latitude  \n",
       "0  118.083300  34.627500  \n",
       "1  -79.348568  43.640840  \n",
       "2 -118.233847  34.038153  \n",
       "3 -105.960457  35.394459  \n",
       "4   -3.000121  53.419796  "
      ]
     },
     "execution_count": 108,
     "metadata": {},
     "output_type": "execute_result"
    }
   ],
   "source": [
    "clean_df[['title','locations','locations_country','longitude','latitude']].head()"
   ]
  },
  {
   "cell_type": "markdown",
   "metadata": {},
   "source": [
    "### 3-2 Get profit & ROI"
   ]
  },
  {
   "cell_type": "code",
   "execution_count": 109,
   "metadata": {},
   "outputs": [],
   "source": [
    "def get_profit(clean_df):\n",
    "    clean_df[\"profit\"] = clean_df.collection - clean_df.budget \n",
    "    clean_df[\"ROI\"] = ((clean_df.collection / clean_df.budget)-1)*100\n",
    "    return clean_df\n",
    "clean_df = get_profit(clean_df)"
   ]
  },
  {
   "cell_type": "code",
   "execution_count": 110,
   "metadata": {},
   "outputs": [
    {
     "data": {
      "text/html": [
       "<div>\n",
       "<style scoped>\n",
       "    .dataframe tbody tr th:only-of-type {\n",
       "        vertical-align: middle;\n",
       "    }\n",
       "\n",
       "    .dataframe tbody tr th {\n",
       "        vertical-align: top;\n",
       "    }\n",
       "\n",
       "    .dataframe thead th {\n",
       "        text-align: right;\n",
       "    }\n",
       "</style>\n",
       "<table border=\"1\" class=\"dataframe\">\n",
       "  <thead>\n",
       "    <tr style=\"text-align: right;\">\n",
       "      <th></th>\n",
       "      <th>budget</th>\n",
       "      <th>collection</th>\n",
       "      <th>profit</th>\n",
       "      <th>ROI</th>\n",
       "    </tr>\n",
       "  </thead>\n",
       "  <tbody>\n",
       "    <tr>\n",
       "      <th>0</th>\n",
       "      <td>140000000</td>\n",
       "      <td>585174222</td>\n",
       "      <td>445174222</td>\n",
       "      <td>317.981587</td>\n",
       "    </tr>\n",
       "    <tr>\n",
       "      <th>1</th>\n",
       "      <td>150000000</td>\n",
       "      <td>263427551</td>\n",
       "      <td>113427551</td>\n",
       "      <td>75.618367</td>\n",
       "    </tr>\n",
       "    <tr>\n",
       "      <th>2</th>\n",
       "      <td>200000000</td>\n",
       "      <td>623933331</td>\n",
       "      <td>423933331</td>\n",
       "      <td>211.966666</td>\n",
       "    </tr>\n",
       "    <tr>\n",
       "      <th>3</th>\n",
       "      <td>150000000</td>\n",
       "      <td>449326618</td>\n",
       "      <td>299326618</td>\n",
       "      <td>199.551079</td>\n",
       "    </tr>\n",
       "    <tr>\n",
       "      <th>4</th>\n",
       "      <td>140000000</td>\n",
       "      <td>370569774</td>\n",
       "      <td>230569774</td>\n",
       "      <td>164.692696</td>\n",
       "    </tr>\n",
       "  </tbody>\n",
       "</table>\n",
       "</div>"
      ],
      "text/plain": [
       "      budget  collection     profit         ROI\n",
       "0  140000000   585174222  445174222  317.981587\n",
       "1  150000000   263427551  113427551   75.618367\n",
       "2  200000000   623933331  423933331  211.966666\n",
       "3  150000000   449326618  299326618  199.551079\n",
       "4  140000000   370569774  230569774  164.692696"
      ]
     },
     "execution_count": 110,
     "metadata": {},
     "output_type": "execute_result"
    }
   ],
   "source": [
    "clean_df[['budget','collection','profit','ROI']].head()"
   ]
  },
  {
   "cell_type": "markdown",
   "metadata": {},
   "source": [
    "### 3-3 Get actors' genders\n",
    "\n",
    "Al-right. In this step, we will going to figure out the genders of all actors.  <br>\n",
    "Of course you can use google, but there is a couple of useful tools that we can use. <br>\n",
    "We'll gonna try 2 modules and compare their performances."
   ]
  },
  {
   "cell_type": "code",
   "execution_count": 111,
   "metadata": {},
   "outputs": [
    {
     "name": "stdout",
     "output_type": "stream",
     "text": [
      "['Anthony Hopkins', 'Ben Mendelsohn', 'Benedict Cumberbatch', 'Benedict Wong', 'Bradley Cooper', 'Brie Larson', 'Cate Blanchett', 'Chadwick Boseman', 'Chiwetel Ejiofor', 'Chris Evans', 'Chris Hemsworth', 'Chris Pratt', 'Corey Stoll', 'Danai Gurira', 'Dave Bautista', 'Don Cheadle', 'Edward Norton', 'Evangeline Lilly', 'Guy Pearce', 'Gwyneth Paltrow', 'Hayley Atwell', 'Hugo Weaving', 'Jake Gyllenhaal', 'Jeff Bridges', 'Jeremy Renner', 'Jude Law', 'Liv Tyler', \"Lupita Nyong'o\", 'Marisa Tomei', 'Mark Ruffalo', 'Michael B. Jordan', 'Michael Douglas', 'Michael Keaton', 'Michael Peña', 'Mickey Rourke', 'Natalie Portman', 'Paul Rudd', 'Rachel McAdams', 'Robert Downey Jr.', 'Robert Redford', 'Samuel L. Jackson', 'Scarlett Johansson', 'Sebastian Stan', 'Stellan Skarsgård', 'Terrence Howard', 'Tim Roth', 'Tom Hiddleston', 'Tom Holland', 'Vin Diesel', 'Walton Goggins', 'William Hurt', 'Zoe Saldana']\n"
     ]
    }
   ],
   "source": [
    "#Let's fist build the name database by ourselves..\n",
    "\n",
    "def get_actors_name(clean_df):\n",
    "    name_list = []\n",
    "    for column in [\"actor_1\", \"actor_2\", \"actor_3\", \"actor_4\"]:\n",
    "        for name in clean_df[column]:\n",
    "            if name not in name_list:\n",
    "                name_list.append(name)\n",
    "    return sorted(name_list)\n",
    "\n",
    "name_list = get_actors_name(clean_df)\n",
    "print(name_list)"
   ]
  },
  {
   "cell_type": "code",
   "execution_count": 112,
   "metadata": {},
   "outputs": [
    {
     "name": "stdout",
     "output_type": "stream",
     "text": [
      "Requirement already satisfied: gender_guesser in /Users/yoonhyejin/anaconda3/lib/python3.8/site-packages (0.4.0)\n",
      "Note: you may need to restart the kernel to use updated packages.\n"
     ]
    }
   ],
   "source": [
    "pip install gender_guesser"
   ]
  },
  {
   "cell_type": "code",
   "execution_count": 113,
   "metadata": {},
   "outputs": [
    {
     "name": "stdout",
     "output_type": "stream",
     "text": [
      "Anthony Hopkins : male\n",
      "Ben Mendelsohn : male\n",
      "Benedict Cumberbatch : male\n",
      "Benedict Wong : male\n",
      "Bradley Cooper : male\n",
      "Brie Larson : female\n",
      "Cate Blanchett : female\n",
      "Chadwick Boseman : male\n",
      "Chiwetel Ejiofor : unknown\n",
      "Chris Evans : unknown\n"
     ]
    }
   ],
   "source": [
    "from gender_detector import gender_detector as gd\n",
    "detector = gd.GenderDetector('us') # It can also be ar, uk, uy.\n",
    "for name in name_list[:10]:\n",
    "    print(name, \":\", detector.guess(name.split(\" \")[0]))               "
   ]
  },
  {
   "cell_type": "code",
   "execution_count": 114,
   "metadata": {},
   "outputs": [
    {
     "name": "stdout",
     "output_type": "stream",
     "text": [
      "Anthony Hopkins : male\n",
      "Ben Mendelsohn : male\n",
      "Benedict Cumberbatch : male\n",
      "Benedict Wong : male\n",
      "Bradley Cooper : male\n",
      "Brie Larson : unknown\n",
      "Cate Blanchett : female\n",
      "Chadwick Boseman : male\n",
      "Chiwetel Ejiofor : unknown\n",
      "Chris Evans : mostly_male\n"
     ]
    }
   ],
   "source": [
    "import gender_guesser.detector as gender\n",
    "guesser = gender.Detector()\n",
    "for name in name_list[:10]:\n",
    "    print(name, \":\", guesser.get_gender(name.split(\" \")[0]))"
   ]
  },
  {
   "cell_type": "code",
   "execution_count": 115,
   "metadata": {},
   "outputs": [
    {
     "name": "stdout",
     "output_type": "stream",
     "text": [
      "Detector Unknown: 8\n",
      "Guesser Unknown: 2\n"
     ]
    }
   ],
   "source": [
    "detector_unknown = 0\n",
    "guesser_unknown = 0\n",
    "\n",
    "for name in name_list:\n",
    "    if detector.guess(name.split(\" \")[0]) == 'unknown':\n",
    "        detector_unknown += 1\n",
    "    if guesser.get_gender(name.split(\" \")[0]) == 'unknown':\n",
    "        guesser_unknown += 1\n",
    "        \n",
    "print(\"Detector Unknown:\", detector_unknown) \n",
    "print(\"Guesser Unknown:\", guesser_unknown)   "
   ]
  },
  {
   "cell_type": "markdown",
   "metadata": {},
   "source": [
    "Turns out the second one is more accurate. Let's just do some adjustment and make this to a dictionary.<br>\n",
    "We will going to change \"mostly_male\" to \"male\", and fill the 2 \"unknown\" values to right genders by googling."
   ]
  },
  {
   "cell_type": "code",
   "execution_count": 116,
   "metadata": {},
   "outputs": [
    {
     "name": "stdout",
     "output_type": "stream",
     "text": [
      "{'Anthony Hopkins': 'male', 'Chiwetel Ejiofor': 'male', 'Brie Larson': 'female', 'Ben Mendelsohn': 'male', 'Benedict Cumberbatch': 'male', 'Benedict Wong': 'male', 'Bradley Cooper': 'male', 'Cate Blanchett': 'female', 'Chadwick Boseman': 'male', 'Chris Evans': 'male', 'Chris Hemsworth': 'male', 'Chris Pratt': 'male', 'Corey Stoll': 'male', 'Danai Gurira': 'female', 'Dave Bautista': 'male', 'Don Cheadle': 'male', 'Edward Norton': 'male', 'Evangeline Lilly': 'female', 'Guy Pearce': 'male', 'Gwyneth Paltrow': 'female', 'Hayley Atwell': 'female', 'Hugo Weaving': 'male', 'Jake Gyllenhaal': 'male', 'Jeff Bridges': 'male', 'Jeremy Renner': 'male', 'Jude Law': 'male', 'Liv Tyler': 'female', \"Lupita Nyong'o\": 'female', 'Marisa Tomei': 'female', 'Mark Ruffalo': 'male', 'Michael B. Jordan': 'male', 'Michael Douglas': 'male', 'Michael Keaton': 'male', 'Michael Peña': 'male', 'Mickey Rourke': 'male', 'Natalie Portman': 'female', 'Paul Rudd': 'male', 'Rachel McAdams': 'female', 'Robert Downey Jr.': 'male', 'Robert Redford': 'male', 'Samuel L. Jackson': 'male', 'Scarlett Johansson': 'female', 'Sebastian Stan': 'male', 'Stellan Skarsgård': 'male', 'Terrence Howard': 'male', 'Tim Roth': 'male', 'Tom Hiddleston': 'male', 'Tom Holland': 'male', 'Vin Diesel': 'male', 'Walton Goggins': 'male', 'William Hurt': 'male', 'Zoe Saldana': 'female'}\n"
     ]
    }
   ],
   "source": [
    "name_gender_dict = {}\n",
    "for name in name_list:\n",
    "    name_gender_dict[name] = guesser.get_gender(name.split(\" \")[0])\n",
    "    for k,v in name_gender_dict.items():\n",
    "        if name_gender_dict[k] == 'mostly_male':\n",
    "            name_gender_dict.update({k:\"male\"})\n",
    "    name_gender_dict.update({\"Chiwetel Ejiofor\":\"male\",\"Brie Larson\":\"female\"})\n",
    "print(name_gender_dict)"
   ]
  },
  {
   "cell_type": "markdown",
   "metadata": {},
   "source": [
    "Lastly, We wil create new columns representing the actors' genders to existing dataframe, using the dictionary we have just created."
   ]
  },
  {
   "cell_type": "code",
   "execution_count": 117,
   "metadata": {},
   "outputs": [],
   "source": [
    "#Let's assign this to the dataframe\n",
    "def get_gender(clean_df):\n",
    "    for i in range(clean_df.actor_1.count()):\n",
    "        clean_df.loc[i, \"actor_1_g\"] = name_gender_dict[clean_df.loc[i, \"actor_1\"]]\n",
    "        clean_df.loc[i, \"actor_2_g\"] = name_gender_dict[clean_df.loc[i, \"actor_2\"]]\n",
    "        clean_df.loc[i, \"actor_3_g\"] = name_gender_dict[clean_df.loc[i, \"actor_3\"]]\n",
    "        clean_df.loc[i, \"actor_4_g\"] = name_gender_dict[clean_df.loc[i, \"actor_4\"]]\n",
    "    return clean_df\n",
    "    \n",
    "clean_df = get_gender(clean_df)"
   ]
  },
  {
   "cell_type": "code",
   "execution_count": 118,
   "metadata": {},
   "outputs": [
    {
     "data": {
      "text/html": [
       "<div>\n",
       "<style scoped>\n",
       "    .dataframe tbody tr th:only-of-type {\n",
       "        vertical-align: middle;\n",
       "    }\n",
       "\n",
       "    .dataframe tbody tr th {\n",
       "        vertical-align: top;\n",
       "    }\n",
       "\n",
       "    .dataframe thead th {\n",
       "        text-align: right;\n",
       "    }\n",
       "</style>\n",
       "<table border=\"1\" class=\"dataframe\">\n",
       "  <thead>\n",
       "    <tr style=\"text-align: right;\">\n",
       "      <th></th>\n",
       "      <th>actor_1</th>\n",
       "      <th>actor_2</th>\n",
       "      <th>actor_3</th>\n",
       "      <th>actor_4</th>\n",
       "      <th>actor_1_g</th>\n",
       "      <th>actor_2_g</th>\n",
       "      <th>actor_3_g</th>\n",
       "      <th>actor_4_g</th>\n",
       "    </tr>\n",
       "  </thead>\n",
       "  <tbody>\n",
       "    <tr>\n",
       "      <th>0</th>\n",
       "      <td>Robert Downey Jr.</td>\n",
       "      <td>Gwyneth Paltrow</td>\n",
       "      <td>Terrence Howard</td>\n",
       "      <td>Jeff Bridges</td>\n",
       "      <td>male</td>\n",
       "      <td>female</td>\n",
       "      <td>male</td>\n",
       "      <td>male</td>\n",
       "    </tr>\n",
       "    <tr>\n",
       "      <th>1</th>\n",
       "      <td>Edward Norton</td>\n",
       "      <td>Liv Tyler</td>\n",
       "      <td>Tim Roth</td>\n",
       "      <td>William Hurt</td>\n",
       "      <td>male</td>\n",
       "      <td>female</td>\n",
       "      <td>male</td>\n",
       "      <td>male</td>\n",
       "    </tr>\n",
       "    <tr>\n",
       "      <th>2</th>\n",
       "      <td>Robert Downey Jr.</td>\n",
       "      <td>Mickey Rourke</td>\n",
       "      <td>Gwyneth Paltrow</td>\n",
       "      <td>Don Cheadle</td>\n",
       "      <td>male</td>\n",
       "      <td>male</td>\n",
       "      <td>female</td>\n",
       "      <td>male</td>\n",
       "    </tr>\n",
       "    <tr>\n",
       "      <th>3</th>\n",
       "      <td>Chris Hemsworth</td>\n",
       "      <td>Anthony Hopkins</td>\n",
       "      <td>Natalie Portman</td>\n",
       "      <td>Tom Hiddleston</td>\n",
       "      <td>male</td>\n",
       "      <td>male</td>\n",
       "      <td>female</td>\n",
       "      <td>male</td>\n",
       "    </tr>\n",
       "    <tr>\n",
       "      <th>4</th>\n",
       "      <td>Chris Evans</td>\n",
       "      <td>Hugo Weaving</td>\n",
       "      <td>Samuel L. Jackson</td>\n",
       "      <td>Hayley Atwell</td>\n",
       "      <td>male</td>\n",
       "      <td>male</td>\n",
       "      <td>male</td>\n",
       "      <td>female</td>\n",
       "    </tr>\n",
       "  </tbody>\n",
       "</table>\n",
       "</div>"
      ],
      "text/plain": [
       "             actor_1          actor_2            actor_3         actor_4  \\\n",
       "0  Robert Downey Jr.  Gwyneth Paltrow    Terrence Howard    Jeff Bridges   \n",
       "1      Edward Norton        Liv Tyler           Tim Roth    William Hurt   \n",
       "2  Robert Downey Jr.    Mickey Rourke    Gwyneth Paltrow     Don Cheadle   \n",
       "3    Chris Hemsworth  Anthony Hopkins    Natalie Portman  Tom Hiddleston   \n",
       "4        Chris Evans     Hugo Weaving  Samuel L. Jackson   Hayley Atwell   \n",
       "\n",
       "  actor_1_g actor_2_g actor_3_g actor_4_g  \n",
       "0      male    female      male      male  \n",
       "1      male    female      male      male  \n",
       "2      male      male    female      male  \n",
       "3      male      male    female      male  \n",
       "4      male      male      male    female  "
      ]
     },
     "execution_count": 118,
     "metadata": {},
     "output_type": "execute_result"
    }
   ],
   "source": [
    "clean_df[['actor_1','actor_2','actor_3','actor_4','actor_1_g','actor_2_g','actor_3_g','actor_4_g']].head()"
   ]
  },
  {
   "cell_type": "markdown",
   "metadata": {},
   "source": [
    "## 4. Data Analytics\n",
    "\n",
    "Cool...we have a cleaner dataset now. Was't that easy, huh? <br>\n",
    "Now, we will see how the data is distributed with some basic statistics.<br>\n",
    "Let's start this chapter with Starlord's dancing move.<br>\n",
    "\n",
    "![dancing starlord](https://media.giphy.com/media/RtKl3EEM3hl4c/giphy.gif)"
   ]
  },
  {
   "cell_type": "markdown",
   "metadata": {},
   "source": [
    "### How is the distribution of released date?"
   ]
  },
  {
   "cell_type": "code",
   "execution_count": 119,
   "metadata": {},
   "outputs": [
    {
     "data": {
      "image/png": "[encoded data removed]",
      "text/plain": [
       "<Figure size 720x360 with 1 Axes>"
      ]
     },
     "metadata": {
      "needs_background": "light"
     },
     "output_type": "display_data"
    }
   ],
   "source": [
    "from pandas.plotting import register_matplotlib_converters\n",
    "import datetime\n",
    "\n",
    "pd.plotting.register_matplotlib_converters()\n",
    "y = [date.year for date in clean_df.date]\n",
    "\n",
    "plt.figure(figsize=(10,5))\n",
    "plt.hist(y)\n",
    "plt.xlabel('year', size= 'x-large')\n",
    "plt.ylabel('counts', size= 'x-large')\n",
    "plt.show()"
   ]
  },
  {
   "cell_type": "markdown",
   "metadata": {},
   "source": [
    "### How is the distribution of the running times? Which movie is the longest or shortest?"
   ]
  },
  {
   "cell_type": "code",
   "execution_count": 120,
   "metadata": {},
   "outputs": [
    {
     "name": "stdout",
     "output_type": "stream",
     "text": [
      "Requirement already satisfied: plotly in /Users/yoonhyejin/anaconda3/lib/python3.8/site-packages (4.13.0)\n",
      "Requirement already satisfied: retrying>=1.3.3 in /Users/yoonhyejin/anaconda3/lib/python3.8/site-packages (from plotly) (1.3.3)\n",
      "Requirement already satisfied: six in /Users/yoonhyejin/anaconda3/lib/python3.8/site-packages (from plotly) (1.15.0)\n",
      "Note: you may need to restart the kernel to use updated packages.\n"
     ]
    }
   ],
   "source": [
    "pip install plotly"
   ]
  },
  {
   "cell_type": "code",
   "execution_count": 121,
   "metadata": {},
   "outputs": [
    {
     "data": {
      "image/png": "[encoded data removed]",
      "text/plain": [
       "<Figure size 720x432 with 2 Axes>"
      ]
     },
     "metadata": {
      "needs_background": "light"
     },
     "output_type": "display_data"
    }
   ],
   "source": [
    "import plotly.graph_objects as go\n",
    "\n",
    "fig, axes = plt.subplots(nrows=2, sharex=True, figsize=(10,6))\n",
    "plt.title(\"Movie runtime distribution\",loc=\"center\")\n",
    "\n",
    "axes[0].axvline(np.mean(clean_df.runtime),color=\"r\")\n",
    "sns.distplot(clean_df.runtime, label=\"runtime\",ax=axes[0])\n",
    "axes[1].axvline(np.mean(clean_df.runtime),color=\"r\")\n",
    "sns.boxplot(clean_df.runtime, palette=\"Blues\",ax=axes[1])\n",
    "\n",
    "plt.show()"
   ]
  },
  {
   "cell_type": "code",
   "execution_count": 122,
   "metadata": {},
   "outputs": [
    {
     "data": {
      "application/vnd.plotly.v1+json": {
       "config": {
        "plotlyServerURL": "https://plot.ly"
       },
       "data": [
        {
         "boxmean": "sd",
         "marker": {
          "color": "royalblue"
         },
         "name": "",
         "type": "box",
         "x": [
          126,
          112,
          124,
          115,
          124,
          143,
          130,
          112,
          136,
          121,
          141,
          117,
          147,
          115,
          136,
          133,
          130,
          134,
          149,
          118,
          123,
          181,
          129
         ]
        }
       ],
       "layout": {
        "template": {
         "data": {
          "bar": [
           {
            "error_x": {
             "color": "#2a3f5f"
            },
            "error_y": {
             "color": "#2a3f5f"
            },
            "marker": {
             "line": {
              "color": "#E5ECF6",
              "width": 0.5
             }
            },
            "type": "bar"
           }
          ],
          "barpolar": [
           {
            "marker": {
             "line": {
              "color": "#E5ECF6",
              "width": 0.5
             }
            },
            "type": "barpolar"
           }
          ],
          "carpet": [
           {
            "aaxis": {
             "endlinecolor": "#2a3f5f",
             "gridcolor": "white",
             "linecolor": "white",
             "minorgridcolor": "white",
             "startlinecolor": "#2a3f5f"
            },
            "baxis": {
             "endlinecolor": "#2a3f5f",
             "gridcolor": "white",
             "linecolor": "white",
             "minorgridcolor": "white",
             "startlinecolor": "#2a3f5f"
            },
            "type": "carpet"
           }
          ],
          "choropleth": [
           {
            "colorbar": {
             "outlinewidth": 0,
             "ticks": ""
            },
            "type": "choropleth"
           }
          ],
          "contour": [
           {
            "colorbar": {
             "outlinewidth": 0,
             "ticks": ""
            },
            "colorscale": [
             [
              0,
              "#0d0887"
             ],
             [
              0.1111111111111111,
              "#46039f"
             ],
             [
              0.2222222222222222,
              "#7201a8"
             ],
             [
              0.3333333333333333,
              "#9c179e"
             ],
             [
              0.4444444444444444,
              "#bd3786"
             ],
             [
              0.5555555555555556,
              "#d8576b"
             ],
             [
              0.6666666666666666,
              "#ed7953"
             ],
             [
              0.7777777777777778,
              "#fb9f3a"
             ],
             [
              0.8888888888888888,
              "#fdca26"
             ],
             [
              1,
              "#f0f921"
             ]
            ],
            "type": "contour"
           }
          ],
          "contourcarpet": [
           {
            "colorbar": {
             "outlinewidth": 0,
             "ticks": ""
            },
            "type": "contourcarpet"
           }
          ],
          "heatmap": [
           {
            "colorbar": {
             "outlinewidth": 0,
             "ticks": ""
            },
            "colorscale": [
             [
              0,
              "#0d0887"
             ],
             [
              0.1111111111111111,
              "#46039f"
             ],
             [
              0.2222222222222222,
              "#7201a8"
             ],
             [
              0.3333333333333333,
              "#9c179e"
             ],
             [
              0.4444444444444444,
              "#bd3786"
             ],
             [
              0.5555555555555556,
              "#d8576b"
             ],
             [
              0.6666666666666666,
              "#ed7953"
             ],
             [
              0.7777777777777778,
              "#fb9f3a"
             ],
             [
              0.8888888888888888,
              "#fdca26"
             ],
             [
              1,
              "#f0f921"
             ]
            ],
            "type": "heatmap"
           }
          ],
          "heatmapgl": [
           {
            "colorbar": {
             "outlinewidth": 0,
             "ticks": ""
            },
            "colorscale": [
             [
              0,
              "#0d0887"
             ],
             [
              0.1111111111111111,
              "#46039f"
             ],
             [
              0.2222222222222222,
              "#7201a8"
             ],
             [
              0.3333333333333333,
              "#9c179e"
             ],
             [
              0.4444444444444444,
              "#bd3786"
             ],
             [
              0.5555555555555556,
              "#d8576b"
             ],
             [
              0.6666666666666666,
              "#ed7953"
             ],
             [
              0.7777777777777778,
              "#fb9f3a"
             ],
             [
              0.8888888888888888,
              "#fdca26"
             ],
             [
              1,
              "#f0f921"
             ]
            ],
            "type": "heatmapgl"
           }
          ],
          "histogram": [
           {
            "marker": {
             "colorbar": {
              "outlinewidth": 0,
              "ticks": ""
             }
            },
            "type": "histogram"
           }
          ],
          "histogram2d": [
           {
            "colorbar": {
             "outlinewidth": 0,
             "ticks": ""
            },
            "colorscale": [
             [
              0,
              "#0d0887"
             ],
             [
              0.1111111111111111,
              "#46039f"
             ],
             [
              0.2222222222222222,
              "#7201a8"
             ],
             [
              0.3333333333333333,
              "#9c179e"
             ],
             [
              0.4444444444444444,
              "#bd3786"
             ],
             [
              0.5555555555555556,
              "#d8576b"
             ],
             [
              0.6666666666666666,
              "#ed7953"
             ],
             [
              0.7777777777777778,
              "#fb9f3a"
             ],
             [
              0.8888888888888888,
              "#fdca26"
             ],
             [
              1,
              "#f0f921"
             ]
            ],
            "type": "histogram2d"
           }
          ],
          "histogram2dcontour": [
           {
            "colorbar": {
             "outlinewidth": 0,
             "ticks": ""
            },
            "colorscale": [
             [
              0,
              "#0d0887"
             ],
             [
              0.1111111111111111,
              "#46039f"
             ],
             [
              0.2222222222222222,
              "#7201a8"
             ],
             [
              0.3333333333333333,
              "#9c179e"
             ],
             [
              0.4444444444444444,
              "#bd3786"
             ],
             [
              0.5555555555555556,
              "#d8576b"
             ],
             [
              0.6666666666666666,
              "#ed7953"
             ],
             [
              0.7777777777777778,
              "#fb9f3a"
             ],
             [
              0.8888888888888888,
              "#fdca26"
             ],
             [
              1,
              "#f0f921"
             ]
            ],
            "type": "histogram2dcontour"
           }
          ],
          "mesh3d": [
           {
            "colorbar": {
             "outlinewidth": 0,
             "ticks": ""
            },
            "type": "mesh3d"
           }
          ],
          "parcoords": [
           {
            "line": {
             "colorbar": {
              "outlinewidth": 0,
              "ticks": ""
             }
            },
            "type": "parcoords"
           }
          ],
          "pie": [
           {
            "automargin": true,
            "type": "pie"
           }
          ],
          "scatter": [
           {
            "marker": {
             "colorbar": {
              "outlinewidth": 0,
              "ticks": ""
             }
            },
            "type": "scatter"
           }
          ],
          "scatter3d": [
           {
            "line": {
             "colorbar": {
              "outlinewidth": 0,
              "ticks": ""
             }
            },
            "marker": {
             "colorbar": {
              "outlinewidth": 0,
              "ticks": ""
             }
            },
            "type": "scatter3d"
           }
          ],
          "scattercarpet": [
           {
            "marker": {
             "colorbar": {
              "outlinewidth": 0,
              "ticks": ""
             }
            },
            "type": "scattercarpet"
           }
          ],
          "scattergeo": [
           {
            "marker": {
             "colorbar": {
              "outlinewidth": 0,
              "ticks": ""
             }
            },
            "type": "scattergeo"
           }
          ],
          "scattergl": [
           {
            "marker": {
             "colorbar": {
              "outlinewidth": 0,
              "ticks": ""
             }
            },
            "type": "scattergl"
           }
          ],
          "scattermapbox": [
           {
            "marker": {
             "colorbar": {
              "outlinewidth": 0,
              "ticks": ""
             }
            },
            "type": "scattermapbox"
           }
          ],
          "scatterpolar": [
           {
            "marker": {
             "colorbar": {
              "outlinewidth": 0,
              "ticks": ""
             }
            },
            "type": "scatterpolar"
           }
          ],
          "scatterpolargl": [
           {
            "marker": {
             "colorbar": {
              "outlinewidth": 0,
              "ticks": ""
             }
            },
            "type": "scatterpolargl"
           }
          ],
          "scatterternary": [
           {
            "marker": {
             "colorbar": {
              "outlinewidth": 0,
              "ticks": ""
             }
            },
            "type": "scatterternary"
           }
          ],
          "surface": [
           {
            "colorbar": {
             "outlinewidth": 0,
             "ticks": ""
            },
            "colorscale": [
             [
              0,
              "#0d0887"
             ],
             [
              0.1111111111111111,
              "#46039f"
             ],
             [
              0.2222222222222222,
              "#7201a8"
             ],
             [
              0.3333333333333333,
              "#9c179e"
             ],
             [
              0.4444444444444444,
              "#bd3786"
             ],
             [
              0.5555555555555556,
              "#d8576b"
             ],
             [
              0.6666666666666666,
              "#ed7953"
             ],
             [
              0.7777777777777778,
              "#fb9f3a"
             ],
             [
              0.8888888888888888,
              "#fdca26"
             ],
             [
              1,
              "#f0f921"
             ]
            ],
            "type": "surface"
           }
          ],
          "table": [
           {
            "cells": {
             "fill": {
              "color": "#EBF0F8"
             },
             "line": {
              "color": "white"
             }
            },
            "header": {
             "fill": {
              "color": "#C8D4E3"
             },
             "line": {
              "color": "white"
             }
            },
            "type": "table"
           }
          ]
         },
         "layout": {
          "annotationdefaults": {
           "arrowcolor": "#2a3f5f",
           "arrowhead": 0,
           "arrowwidth": 1
          },
          "coloraxis": {
           "colorbar": {
            "outlinewidth": 0,
            "ticks": ""
           }
          },
          "colorscale": {
           "diverging": [
            [
             0,
             "#8e0152"
            ],
            [
             0.1,
             "#c51b7d"
            ],
            [
             0.2,
             "#de77ae"
            ],
            [
             0.3,
             "#f1b6da"
            ],
            [
             0.4,
             "#fde0ef"
            ],
            [
             0.5,
             "#f7f7f7"
            ],
            [
             0.6,
             "#e6f5d0"
            ],
            [
             0.7,
             "#b8e186"
            ],
            [
             0.8,
             "#7fbc41"
            ],
            [
             0.9,
             "#4d9221"
            ],
            [
             1,
             "#276419"
            ]
           ],
           "sequential": [
            [
             0,
             "#0d0887"
            ],
            [
             0.1111111111111111,
             "#46039f"
            ],
            [
             0.2222222222222222,
             "#7201a8"
            ],
            [
             0.3333333333333333,
             "#9c179e"
            ],
            [
             0.4444444444444444,
             "#bd3786"
            ],
            [
             0.5555555555555556,
             "#d8576b"
            ],
            [
             0.6666666666666666,
             "#ed7953"
            ],
            [
             0.7777777777777778,
             "#fb9f3a"
            ],
            [
             0.8888888888888888,
             "#fdca26"
            ],
            [
             1,
             "#f0f921"
            ]
           ],
           "sequentialminus": [
            [
             0,
             "#0d0887"
            ],
            [
             0.1111111111111111,
             "#46039f"
            ],
            [
             0.2222222222222222,
             "#7201a8"
            ],
            [
             0.3333333333333333,
             "#9c179e"
            ],
            [
             0.4444444444444444,
             "#bd3786"
            ],
            [
             0.5555555555555556,
             "#d8576b"
            ],
            [
             0.6666666666666666,
             "#ed7953"
            ],
            [
             0.7777777777777778,
             "#fb9f3a"
            ],
            [
             0.8888888888888888,
             "#fdca26"
            ],
            [
             1,
             "#f0f921"
            ]
           ]
          },
          "colorway": [
           "#636efa",
           "#EF553B",
           "#00cc96",
           "#ab63fa",
           "#FFA15A",
           "#19d3f3",
           "#FF6692",
           "#B6E880",
           "#FF97FF",
           "#FECB52"
          ],
          "font": {
           "color": "#2a3f5f"
          },
          "geo": {
           "bgcolor": "white",
           "lakecolor": "white",
           "landcolor": "#E5ECF6",
           "showlakes": true,
           "showland": true,
           "subunitcolor": "white"
          },
          "hoverlabel": {
           "align": "left"
          },
          "hovermode": "closest",
          "mapbox": {
           "style": "light"
          },
          "paper_bgcolor": "white",
          "plot_bgcolor": "#E5ECF6",
          "polar": {
           "angularaxis": {
            "gridcolor": "white",
            "linecolor": "white",
            "ticks": ""
           },
           "bgcolor": "#E5ECF6",
           "radialaxis": {
            "gridcolor": "white",
            "linecolor": "white",
            "ticks": ""
           }
          },
          "scene": {
           "xaxis": {
            "backgroundcolor": "#E5ECF6",
            "gridcolor": "white",
            "gridwidth": 2,
            "linecolor": "white",
            "showbackground": true,
            "ticks": "",
            "zerolinecolor": "white"
           },
           "yaxis": {
            "backgroundcolor": "#E5ECF6",
            "gridcolor": "white",
            "gridwidth": 2,
            "linecolor": "white",
            "showbackground": true,
            "ticks": "",
            "zerolinecolor": "white"
           },
           "zaxis": {
            "backgroundcolor": "#E5ECF6",
            "gridcolor": "white",
            "gridwidth": 2,
            "linecolor": "white",
            "showbackground": true,
            "ticks": "",
            "zerolinecolor": "white"
           }
          },
          "shapedefaults": {
           "line": {
            "color": "#2a3f5f"
           }
          },
          "ternary": {
           "aaxis": {
            "gridcolor": "white",
            "linecolor": "white",
            "ticks": ""
           },
           "baxis": {
            "gridcolor": "white",
            "linecolor": "white",
            "ticks": ""
           },
           "bgcolor": "#E5ECF6",
           "caxis": {
            "gridcolor": "white",
            "linecolor": "white",
            "ticks": ""
           }
          },
          "title": {
           "x": 0.05
          },
          "xaxis": {
           "automargin": true,
           "gridcolor": "white",
           "linecolor": "white",
           "ticks": "",
           "title": {
            "standoff": 15
           },
           "zerolinecolor": "white",
           "zerolinewidth": 2
          },
          "yaxis": {
           "automargin": true,
           "gridcolor": "white",
           "linecolor": "white",
           "ticks": "",
           "title": {
            "standoff": 15
           },
           "zerolinecolor": "white",
           "zerolinewidth": 2
          }
         }
        }
       }
      },
      "text/html": [
       "<div>                            <div id=\"41855f09-3141-4579-a610-53d3914d0b7d\" class=\"plotly-graph-div\" style=\"height:525px; width:100%;\"></div>            <script type=\"text/javascript\">                require([\"plotly\"], function(Plotly) {                    window.PLOTLYENV=window.PLOTLYENV || {};                                    if (document.getElementById(\"41855f09-3141-4579-a610-53d3914d0b7d\")) {                    Plotly.newPlot(                        \"41855f09-3141-4579-a610-53d3914d0b7d\",                        [{\"boxmean\": \"sd\", \"marker\": {\"color\": \"royalblue\"}, \"name\": \"\", \"type\": \"box\", \"x\": [126, 112, 124, 115, 124, 143, 130, 112, 136, 121, 141, 117, 147, 115, 136, 133, 130, 134, 149, 118, 123, 181, 129]}],                        {\"template\": {\"data\": {\"bar\": [{\"error_x\": {\"color\": \"#2a3f5f\"}, \"error_y\": {\"color\": \"#2a3f5f\"}, \"marker\": {\"line\": {\"color\": \"#E5ECF6\", \"width\": 0.5}}, \"type\": \"bar\"}], \"barpolar\": [{\"marker\": {\"line\": {\"color\": \"#E5ECF6\", \"width\": 0.5}}, \"type\": \"barpolar\"}], \"carpet\": [{\"aaxis\": {\"endlinecolor\": \"#2a3f5f\", \"gridcolor\": \"white\", \"linecolor\": \"white\", \"minorgridcolor\": \"white\", \"startlinecolor\": \"#2a3f5f\"}, \"baxis\": {\"endlinecolor\": \"#2a3f5f\", \"gridcolor\": \"white\", \"linecolor\": \"white\", \"minorgridcolor\": \"white\", \"startlinecolor\": \"#2a3f5f\"}, \"type\": \"carpet\"}], \"choropleth\": [{\"colorbar\": {\"outlinewidth\": 0, \"ticks\": \"\"}, \"type\": \"choropleth\"}], \"contour\": [{\"colorbar\": {\"outlinewidth\": 0, \"ticks\": \"\"}, \"colorscale\": [[0.0, \"#0d0887\"], [0.1111111111111111, \"#46039f\"], [0.2222222222222222, \"#7201a8\"], [0.3333333333333333, \"#9c179e\"], [0.4444444444444444, \"#bd3786\"], [0.5555555555555556, \"#d8576b\"], [0.6666666666666666, \"#ed7953\"], [0.7777777777777778, \"#fb9f3a\"], [0.8888888888888888, \"#fdca26\"], [1.0, \"#f0f921\"]], \"type\": \"contour\"}], \"contourcarpet\": [{\"colorbar\": {\"outlinewidth\": 0, \"ticks\": \"\"}, \"type\": \"contourcarpet\"}], \"heatmap\": [{\"colorbar\": {\"outlinewidth\": 0, \"ticks\": \"\"}, \"colorscale\": [[0.0, \"#0d0887\"], [0.1111111111111111, \"#46039f\"], [0.2222222222222222, \"#7201a8\"], [0.3333333333333333, \"#9c179e\"], [0.4444444444444444, \"#bd3786\"], [0.5555555555555556, \"#d8576b\"], [0.6666666666666666, \"#ed7953\"], [0.7777777777777778, \"#fb9f3a\"], [0.8888888888888888, \"#fdca26\"], [1.0, \"#f0f921\"]], \"type\": \"heatmap\"}], \"heatmapgl\": [{\"colorbar\": {\"outlinewidth\": 0, \"ticks\": \"\"}, \"colorscale\": [[0.0, \"#0d0887\"], [0.1111111111111111, \"#46039f\"], [0.2222222222222222, \"#7201a8\"], [0.3333333333333333, \"#9c179e\"], [0.4444444444444444, \"#bd3786\"], [0.5555555555555556, \"#d8576b\"], [0.6666666666666666, \"#ed7953\"], [0.7777777777777778, \"#fb9f3a\"], [0.8888888888888888, \"#fdca26\"], [1.0, \"#f0f921\"]], \"type\": \"heatmapgl\"}], \"histogram\": [{\"marker\": {\"colorbar\": {\"outlinewidth\": 0, \"ticks\": \"\"}}, \"type\": \"histogram\"}], \"histogram2d\": [{\"colorbar\": {\"outlinewidth\": 0, \"ticks\": \"\"}, \"colorscale\": [[0.0, \"#0d0887\"], [0.1111111111111111, \"#46039f\"], [0.2222222222222222, \"#7201a8\"], [0.3333333333333333, \"#9c179e\"], [0.4444444444444444, \"#bd3786\"], [0.5555555555555556, \"#d8576b\"], [0.6666666666666666, \"#ed7953\"], [0.7777777777777778, \"#fb9f3a\"], [0.8888888888888888, \"#fdca26\"], [1.0, \"#f0f921\"]], \"type\": \"histogram2d\"}], \"histogram2dcontour\": [{\"colorbar\": {\"outlinewidth\": 0, \"ticks\": \"\"}, \"colorscale\": [[0.0, \"#0d0887\"], [0.1111111111111111, \"#46039f\"], [0.2222222222222222, \"#7201a8\"], [0.3333333333333333, \"#9c179e\"], [0.4444444444444444, \"#bd3786\"], [0.5555555555555556, \"#d8576b\"], [0.6666666666666666, \"#ed7953\"], [0.7777777777777778, \"#fb9f3a\"], [0.8888888888888888, \"#fdca26\"], [1.0, \"#f0f921\"]], \"type\": \"histogram2dcontour\"}], \"mesh3d\": [{\"colorbar\": {\"outlinewidth\": 0, \"ticks\": \"\"}, \"type\": \"mesh3d\"}], \"parcoords\": [{\"line\": {\"colorbar\": {\"outlinewidth\": 0, \"ticks\": \"\"}}, \"type\": \"parcoords\"}], \"pie\": [{\"automargin\": true, \"type\": \"pie\"}], \"scatter\": [{\"marker\": {\"colorbar\": {\"outlinewidth\": 0, \"ticks\": \"\"}}, \"type\": \"scatter\"}], \"scatter3d\": [{\"line\": {\"colorbar\": {\"outlinewidth\": 0, \"ticks\": \"\"}}, \"marker\": {\"colorbar\": {\"outlinewidth\": 0, \"ticks\": \"\"}}, \"type\": \"scatter3d\"}], \"scattercarpet\": [{\"marker\": {\"colorbar\": {\"outlinewidth\": 0, \"ticks\": \"\"}}, \"type\": \"scattercarpet\"}], \"scattergeo\": [{\"marker\": {\"colorbar\": {\"outlinewidth\": 0, \"ticks\": \"\"}}, \"type\": \"scattergeo\"}], \"scattergl\": [{\"marker\": {\"colorbar\": {\"outlinewidth\": 0, \"ticks\": \"\"}}, \"type\": \"scattergl\"}], \"scattermapbox\": [{\"marker\": {\"colorbar\": {\"outlinewidth\": 0, \"ticks\": \"\"}}, \"type\": \"scattermapbox\"}], \"scatterpolar\": [{\"marker\": {\"colorbar\": {\"outlinewidth\": 0, \"ticks\": \"\"}}, \"type\": \"scatterpolar\"}], \"scatterpolargl\": [{\"marker\": {\"colorbar\": {\"outlinewidth\": 0, \"ticks\": \"\"}}, \"type\": \"scatterpolargl\"}], \"scatterternary\": [{\"marker\": {\"colorbar\": {\"outlinewidth\": 0, \"ticks\": \"\"}}, \"type\": \"scatterternary\"}], \"surface\": [{\"colorbar\": {\"outlinewidth\": 0, \"ticks\": \"\"}, \"colorscale\": [[0.0, \"#0d0887\"], [0.1111111111111111, \"#46039f\"], [0.2222222222222222, \"#7201a8\"], [0.3333333333333333, \"#9c179e\"], [0.4444444444444444, \"#bd3786\"], [0.5555555555555556, \"#d8576b\"], [0.6666666666666666, \"#ed7953\"], [0.7777777777777778, \"#fb9f3a\"], [0.8888888888888888, \"#fdca26\"], [1.0, \"#f0f921\"]], \"type\": \"surface\"}], \"table\": [{\"cells\": {\"fill\": {\"color\": \"#EBF0F8\"}, \"line\": {\"color\": \"white\"}}, \"header\": {\"fill\": {\"color\": \"#C8D4E3\"}, \"line\": {\"color\": \"white\"}}, \"type\": \"table\"}]}, \"layout\": {\"annotationdefaults\": {\"arrowcolor\": \"#2a3f5f\", \"arrowhead\": 0, \"arrowwidth\": 1}, \"coloraxis\": {\"colorbar\": {\"outlinewidth\": 0, \"ticks\": \"\"}}, \"colorscale\": {\"diverging\": [[0, \"#8e0152\"], [0.1, \"#c51b7d\"], [0.2, \"#de77ae\"], [0.3, \"#f1b6da\"], [0.4, \"#fde0ef\"], [0.5, \"#f7f7f7\"], [0.6, \"#e6f5d0\"], [0.7, \"#b8e186\"], [0.8, \"#7fbc41\"], [0.9, \"#4d9221\"], [1, \"#276419\"]], \"sequential\": [[0.0, \"#0d0887\"], [0.1111111111111111, \"#46039f\"], [0.2222222222222222, \"#7201a8\"], [0.3333333333333333, \"#9c179e\"], [0.4444444444444444, \"#bd3786\"], [0.5555555555555556, \"#d8576b\"], [0.6666666666666666, \"#ed7953\"], [0.7777777777777778, \"#fb9f3a\"], [0.8888888888888888, \"#fdca26\"], [1.0, \"#f0f921\"]], \"sequentialminus\": [[0.0, \"#0d0887\"], [0.1111111111111111, \"#46039f\"], [0.2222222222222222, \"#7201a8\"], [0.3333333333333333, \"#9c179e\"], [0.4444444444444444, \"#bd3786\"], [0.5555555555555556, \"#d8576b\"], [0.6666666666666666, \"#ed7953\"], [0.7777777777777778, \"#fb9f3a\"], [0.8888888888888888, \"#fdca26\"], [1.0, \"#f0f921\"]]}, \"colorway\": [\"#636efa\", \"#EF553B\", \"#00cc96\", \"#ab63fa\", \"#FFA15A\", \"#19d3f3\", \"#FF6692\", \"#B6E880\", \"#FF97FF\", \"#FECB52\"], \"font\": {\"color\": \"#2a3f5f\"}, \"geo\": {\"bgcolor\": \"white\", \"lakecolor\": \"white\", \"landcolor\": \"#E5ECF6\", \"showlakes\": true, \"showland\": true, \"subunitcolor\": \"white\"}, \"hoverlabel\": {\"align\": \"left\"}, \"hovermode\": \"closest\", \"mapbox\": {\"style\": \"light\"}, \"paper_bgcolor\": \"white\", \"plot_bgcolor\": \"#E5ECF6\", \"polar\": {\"angularaxis\": {\"gridcolor\": \"white\", \"linecolor\": \"white\", \"ticks\": \"\"}, \"bgcolor\": \"#E5ECF6\", \"radialaxis\": {\"gridcolor\": \"white\", \"linecolor\": \"white\", \"ticks\": \"\"}}, \"scene\": {\"xaxis\": {\"backgroundcolor\": \"#E5ECF6\", \"gridcolor\": \"white\", \"gridwidth\": 2, \"linecolor\": \"white\", \"showbackground\": true, \"ticks\": \"\", \"zerolinecolor\": \"white\"}, \"yaxis\": {\"backgroundcolor\": \"#E5ECF6\", \"gridcolor\": \"white\", \"gridwidth\": 2, \"linecolor\": \"white\", \"showbackground\": true, \"ticks\": \"\", \"zerolinecolor\": \"white\"}, \"zaxis\": {\"backgroundcolor\": \"#E5ECF6\", \"gridcolor\": \"white\", \"gridwidth\": 2, \"linecolor\": \"white\", \"showbackground\": true, \"ticks\": \"\", \"zerolinecolor\": \"white\"}}, \"shapedefaults\": {\"line\": {\"color\": \"#2a3f5f\"}}, \"ternary\": {\"aaxis\": {\"gridcolor\": \"white\", \"linecolor\": \"white\", \"ticks\": \"\"}, \"baxis\": {\"gridcolor\": \"white\", \"linecolor\": \"white\", \"ticks\": \"\"}, \"bgcolor\": \"#E5ECF6\", \"caxis\": {\"gridcolor\": \"white\", \"linecolor\": \"white\", \"ticks\": \"\"}}, \"title\": {\"x\": 0.05}, \"xaxis\": {\"automargin\": true, \"gridcolor\": \"white\", \"linecolor\": \"white\", \"ticks\": \"\", \"title\": {\"standoff\": 15}, \"zerolinecolor\": \"white\", \"zerolinewidth\": 2}, \"yaxis\": {\"automargin\": true, \"gridcolor\": \"white\", \"linecolor\": \"white\", \"ticks\": \"\", \"title\": {\"standoff\": 15}, \"zerolinecolor\": \"white\", \"zerolinewidth\": 2}}}},                        {\"responsive\": true}                    ).then(function(){\n",
       "                            \n",
       "var gd = document.getElementById('41855f09-3141-4579-a610-53d3914d0b7d');\n",
       "var x = new MutationObserver(function (mutations, observer) {{\n",
       "        var display = window.getComputedStyle(gd).display;\n",
       "        if (!display || display === 'none') {{\n",
       "            console.log([gd, 'removed!']);\n",
       "            Plotly.purge(gd);\n",
       "            observer.disconnect();\n",
       "        }}\n",
       "}});\n",
       "\n",
       "// Listen for the removal of the full notebook cells\n",
       "var notebookContainer = gd.closest('#notebook-container');\n",
       "if (notebookContainer) {{\n",
       "    x.observe(notebookContainer, {childList: true});\n",
       "}}\n",
       "\n",
       "// Listen for the clearing of the current output cell\n",
       "var outputEl = gd.closest('.output');\n",
       "if (outputEl) {{\n",
       "    x.observe(outputEl, {childList: true});\n",
       "}}\n",
       "\n",
       "                        })                };                });            </script>        </div>"
      ]
     },
     "metadata": {},
     "output_type": "display_data"
    },
    {
     "name": "stdout",
     "output_type": "stream",
     "text": [
      "The shortest film(s) with ruuning time of 112 min\n",
      "['The Incredible Hulk' 'Thor: The Dark World']\n",
      "The longest film(s) with ruuning time of 181 min\n",
      "['Avengers: Endgame']\n"
     ]
    }
   ],
   "source": [
    "import plotly.graph_objects as go\n",
    "\n",
    "fig = go.Figure()\n",
    "fig.add_trace(go.Box(x=clean_df.runtime,boxmean='sd',marker_color='royalblue',name=\"\"))\n",
    "\n",
    "fig.show()\n",
    "\n",
    "print(\"The shortest film(s) with ruuning time of\",np.min(clean_df.runtime),\"min\")\n",
    "print(clean_df.loc[clean_df.runtime==np.min(clean_df.runtime), \"title\"].values)\n",
    "print(\"The longest film(s) with ruuning time of\", np.max(clean_df.runtime),\"min\")\n",
    "print(clean_df.loc[clean_df.runtime==np.max(clean_df.runtime), \"title\"].values)"
   ]
  },
  {
   "cell_type": "markdown",
   "metadata": {},
   "source": [
    "### On where was the movies shooted?"
   ]
  },
  {
   "cell_type": "code",
   "execution_count": 123,
   "metadata": {},
   "outputs": [
    {
     "name": "stdout",
     "output_type": "stream",
     "text": [
      "USA          16\n",
      "UK            5\n",
      "Australia     1\n",
      "Canada        1\n",
      "Name: locations_country, dtype: int64\n"
     ]
    }
   ],
   "source": [
    "print(clean_df.locations_country.value_counts())"
   ]
  },
  {
   "cell_type": "code",
   "execution_count": 124,
   "metadata": {
    "scrolled": true
   },
   "outputs": [
    {
     "name": "stdout",
     "output_type": "stream",
     "text": [
      "Pandas(Index=0, title='Iron Man', genres='Action,Adventure,Sci-Fi', date=Timestamp('2008-05-02 00:00:00'), score=7.9, runtime=126, language='English,Persian,Urdu,Arabic,Hungarian', locations='41000 20 St E, Palmdale, CA 93550, United States', budget=140000000, collection=585174222, actor_1='Robert Downey Jr.', actor_2='Gwyneth Paltrow', actor_3='Terrence Howard', actor_4='Jeff Bridges', director='Jon Favreau', story='After being held captive in an Afghan cave, billionaire engineer Tony Stark creates a unique weaponized suit of armor to fight evil.', longitude=118.0833, latitude=34.6275, locations_country='USA', profit=445174222, ROI=317.98158714285717, actor_1_g='male', actor_2_g='female', actor_3_g='male', actor_4_g='male')\n",
      "Pandas(Index=1, title='The Incredible Hulk', genres='Action,Adventure,Sci-Fi', date=Timestamp('2008-06-13 00:00:00'), score=6.7, runtime=112, language='English,Portuguese,Spanish', locations='Cherry Street Bridge, Toronto, Ontario, Canada', budget=150000000, collection=263427551, actor_1='Edward Norton', actor_2='Liv Tyler', actor_3='Tim Roth', actor_4='William Hurt', director='Louis Leterrier', story='Government, must find a cure for the monster he turns into, whenever he loses his temper.', longitude=-79.3485677, latitude=43.6408396, locations_country='Canada', profit=113427551, ROI=75.61836733333334, actor_1_g='male', actor_2_g='female', actor_3_g='male', actor_4_g='male')\n",
      "Pandas(Index=2, title='Iron Man 2', genres='Action,Adventure,Sci-Fi', date=Timestamp('2010-05-07 00:00:00'), score=7.0, runtime=124, language='English,French,Russian', locations='1360 E 6th St, Los Angeles, CA 90021, United States', budget=200000000, collection=623933331, actor_1='Robert Downey Jr.', actor_2='Mickey Rourke', actor_3='Gwyneth Paltrow', actor_4='Don Cheadle', director='Jon Favreau', story=\"With the world now aware of his identity as Iron Man, Tony Stark must contend with both his declining health and a vengeful mad man with ties to his father's legacy.\", longitude=-118.23384746765228, latitude=34.03815312269938, locations_country='USA', profit=423933331, ROI=211.9666655, actor_1_g='male', actor_2_g='male', actor_3_g='female', actor_4_g='male')\n",
      "Pandas(Index=3, title='Thor', genres='Action,Adventure,Fantasy,Sci-Fi', date=Timestamp('2011-05-06 00:00:00'), score=7.0, runtime=115, language='English', locations='Galisteo, New Mexico, USA', budget=150000000, collection=449326618, actor_1='Chris Hemsworth', actor_2='Anthony Hopkins', actor_3='Natalie Portman', actor_4='Tom Hiddleston', director='Kenneth Branagh', story='The powerful but arrogant god Thor (Chris Hemsworth) is cast out of Asgard to live amongst humans in Midgard (Earth), where he soon becomes one of their finest defenders.', longitude=-105.96045655684071, latitude=35.394459, locations_country='USA', profit=299326618, ROI=199.55107866666668, actor_1_g='male', actor_2_g='male', actor_3_g='female', actor_4_g='male')\n",
      "Pandas(Index=4, title='Captain America: The First Avenger', genres='Action,Adventure,Sci-Fi', date=Timestamp('2011-07-22 00:00:00'), score=6.9, runtime=124, language='English,Norwegian,French', locations='Regent Rd, Liverpool L3 0AN, United Kingdom', budget=140000000, collection=370569774, actor_1='Chris Evans', actor_2='Hugo Weaving', actor_3='Samuel L. Jackson', actor_4='Hayley Atwell', director='Joe Johnston', story='But being Captain America comes at a price as he attempts to take down a war monger and a terrorist organization.', longitude=-3.0001212, latitude=53.4197965, locations_country='UK', profit=230569774, ROI=164.69269571428572, actor_1_g='male', actor_2_g='male', actor_3_g='male', actor_4_g='female')\n",
      "Pandas(Index=5, title='The Avengers', genres='Action,Adventure,Sci-Fi', date=Timestamp('2012-05-04 00:00:00'), score=8.1, runtime=143, language='English,Russian,Hindi', locations='Pittsburgh, Pennsylvania, USA', budget=220000000, collection=1519557910, actor_1='Robert Downey Jr.', actor_2='Chris Evans', actor_3='Scarlett Johansson', actor_4='Jeremy Renner', director='Joss Whedon', story=\"Earth's mightiest heroes must come together and learn to fight as a team if they are going to stop the mischievous Loki and his alien army from enslaving humanity.\", longitude=-79.9900861, latitude=40.4416941, locations_country='USA', profit=1299557910, ROI=590.708140909091, actor_1_g='male', actor_2_g='male', actor_3_g='female', actor_4_g='male')\n",
      "Pandas(Index=6, title='Iron Man 3', genres='Action,Adventure,Sci-Fi', date=Timestamp('2013-05-03 00:00:00'), score=7.2, runtime=130, language='English', locations='Cary, North Carolina, USA', budget=200000000, collection=1215439994, actor_1='Robert Downey Jr.', actor_2='Guy Pearce', actor_3='Gwyneth Paltrow', actor_4='Don Cheadle', director='Shane Black', story=\"When Tony Stark's world is torn apart by a formidable terrorist called the Mandarin, he starts an odyssey of rebuilding and retribution.\", longitude=-78.7812081, latitude=35.7882893, locations_country='USA', profit=1015439994, ROI=507.719997, actor_1_g='male', actor_2_g='male', actor_3_g='female', actor_4_g='male')\n",
      "Pandas(Index=7, title='Thor: The Dark World', genres='Action,Adventure,Fantasy', date=Timestamp('2013-11-08 00:00:00'), score=6.9, runtime=112, language='English', locations='Studios Rd, Shepperton TW17 0QD, United Kingdom', budget=170000000, collection=644783140, actor_1='Chris Hemsworth', actor_2='Natalie Portman', actor_3='Tom Hiddleston', actor_4='Stellan Skarsgård', director='Alan Taylor', story='When Dr. Jane Foster (Natalie Portman) gets cursed with a powerful entity known as the Aether, Thor is heralded of the cosmic event known as the Convergence and the genocidal Dark Elves.', longitude=-0.4655, latitude=51.4068, locations_country='UK', profit=474783140, ROI=279.2842, actor_1_g='male', actor_2_g='female', actor_3_g='male', actor_4_g='male')\n",
      "Pandas(Index=8, title='Captain America: The Winter Soldier', genres='Action,Adventure,Sci-Fi,Thriller', date=Timestamp('2014-04-04 00:00:00'), score=7.8, runtime=136, language='English,French', locations='Los Angeles, California, USA', budget=170000000, collection=714766572, actor_1='Chris Evans', actor_2='Samuel L. Jackson', actor_3='Scarlett Johansson', actor_4='Robert Redford', director='Anthony Russo, Joe Russo', story='As Steve Rogers struggles to embrace his role in the modern world, he teams up with a fellow Avenger and S.H.I.E.L.D agent, Black Widow, to battle a new threat from history: an assassin known as the Winter Soldier.', longitude=-118.242766, latitude=34.0536909, locations_country='USA', profit=544766572, ROI=320.4509247058824, actor_1_g='male', actor_2_g='male', actor_3_g='female', actor_4_g='male')\n",
      "Pandas(Index=9, title='Guardians of the Galaxy', genres='Action,Adventure,Comedy,Sci-Fi', date=Timestamp('2014-08-01 00:00:00'), score=8.1, runtime=121, language='English', locations='Studios Rd, Shepperton TW17 0QD, United Kingdom', budget=170000000, collection=774176600, actor_1='Chris Pratt', actor_2='Vin Diesel', actor_3='Bradley Cooper', actor_4='Zoe Saldana', director='James Gunn', story='A group of intergalactic criminals must pull together to stop a fanatical warrior with plans to purge the universe.', longitude=-0.4655, latitude=51.4068, locations_country='UK', profit=604176600, ROI=355.398, actor_1_g='male', actor_2_g='male', actor_3_g='male', actor_4_g='female')\n",
      "Pandas(Index=10, title='Avengers: Age of Ultron', genres='Action,Adventure,Sci-Fi', date=Timestamp('2015-05-01 00:00:00'), score=7.3, runtime=141, language='English,Korean', locations='Studios Rd, Shepperton TW17 0QD, United Kingdom', budget=250000000, collection=1405413868, actor_1='Robert Downey Jr.', actor_2='Chris Evans', actor_3='Mark Ruffalo', actor_4='Chris Hemsworth', director='Joss Whedon', story=\"When Tony Stark and Bruce Banner try to jump-start a dormant peacekeeping program called Ultron, things go horribly wrong and it's up to Earth's mightiest heroes to stop the villainous Ultron from enacting his terrible plan.\", longitude=-0.4655, latitude=51.4068, locations_country='UK', profit=1155413868, ROI=462.16554719999993, actor_1_g='male', actor_2_g='male', actor_3_g='male', actor_4_g='male')\n",
      "Pandas(Index=11, title='Ant-Man', genres='Action,Adventure,Comedy,Sci-Fi', date=Timestamp('2015-07-17 00:00:00'), score=7.3, runtime=117, language='English', locations='461 Sandy Creek Rd, Fayetteville, GA 30214, United States', budget=130000000, collection=519445163, actor_1='Paul Rudd', actor_2='Michael Douglas', actor_3='Corey Stoll', actor_4='Evangeline Lilly', director='Peyton Reed', story='Armed with a super-suit with the astonishing ability to shrink in scale but increase in strength, cat burglar Scott Lang must embrace his inner hero and help his mentor, Dr. Hank Pym, plan and pull off a heist that will save the world.', longitude=-84.51082177901039, latitude=33.47468215, locations_country='USA', profit=389445163, ROI=299.57320230769227, actor_1_g='male', actor_2_g='male', actor_3_g='male', actor_4_g='female')\n",
      "Pandas(Index=12, title='Captain America: Civil War', genres='Action,Adventure,Sci-Fi', date=Timestamp('2016-05-06 00:00:00'), score=7.8, runtime=147, language='English,German,Xhosa,Russian,Romanian,Hindi', locations='Atlanta, Georgia, USA', budget=250000000, collection=1153304495, actor_1='Chris Evans', actor_2='Robert Downey Jr.', actor_3='Scarlett Johansson', actor_4='Sebastian Stan', director='Anthony Russo, Joe Russo', story=\"Political involvement in the Avengers' affairs causes a rift between Captain America and Iron Man.\", longitude=-84.3902644, latitude=33.7489924, locations_country='USA', profit=903304495, ROI=361.321798, actor_1_g='male', actor_2_g='male', actor_3_g='female', actor_4_g='male')\n",
      "Pandas(Index=13, title='Doctor Strange', genres='Action,Adventure,Fantasy,Sci-Fi', date=Timestamp('2016-11-04 00:00:00'), score=7.5, runtime=115, language='English', locations='New York City, New York, USA', budget=165000000, collection=677718395, actor_1='Benedict Cumberbatch', actor_2='Chiwetel Ejiofor', actor_3='Rachel McAdams', actor_4='Benedict Wong', director='Scott Derrickson', story='While on a journey of physical and spiritual healing, a brilliant neurosurgeon is drawn into the world of the mystic arts.', longitude=-74.0060152, latitude=40.7127281, locations_country='USA', profit=512718395, ROI=310.7384212121212, actor_1_g='male', actor_2_g='male', actor_3_g='female', actor_4_g='male')\n",
      "Pandas(Index=14, title='Guardians of the Galaxy Vol. 2', genres='Action,Adventure,Comedy,Sci-Fi', date=Timestamp('2017-05-05 00:00:00'), score=7.7, runtime=136, language='English', locations='Atlanta, Georgia, USA', budget=200000000, collection=863756051, actor_1='Chris Pratt', actor_2='Zoe Saldana', actor_3='Dave Bautista', actor_4='Vin Diesel', director='James Gunn', story=\"The Guardians struggle to keep together as a team while dealing with their personal family issues, notably Star-Lord's encounter with his father the ambitious celestial being Ego.\", longitude=-84.3902644, latitude=33.7489924, locations_country='USA', profit=663756051, ROI=331.87802550000004, actor_1_g='male', actor_2_g='female', actor_3_g='male', actor_4_g='male')\n",
      "Pandas(Index=15, title='Spider-Man: Homecoming', genres='Action,Adventure,Sci-Fi', date=Timestamp('2017-07-07 00:00:00'), score=7.5, runtime=133, language='English,Spanish', locations='Atlanta, Georgia, USA', budget=175000000, collection=880166924, actor_1='Tom Holland', actor_2='Michael Keaton', actor_3='Robert Downey Jr.', actor_4='Marisa Tomei', director='Jon Watts', story='Peter Parker balances his life as an ordinary high school student in Queens with his superhero alter-ego Spider-Man, and finds himself on the trail of a new menace prowling the skies of New York City.', longitude=-84.3902644, latitude=33.7489924, locations_country='USA', profit=705166924, ROI=402.952528, actor_1_g='male', actor_2_g='male', actor_3_g='male', actor_4_g='female')\n",
      "Pandas(Index=16, title='Thor: Ragnarok', genres='Action,Adventure,Comedy,Fantasy,Sci-Fi', date=Timestamp('2017-11-03 00:00:00'), score=7.9, runtime=130, language='English', locations='Village Roadshow Studios, Oxenford, Queensland, Australia', budget=180000000, collection=853977126, actor_1='Chris Hemsworth', actor_2='Tom Hiddleston', actor_3='Cate Blanchett', actor_4='Mark Ruffalo', director='Taika Waititi', story='Thor (Chris Hemsworth) is imprisoned on the planet Sakaar, and must race against time to return to Asgard and stop Ragnarök, the destruction of his world, at the hands of the powerful and ruthless villain Hela (Cate Blanchett).', longitude=153.3118145855983, latitude=-27.910527700000003, locations_country='Australia', profit=673977126, ROI=374.43173666666667, actor_1_g='male', actor_2_g='male', actor_3_g='female', actor_4_g='male')\n",
      "Pandas(Index=17, title='Black Panther', genres='Action,Adventure,Sci-Fi', date=Timestamp('2018-02-16 00:00:00'), score=7.3, runtime=134, language='English,Swahili,Nama,Xhosa,Korean', locations='461 Sandy Creek Rd, Fayetteville, GA 30214, United States', budget=200000000, collection=1347071259, actor_1='Chadwick Boseman', actor_2='Michael B. Jordan', actor_3=\"Lupita Nyong'o\", actor_4='Danai Gurira', director='Ryan Coogler', story=\"T'Challa, heir to the hidden but advanced kingdom of Wakanda, must step forward to lead his people into a new future and must confront a challenger from his country's past.\", longitude=-84.51082177901039, latitude=33.47468215, locations_country='USA', profit=1147071259, ROI=573.5356295, actor_1_g='male', actor_2_g='male', actor_3_g='female', actor_4_g='female')\n",
      "Pandas(Index=18, title='Avengers: Infinity War', genres='Action,Adventure,Sci-Fi', date=Timestamp('2018-04-27 00:00:00'), score=8.5, runtime=149, language='English', locations='461 Sandy Creek Rd, Fayetteville, GA 30214, United States', budget=321000000, collection=2048709917, actor_1='Robert Downey Jr.', actor_2='Chris Hemsworth', actor_3='Mark Ruffalo', actor_4='Chris Evans', director='Anthony Russo, Joe Russo', story='The Avengers and their allies must be willing to sacrifice all in an attempt to defeat the powerful Thanos before his blitz of devastation and ruin puts an end to the universe.', longitude=-84.51082177901039, latitude=33.47468215, locations_country='USA', profit=1727709917, ROI=538.2273884735203, actor_1_g='male', actor_2_g='male', actor_3_g='male', actor_4_g='male')\n",
      "Pandas(Index=19, title='Ant-Man and the Wasp', genres='Action,Adventure,Comedy,Sci-Fi', date=Timestamp('2018-07-06 00:00:00'), score=7.1, runtime=118, language='English,Spanish', locations='Atlanta, Georgia, USA', budget=162000000, collection=622674139, actor_1='Paul Rudd', actor_2='Evangeline Lilly', actor_3='Michael Peña', actor_4='Walton Goggins', director='Peyton Reed', story='As Scott Lang balances being both a Super Hero and a father, Hope van Dyne and Dr. Hank Pym present an urgent new mission that finds the Ant-Man fighting alongside The Wasp to uncover secrets from their past.', longitude=-84.3902644, latitude=33.7489924, locations_country='USA', profit=460674139, ROI=284.3667524691358, actor_1_g='male', actor_2_g='female', actor_3_g='male', actor_4_g='male')\n",
      "Pandas(Index=20, title='Captain Marvel', genres='Action,Adventure,Sci-Fi', date=Timestamp('2019-03-08 00:00:00'), score=7.1, runtime=123, language='English', locations='Los Angeles, California, USA', budget=152000000, collection=1126318317, actor_1='Brie Larson', actor_2='Samuel L. Jackson', actor_3='Ben Mendelsohn', actor_4='Jude Law', director='Anna Boden, Ryan Fleck', story=\"Carol Danvers becomes one of the universe's most powerful heroes when Earth is caught in the middle of a galactic war between two alien races.\", longitude=-118.242766, latitude=34.0536909, locations_country='USA', profit=974318317, ROI=640.9988927631579, actor_1_g='female', actor_2_g='male', actor_3_g='male', actor_4_g='male')\n",
      "Pandas(Index=21, title='Avengers: Endgame', genres='Action,Adventure,Sci-Fi', date=Timestamp('2019-04-26 00:00:00'), score=8.8, runtime=181, language='English,Japanese,Xhosa', locations='Atlanta,Georgia,USA', budget=356000000, collection=2681988528, actor_1='Robert Downey Jr.', actor_2='Chris Evans', actor_3='Mark Ruffalo', actor_4='Chris Hemsworth', director='Anthony Russo, Joe Russo', story=\"With the help of remaining allies, the Avengers assemble once more in order to undo Thanos' actions and restore order to the universe.\", longitude=-84.3902644, latitude=33.7489924, locations_country='USA', profit=2325988528, ROI=653.3675640449438, actor_1_g='male', actor_2_g='male', actor_3_g='male', actor_4_g='male')\n",
      "Pandas(Index=22, title='Spider-Man: Far from Home', genres='Action , Adventure , Sci-Fi', date=Timestamp('2019-07-02 00:00:00'), score=7.5, runtime=129, language='English', locations='Hertfordshire, England, UK', budget=160000000, collection=1132000000, actor_1='Tom Holland', actor_2='Samuel L. Jackson', actor_3='Jake Gyllenhaal', actor_4='Marisa Tomei', director='Jon Watts', story='Following the events of Avengers: Endgame, Spider-Man must step up to take on new threats in a world that has changed forever.', longitude=-0.09785519224523963, latitude=51.840052299999996, locations_country='UK', profit=972000000, ROI=607.5, actor_1_g='male', actor_2_g='male', actor_3_g='male', actor_4_g='female')\n"
     ]
    },
    {
     "data": {
      "text/html": [
       "<div style=\"width:100%;\"><div style=\"position:relative;width:100%;height:0;padding-bottom:60%;\"><span style=\"color:#565656\">Make this Notebook Trusted to load map: File -> Trust Notebook</span><iframe src=\"about:blank\" style=\"position:absolute;width:100%;height:100%;left:0;top:0;border:none !important;\" data-html=PCFET0NUWVBFIGh0bWw+CjxoZWFkPiAgICAKICAgIDxtZXRhIGh0dHAtZXF1aXY9ImNvbnRlbnQtdHlwZSIgY29udGVudD0idGV4dC9odG1sOyBjaGFyc2V0PVVURi04IiAvPgogICAgCiAgICAgICAgPHNjcmlwdD4KICAgICAgICAgICAgTF9OT19UT1VDSCA9IGZhbHNlOwogICAgICAgICAgICBMX0RJU0FCTEVfM0QgPSBmYWxzZTsKICAgICAgICA8L3NjcmlwdD4KICAgIAogICAgPHNjcmlwdCBzcmM9Imh0dHBzOi8vY2RuLmpzZGVsaXZyLm5ldC9ucG0vbGVhZmxldEAxLjYuMC9kaXN0L2xlYWZsZXQuanMiPjwvc2NyaXB0PgogICAgPHNjcmlwdCBzcmM9Imh0dHBzOi8vY29kZS5qcXVlcnkuY29tL2pxdWVyeS0xLjEyLjQubWluLmpzIj48L3NjcmlwdD4KICAgIDxzY3JpcHQgc3JjPSJodHRwczovL21heGNkbi5ib290c3RyYXBjZG4uY29tL2Jvb3RzdHJhcC8zLjIuMC9qcy9ib290c3RyYXAubWluLmpzIj48L3NjcmlwdD4KICAgIDxzY3JpcHQgc3JjPSJodHRwczovL2NkbmpzLmNsb3VkZmxhcmUuY29tL2FqYXgvbGlicy9MZWFmbGV0LmF3ZXNvbWUtbWFya2Vycy8yLjAuMi9sZWFmbGV0LmF3ZXNvbWUtbWFya2Vycy5qcyI+PC9zY3JpcHQ+CiAgICA8bGluayByZWw9InN0eWxlc2hlZXQiIGhyZWY9Imh0dHBzOi8vY2RuLmpzZGVsaXZyLm5ldC9ucG0vbGVhZmxldEAxLjYuMC9kaXN0L2xlYWZsZXQuY3NzIi8+CiAgICA8bGluayByZWw9InN0eWxlc2hlZXQiIGhyZWY9Imh0dHBzOi8vbWF4Y2RuLmJvb3RzdHJhcGNkbi5jb20vYm9vdHN0cmFwLzMuMi4wL2Nzcy9ib290c3RyYXAubWluLmNzcyIvPgogICAgPGxpbmsgcmVsPSJzdHlsZXNoZWV0IiBocmVmPSJodHRwczovL21heGNkbi5ib290c3RyYXBjZG4uY29tL2Jvb3RzdHJhcC8zLjIuMC9jc3MvYm9vdHN0cmFwLXRoZW1lLm1pbi5jc3MiLz4KICAgIDxsaW5rIHJlbD0ic3R5bGVzaGVldCIgaHJlZj0iaHR0cHM6Ly9tYXhjZG4uYm9vdHN0cmFwY2RuLmNvbS9mb250LWF3ZXNvbWUvNC42LjMvY3NzL2ZvbnQtYXdlc29tZS5taW4uY3NzIi8+CiAgICA8bGluayByZWw9InN0eWxlc2hlZXQiIGhyZWY9Imh0dHBzOi8vY2RuanMuY2xvdWRmbGFyZS5jb20vYWpheC9saWJzL0xlYWZsZXQuYXdlc29tZS1tYXJrZXJzLzIuMC4yL2xlYWZsZXQuYXdlc29tZS1tYXJrZXJzLmNzcyIvPgogICAgPGxpbmsgcmVsPSJzdHlsZXNoZWV0IiBocmVmPSJodHRwczovL3Jhd2Nkbi5naXRoYWNrLmNvbS9weXRob24tdmlzdWFsaXphdGlvbi9mb2xpdW0vbWFzdGVyL2ZvbGl1bS90ZW1wbGF0ZXMvbGVhZmxldC5hd2Vzb21lLnJvdGF0ZS5jc3MiLz4KICAgIDxzdHlsZT5odG1sLCBib2R5IHt3aWR0aDogMTAwJTtoZWlnaHQ6IDEwMCU7bWFyZ2luOiAwO3BhZGRpbmc6IDA7fTwvc3R5bGU+CiAgICA8c3R5bGU+I21hcCB7cG9zaXRpb246YWJzb2x1dGU7dG9wOjA7Ym90dG9tOjA7cmlnaHQ6MDtsZWZ0OjA7fTwvc3R5bGU+CiAgICAKICAgICAgICAgICAgPG1ldGEgbmFtZT0idmlld3BvcnQiIGNvbnRlbnQ9IndpZHRoPWRldmljZS13aWR0aCwKICAgICAgICAgICAgICAgIGluaXRpYWwtc2NhbGU9MS4wLCBtYXhpbXVtLXNjYWxlPTEuMCwgdXNlci1zY2FsYWJsZT1ubyIgLz4KICAgICAgICAgICAgPHN0eWxlPgogICAgICAgICAgICAgICAgI21hcF85YTk1MWQ3ZGJiYzc0OTgzOGQ4NDE2ZDQ3NzUxZWU4ZCB7CiAgICAgICAgICAgICAgICAgICAgcG9zaXRpb246IHJlbGF0aXZlOwogICAgICAgICAgICAgICAgICAgIHdpZHRoOiAxMDAuMCU7CiAgICAgICAgICAgICAgICAgICAgaGVpZ2h0OiAxMDAuMCU7CiAgICAgICAgICAgICAgICAgICAgbGVmdDogMC4wJTsKICAgICAgICAgICAgICAgICAgICB0b3A6IDAuMCU7CiAgICAgICAgICAgICAgICB9CiAgICAgICAgICAgIDwvc3R5bGU+CiAgICAgICAgCiAgICA8c2NyaXB0IHNyYz0iaHR0cHM6Ly9jZG5qcy5jbG91ZGZsYXJlLmNvbS9hamF4L2xpYnMvbGVhZmxldC5tYXJrZXJjbHVzdGVyLzEuMS4wL2xlYWZsZXQubWFya2VyY2x1c3Rlci5qcyI+PC9zY3JpcHQ+CiAgICA8bGluayByZWw9InN0eWxlc2hlZXQiIGhyZWY9Imh0dHBzOi8vY2RuanMuY2xvdWRmbGFyZS5jb20vYWpheC9saWJzL2xlYWZsZXQubWFya2VyY2x1c3Rlci8xLjEuMC9NYXJrZXJDbHVzdGVyLmNzcyIvPgogICAgPGxpbmsgcmVsPSJzdHlsZXNoZWV0IiBocmVmPSJodHRwczovL2NkbmpzLmNsb3VkZmxhcmUuY29tL2FqYXgvbGlicy9sZWFmbGV0Lm1hcmtlcmNsdXN0ZXIvMS4xLjAvTWFya2VyQ2x1c3Rlci5EZWZhdWx0LmNzcyIvPgo8L2hlYWQ+Cjxib2R5PiAgICAKICAgIAogICAgICAgICAgICA8ZGl2IGNsYXNzPSJmb2xpdW0tbWFwIiBpZD0ibWFwXzlhOTUxZDdkYmJjNzQ5ODM4ZDg0MTZkNDc3NTFlZThkIiA+PC9kaXY+CiAgICAgICAgCjwvYm9keT4KPHNjcmlwdD4gICAgCiAgICAKICAgICAgICAgICAgdmFyIG1hcF85YTk1MWQ3ZGJiYzc0OTgzOGQ4NDE2ZDQ3NzUxZWU4ZCA9IEwubWFwKAogICAgICAgICAgICAgICAgIm1hcF85YTk1MWQ3ZGJiYzc0OTgzOGQ4NDE2ZDQ3NzUxZWU4ZCIsCiAgICAgICAgICAgICAgICB7CiAgICAgICAgICAgICAgICAgICAgY2VudGVyOiBbLTIwLjMzODMxNSwgMTguMDg5OTZdLAogICAgICAgICAgICAgICAgICAgIGNyczogTC5DUlMuRVBTRzM4NTcsCiAgICAgICAgICAgICAgICAgICAgem9vbTogMiwKICAgICAgICAgICAgICAgICAgICB6b29tQ29udHJvbDogdHJ1ZSwKICAgICAgICAgICAgICAgICAgICBwcmVmZXJDYW52YXM6IGZhbHNlLAogICAgICAgICAgICAgICAgfQogICAgICAgICAgICApOwoKICAgICAgICAgICAgCgogICAgICAgIAogICAgCiAgICAgICAgICAgIHZhciB0aWxlX2xheWVyXzg1ZjEwNWU0Mjg3MzQ3YjJhYTQzZmE3ZjZmNTYwZGIzID0gTC50aWxlTGF5ZXIoCiAgICAgICAgICAgICAgICAiaHR0cHM6Ly97c30udGlsZS5vcGVuc3RyZWV0bWFwLm9yZy97en0ve3h9L3t5fS5wbmciLAogICAgICAgICAgICAgICAgeyJhdHRyaWJ1dGlvbiI6ICJEYXRhIGJ5IFx1MDAyNmNvcHk7IFx1MDAzY2EgaHJlZj1cImh0dHA6Ly9vcGVuc3RyZWV0bWFwLm9yZ1wiXHUwMDNlT3BlblN0cmVldE1hcFx1MDAzYy9hXHUwMDNlLCB1bmRlciBcdTAwM2NhIGhyZWY9XCJodHRwOi8vd3d3Lm9wZW5zdHJlZXRtYXAub3JnL2NvcHlyaWdodFwiXHUwMDNlT0RiTFx1MDAzYy9hXHUwMDNlLiIsICJkZXRlY3RSZXRpbmEiOiBmYWxzZSwgIm1heE5hdGl2ZVpvb20iOiAxOCwgIm1heFpvb20iOiAxOCwgIm1pblpvb20iOiAwLCAibm9XcmFwIjogZmFsc2UsICJvcGFjaXR5IjogMSwgInN1YmRvbWFpbnMiOiAiYWJjIiwgInRtcyI6IGZhbHNlfQogICAgICAgICAgICApLmFkZFRvKG1hcF85YTk1MWQ3ZGJiYzc0OTgzOGQ4NDE2ZDQ3NzUxZWU4ZCk7CiAgICAgICAgCiAgICAKICAgICAgICAgICAgdmFyIGNpcmNsZV9tYXJrZXJfMTVkODVjY2YxODFmNGMwYWJlNzE2YWJkMDNlYzY0MDUgPSBMLmNpcmNsZU1hcmtlcigKICAgICAgICAgICAgICAgIFszNC42Mjc1LCAxMTguMDgzM10sCiAgICAgICAgICAgICAgICB7ImJ1YmJsaW5nTW91c2VFdmVudHMiOiB0cnVlLCAiY29sb3IiOiAiIzMzODhmZiIsICJkYXNoQXJyYXkiOiBudWxsLCAiZGFzaE9mZnNldCI6IG51bGwsICJmaWxsIjogZmFsc2UsICJmaWxsQ29sb3IiOiAiIzMzODhmZiIsICJmaWxsT3BhY2l0eSI6IDAuMiwgImZpbGxSdWxlIjogImV2ZW5vZGQiLCAibGluZUNhcCI6ICJyb3VuZCIsICJsaW5lSm9pbiI6ICJyb3VuZCIsICJvcGFjaXR5IjogMS4wLCAicmFkaXVzIjogMTAsICJzdHJva2UiOiB0cnVlLCAid2VpZ2h0IjogM30KICAgICAgICAgICAgKS5hZGRUbyhtYXBfOWE5NTFkN2RiYmM3NDk4MzhkODQxNmQ0Nzc1MWVlOGQpOwogICAgICAgIAogICAgCiAgICAgICAgICAgIHZhciBjaXJjbGVfbWFya2VyXzBiYzI4MmVlNDYyZTQxYzM5NTRkYzhjYThkMjg1YzVjID0gTC5jaXJjbGVNYXJrZXIoCiAgICAgICAgICAgICAgICBbNDMuNjQwODM5NiwgLTc5LjM0ODU2NzddLAogICAgICAgICAgICAgICAgeyJidWJibGluZ01vdXNlRXZlbnRzIjogdHJ1ZSwgImNvbG9yIjogIiMzMzg4ZmYiLCAiZGFzaEFycmF5IjogbnVsbCwgImRhc2hPZmZzZXQiOiBudWxsLCAiZmlsbCI6IGZhbHNlLCAiZmlsbENvbG9yIjogIiMzMzg4ZmYiLCAiZmlsbE9wYWNpdHkiOiAwLjIsICJmaWxsUnVsZSI6ICJldmVub2RkIiwgImxpbmVDYXAiOiAicm91bmQiLCAibGluZUpvaW4iOiAicm91bmQiLCAib3BhY2l0eSI6IDEuMCwgInJhZGl1cyI6IDEwLCAic3Ryb2tlIjogdHJ1ZSwgIndlaWdodCI6IDN9CiAgICAgICAgICAgICkuYWRkVG8obWFwXzlhOTUxZDdkYmJjNzQ5ODM4ZDg0MTZkNDc3NTFlZThkKTsKICAgICAgICAKICAgIAogICAgICAgICAgICB2YXIgY2lyY2xlX21hcmtlcl81ZjViM2NkMDBkMGI0NWIzYmQxNzA5YWU1MjA3ZWNhYiA9IEwuY2lyY2xlTWFya2VyKAogICAgICAgICAgICAgICAgWzM0LjAzODE1MzEyMjY5OTM4LCAtMTE4LjIzMzg0NzQ2NzY1MjI4XSwKICAgICAgICAgICAgICAgIHsiYnViYmxpbmdNb3VzZUV2ZW50cyI6IHRydWUsICJjb2xvciI6ICIjMzM4OGZmIiwgImRhc2hBcnJheSI6IG51bGwsICJkYXNoT2Zmc2V0IjogbnVsbCwgImZpbGwiOiBmYWxzZSwgImZpbGxDb2xvciI6ICIjMzM4OGZmIiwgImZpbGxPcGFjaXR5IjogMC4yLCAiZmlsbFJ1bGUiOiAiZXZlbm9kZCIsICJsaW5lQ2FwIjogInJvdW5kIiwgImxpbmVKb2luIjogInJvdW5kIiwgIm9wYWNpdHkiOiAxLjAsICJyYWRpdXMiOiAxMCwgInN0cm9rZSI6IHRydWUsICJ3ZWlnaHQiOiAzfQogICAgICAgICAgICApLmFkZFRvKG1hcF85YTk1MWQ3ZGJiYzc0OTgzOGQ4NDE2ZDQ3NzUxZWU4ZCk7CiAgICAgICAgCiAgICAKICAgICAgICAgICAgdmFyIGNpcmNsZV9tYXJrZXJfYzc2YTJhZGYwN2VhNDczNzliMzZlNjE1NDU3ODVmMDkgPSBMLmNpcmNsZU1hcmtlcigKICAgICAgICAgICAgICAgIFszNS4zOTQ0NTksIC0xMDUuOTYwNDU2NTU2ODQwNzFdLAogICAgICAgICAgICAgICAgeyJidWJibGluZ01vdXNlRXZlbnRzIjogdHJ1ZSwgImNvbG9yIjogIiMzMzg4ZmYiLCAiZGFzaEFycmF5IjogbnVsbCwgImRhc2hPZmZzZXQiOiBudWxsLCAiZmlsbCI6IGZhbHNlLCAiZmlsbENvbG9yIjogIiMzMzg4ZmYiLCAiZmlsbE9wYWNpdHkiOiAwLjIsICJmaWxsUnVsZSI6ICJldmVub2RkIiwgImxpbmVDYXAiOiAicm91bmQiLCAibGluZUpvaW4iOiAicm91bmQiLCAib3BhY2l0eSI6IDEuMCwgInJhZGl1cyI6IDEwLCAic3Ryb2tlIjogdHJ1ZSwgIndlaWdodCI6IDN9CiAgICAgICAgICAgICkuYWRkVG8obWFwXzlhOTUxZDdkYmJjNzQ5ODM4ZDg0MTZkNDc3NTFlZThkKTsKICAgICAgICAKICAgIAogICAgICAgICAgICB2YXIgY2lyY2xlX21hcmtlcl82OWFiNTE5Mjc0MjY0NWY5YWI5ZWMxYzIxMGFjMDk1MCA9IEwuY2lyY2xlTWFya2VyKAogICAgICAgICAgICAgICAgWzUzLjQxOTc5NjUsIC0zLjAwMDEyMTJdLAogICAgICAgICAgICAgICAgeyJidWJibGluZ01vdXNlRXZlbnRzIjogdHJ1ZSwgImNvbG9yIjogIiMzMzg4ZmYiLCAiZGFzaEFycmF5IjogbnVsbCwgImRhc2hPZmZzZXQiOiBudWxsLCAiZmlsbCI6IGZhbHNlLCAiZmlsbENvbG9yIjogIiMzMzg4ZmYiLCAiZmlsbE9wYWNpdHkiOiAwLjIsICJmaWxsUnVsZSI6ICJldmVub2RkIiwgImxpbmVDYXAiOiAicm91bmQiLCAibGluZUpvaW4iOiAicm91bmQiLCAib3BhY2l0eSI6IDEuMCwgInJhZGl1cyI6IDEwLCAic3Ryb2tlIjogdHJ1ZSwgIndlaWdodCI6IDN9CiAgICAgICAgICAgICkuYWRkVG8obWFwXzlhOTUxZDdkYmJjNzQ5ODM4ZDg0MTZkNDc3NTFlZThkKTsKICAgICAgICAKICAgIAogICAgICAgICAgICB2YXIgY2lyY2xlX21hcmtlcl83N2E3ZjcyYmJmODk0MjVjODY4NjQ5NjllYWE3ZDg0OSA9IEwuY2lyY2xlTWFya2VyKAogICAgICAgICAgICAgICAgWzQwLjQ0MTY5NDEsIC03OS45OTAwODYxXSwKICAgICAgICAgICAgICAgIHsiYnViYmxpbmdNb3VzZUV2ZW50cyI6IHRydWUsICJjb2xvciI6ICIjMzM4OGZmIiwgImRhc2hBcnJheSI6IG51bGwsICJkYXNoT2Zmc2V0IjogbnVsbCwgImZpbGwiOiBmYWxzZSwgImZpbGxDb2xvciI6ICIjMzM4OGZmIiwgImZpbGxPcGFjaXR5IjogMC4yLCAiZmlsbFJ1bGUiOiAiZXZlbm9kZCIsICJsaW5lQ2FwIjogInJvdW5kIiwgImxpbmVKb2luIjogInJvdW5kIiwgIm9wYWNpdHkiOiAxLjAsICJyYWRpdXMiOiAxMCwgInN0cm9rZSI6IHRydWUsICJ3ZWlnaHQiOiAzfQogICAgICAgICAgICApLmFkZFRvKG1hcF85YTk1MWQ3ZGJiYzc0OTgzOGQ4NDE2ZDQ3NzUxZWU4ZCk7CiAgICAgICAgCiAgICAKICAgICAgICAgICAgdmFyIGNpcmNsZV9tYXJrZXJfZDAxZjNiZmY5OGU2NDlkNjgwNDBiZDRiYzkwNjJiY2YgPSBMLmNpcmNsZU1hcmtlcigKICAgICAgICAgICAgICAgIFszNS43ODgyODkzLCAtNzguNzgxMjA4MV0sCiAgICAgICAgICAgICAgICB7ImJ1YmJsaW5nTW91c2VFdmVudHMiOiB0cnVlLCAiY29sb3IiOiAiIzMzODhmZiIsICJkYXNoQXJyYXkiOiBudWxsLCAiZGFzaE9mZnNldCI6IG51bGwsICJmaWxsIjogZmFsc2UsICJmaWxsQ29sb3IiOiAiIzMzODhmZiIsICJmaWxsT3BhY2l0eSI6IDAuMiwgImZpbGxSdWxlIjogImV2ZW5vZGQiLCAibGluZUNhcCI6ICJyb3VuZCIsICJsaW5lSm9pbiI6ICJyb3VuZCIsICJvcGFjaXR5IjogMS4wLCAicmFkaXVzIjogMTAsICJzdHJva2UiOiB0cnVlLCAid2VpZ2h0IjogM30KICAgICAgICAgICAgKS5hZGRUbyhtYXBfOWE5NTFkN2RiYmM3NDk4MzhkODQxNmQ0Nzc1MWVlOGQpOwogICAgICAgIAogICAgCiAgICAgICAgICAgIHZhciBjaXJjbGVfbWFya2VyX2E0ZWM3YjQwZDRmYTQ0MjM5ZWJmODNhNjk0NWIyZTRlID0gTC5jaXJjbGVNYXJrZXIoCiAgICAgICAgICAgICAgICBbNTEuNDA2OCwgLTAuNDY1NV0sCiAgICAgICAgICAgICAgICB7ImJ1YmJsaW5nTW91c2VFdmVudHMiOiB0cnVlLCAiY29sb3IiOiAiIzMzODhmZiIsICJkYXNoQXJyYXkiOiBudWxsLCAiZGFzaE9mZnNldCI6IG51bGwsICJmaWxsIjogZmFsc2UsICJmaWxsQ29sb3IiOiAiIzMzODhmZiIsICJmaWxsT3BhY2l0eSI6IDAuMiwgImZpbGxSdWxlIjogImV2ZW5vZGQiLCAibGluZUNhcCI6ICJyb3VuZCIsICJsaW5lSm9pbiI6ICJyb3VuZCIsICJvcGFjaXR5IjogMS4wLCAicmFkaXVzIjogMTAsICJzdHJva2UiOiB0cnVlLCAid2VpZ2h0IjogM30KICAgICAgICAgICAgKS5hZGRUbyhtYXBfOWE5NTFkN2RiYmM3NDk4MzhkODQxNmQ0Nzc1MWVlOGQpOwogICAgICAgIAogICAgCiAgICAgICAgICAgIHZhciBjaXJjbGVfbWFya2VyX2M5ZjdhNGRjNmQxMDQ1MTQ4NDEyYTBmZDIxZjRlMmRkID0gTC5jaXJjbGVNYXJrZXIoCiAgICAgICAgICAgICAgICBbMzQuMDUzNjkwOSwgLTExOC4yNDI3NjZdLAogICAgICAgICAgICAgICAgeyJidWJibGluZ01vdXNlRXZlbnRzIjogdHJ1ZSwgImNvbG9yIjogIiMzMzg4ZmYiLCAiZGFzaEFycmF5IjogbnVsbCwgImRhc2hPZmZzZXQiOiBudWxsLCAiZmlsbCI6IGZhbHNlLCAiZmlsbENvbG9yIjogIiMzMzg4ZmYiLCAiZmlsbE9wYWNpdHkiOiAwLjIsICJmaWxsUnVsZSI6ICJldmVub2RkIiwgImxpbmVDYXAiOiAicm91bmQiLCAibGluZUpvaW4iOiAicm91bmQiLCAib3BhY2l0eSI6IDEuMCwgInJhZGl1cyI6IDEwLCAic3Ryb2tlIjogdHJ1ZSwgIndlaWdodCI6IDN9CiAgICAgICAgICAgICkuYWRkVG8obWFwXzlhOTUxZDdkYmJjNzQ5ODM4ZDg0MTZkNDc3NTFlZThkKTsKICAgICAgICAKICAgIAogICAgICAgICAgICB2YXIgY2lyY2xlX21hcmtlcl8zNmE2YzE5NDQ5YWQ0ODk5OGViZTk4NDM1ZDE4Njg3MSA9IEwuY2lyY2xlTWFya2VyKAogICAgICAgICAgICAgICAgWzUxLjQwNjgsIC0wLjQ2NTVdLAogICAgICAgICAgICAgICAgeyJidWJibGluZ01vdXNlRXZlbnRzIjogdHJ1ZSwgImNvbG9yIjogIiMzMzg4ZmYiLCAiZGFzaEFycmF5IjogbnVsbCwgImRhc2hPZmZzZXQiOiBudWxsLCAiZmlsbCI6IGZhbHNlLCAiZmlsbENvbG9yIjogIiMzMzg4ZmYiLCAiZmlsbE9wYWNpdHkiOiAwLjIsICJmaWxsUnVsZSI6ICJldmVub2RkIiwgImxpbmVDYXAiOiAicm91bmQiLCAibGluZUpvaW4iOiAicm91bmQiLCAib3BhY2l0eSI6IDEuMCwgInJhZGl1cyI6IDEwLCAic3Ryb2tlIjogdHJ1ZSwgIndlaWdodCI6IDN9CiAgICAgICAgICAgICkuYWRkVG8obWFwXzlhOTUxZDdkYmJjNzQ5ODM4ZDg0MTZkNDc3NTFlZThkKTsKICAgICAgICAKICAgIAogICAgICAgICAgICB2YXIgY2lyY2xlX21hcmtlcl9lMGZiNDMwNDZkYjM0YjI0ODU2ODIxYTQwYzc4OTM3OSA9IEwuY2lyY2xlTWFya2VyKAogICAgICAgICAgICAgICAgWzUxLjQwNjgsIC0wLjQ2NTVdLAogICAgICAgICAgICAgICAgeyJidWJibGluZ01vdXNlRXZlbnRzIjogdHJ1ZSwgImNvbG9yIjogIiMzMzg4ZmYiLCAiZGFzaEFycmF5IjogbnVsbCwgImRhc2hPZmZzZXQiOiBudWxsLCAiZmlsbCI6IGZhbHNlLCAiZmlsbENvbG9yIjogIiMzMzg4ZmYiLCAiZmlsbE9wYWNpdHkiOiAwLjIsICJmaWxsUnVsZSI6ICJldmVub2RkIiwgImxpbmVDYXAiOiAicm91bmQiLCAibGluZUpvaW4iOiAicm91bmQiLCAib3BhY2l0eSI6IDEuMCwgInJhZGl1cyI6IDEwLCAic3Ryb2tlIjogdHJ1ZSwgIndlaWdodCI6IDN9CiAgICAgICAgICAgICkuYWRkVG8obWFwXzlhOTUxZDdkYmJjNzQ5ODM4ZDg0MTZkNDc3NTFlZThkKTsKICAgICAgICAKICAgIAogICAgICAgICAgICB2YXIgY2lyY2xlX21hcmtlcl9iMjkxMDdhYWRjNGE0NGFmYWYzNzJiNjg2Yzc4YTM5ZCA9IEwuY2lyY2xlTWFya2VyKAogICAgICAgICAgICAgICAgWzMzLjQ3NDY4MjE1LCAtODQuNTEwODIxNzc5MDEwMzldLAogICAgICAgICAgICAgICAgeyJidWJibGluZ01vdXNlRXZlbnRzIjogdHJ1ZSwgImNvbG9yIjogIiMzMzg4ZmYiLCAiZGFzaEFycmF5IjogbnVsbCwgImRhc2hPZmZzZXQiOiBudWxsLCAiZmlsbCI6IGZhbHNlLCAiZmlsbENvbG9yIjogIiMzMzg4ZmYiLCAiZmlsbE9wYWNpdHkiOiAwLjIsICJmaWxsUnVsZSI6ICJldmVub2RkIiwgImxpbmVDYXAiOiAicm91bmQiLCAibGluZUpvaW4iOiAicm91bmQiLCAib3BhY2l0eSI6IDEuMCwgInJhZGl1cyI6IDEwLCAic3Ryb2tlIjogdHJ1ZSwgIndlaWdodCI6IDN9CiAgICAgICAgICAgICkuYWRkVG8obWFwXzlhOTUxZDdkYmJjNzQ5ODM4ZDg0MTZkNDc3NTFlZThkKTsKICAgICAgICAKICAgIAogICAgICAgICAgICB2YXIgY2lyY2xlX21hcmtlcl9iYzE3YTRjZDM3YWY0NDFlODQ1OWI5ODIzMTllMTVmMSA9IEwuY2lyY2xlTWFya2VyKAogICAgICAgICAgICAgICAgWzMzLjc0ODk5MjQsIC04NC4zOTAyNjQ0XSwKICAgICAgICAgICAgICAgIHsiYnViYmxpbmdNb3VzZUV2ZW50cyI6IHRydWUsICJjb2xvciI6ICIjMzM4OGZmIiwgImRhc2hBcnJheSI6IG51bGwsICJkYXNoT2Zmc2V0IjogbnVsbCwgImZpbGwiOiBmYWxzZSwgImZpbGxDb2xvciI6ICIjMzM4OGZmIiwgImZpbGxPcGFjaXR5IjogMC4yLCAiZmlsbFJ1bGUiOiAiZXZlbm9kZCIsICJsaW5lQ2FwIjogInJvdW5kIiwgImxpbmVKb2luIjogInJvdW5kIiwgIm9wYWNpdHkiOiAxLjAsICJyYWRpdXMiOiAxMCwgInN0cm9rZSI6IHRydWUsICJ3ZWlnaHQiOiAzfQogICAgICAgICAgICApLmFkZFRvKG1hcF85YTk1MWQ3ZGJiYzc0OTgzOGQ4NDE2ZDQ3NzUxZWU4ZCk7CiAgICAgICAgCiAgICAKICAgICAgICAgICAgdmFyIGNpcmNsZV9tYXJrZXJfNzRhYTIzYjJmOGMxNGM3ZmJiMThmYzVjM2QxMWZhZDMgPSBMLmNpcmNsZU1hcmtlcigKICAgICAgICAgICAgICAgIFs0MC43MTI3MjgxLCAtNzQuMDA2MDE1Ml0sCiAgICAgICAgICAgICAgICB7ImJ1YmJsaW5nTW91c2VFdmVudHMiOiB0cnVlLCAiY29sb3IiOiAiIzMzODhmZiIsICJkYXNoQXJyYXkiOiBudWxsLCAiZGFzaE9mZnNldCI6IG51bGwsICJmaWxsIjogZmFsc2UsICJmaWxsQ29sb3IiOiAiIzMzODhmZiIsICJmaWxsT3BhY2l0eSI6IDAuMiwgImZpbGxSdWxlIjogImV2ZW5vZGQiLCAibGluZUNhcCI6ICJyb3VuZCIsICJsaW5lSm9pbiI6ICJyb3VuZCIsICJvcGFjaXR5IjogMS4wLCAicmFkaXVzIjogMTAsICJzdHJva2UiOiB0cnVlLCAid2VpZ2h0IjogM30KICAgICAgICAgICAgKS5hZGRUbyhtYXBfOWE5NTFkN2RiYmM3NDk4MzhkODQxNmQ0Nzc1MWVlOGQpOwogICAgICAgIAogICAgCiAgICAgICAgICAgIHZhciBjaXJjbGVfbWFya2VyXzRjZDI0YmQ3ZDIyOTQ0MzFiZWUzZmIxNDNhZjFiMDBhID0gTC5jaXJjbGVNYXJrZXIoCiAgICAgICAgICAgICAgICBbMzMuNzQ4OTkyNCwgLTg0LjM5MDI2NDRdLAogICAgICAgICAgICAgICAgeyJidWJibGluZ01vdXNlRXZlbnRzIjogdHJ1ZSwgImNvbG9yIjogIiMzMzg4ZmYiLCAiZGFzaEFycmF5IjogbnVsbCwgImRhc2hPZmZzZXQiOiBudWxsLCAiZmlsbCI6IGZhbHNlLCAiZmlsbENvbG9yIjogIiMzMzg4ZmYiLCAiZmlsbE9wYWNpdHkiOiAwLjIsICJmaWxsUnVsZSI6ICJldmVub2RkIiwgImxpbmVDYXAiOiAicm91bmQiLCAibGluZUpvaW4iOiAicm91bmQiLCAib3BhY2l0eSI6IDEuMCwgInJhZGl1cyI6IDEwLCAic3Ryb2tlIjogdHJ1ZSwgIndlaWdodCI6IDN9CiAgICAgICAgICAgICkuYWRkVG8obWFwXzlhOTUxZDdkYmJjNzQ5ODM4ZDg0MTZkNDc3NTFlZThkKTsKICAgICAgICAKICAgIAogICAgICAgICAgICB2YXIgY2lyY2xlX21hcmtlcl9hNjBiOGFjZmZmN2M0Mzc3YjJkYmY4MmViNzFlZDg5YSA9IEwuY2lyY2xlTWFya2VyKAogICAgICAgICAgICAgICAgWzMzLjc0ODk5MjQsIC04NC4zOTAyNjQ0XSwKICAgICAgICAgICAgICAgIHsiYnViYmxpbmdNb3VzZUV2ZW50cyI6IHRydWUsICJjb2xvciI6ICIjMzM4OGZmIiwgImRhc2hBcnJheSI6IG51bGwsICJkYXNoT2Zmc2V0IjogbnVsbCwgImZpbGwiOiBmYWxzZSwgImZpbGxDb2xvciI6ICIjMzM4OGZmIiwgImZpbGxPcGFjaXR5IjogMC4yLCAiZmlsbFJ1bGUiOiAiZXZlbm9kZCIsICJsaW5lQ2FwIjogInJvdW5kIiwgImxpbmVKb2luIjogInJvdW5kIiwgIm9wYWNpdHkiOiAxLjAsICJyYWRpdXMiOiAxMCwgInN0cm9rZSI6IHRydWUsICJ3ZWlnaHQiOiAzfQogICAgICAgICAgICApLmFkZFRvKG1hcF85YTk1MWQ3ZGJiYzc0OTgzOGQ4NDE2ZDQ3NzUxZWU4ZCk7CiAgICAgICAgCiAgICAKICAgICAgICAgICAgdmFyIGNpcmNsZV9tYXJrZXJfMzVmYzU4OTdjMDAyNGJjOGE5N2E3ZTYzYjY0YjU0ZDkgPSBMLmNpcmNsZU1hcmtlcigKICAgICAgICAgICAgICAgIFstMjcuOTEwNTI3NzAwMDAwMDAzLCAxNTMuMzExODE0NTg1NTk4M10sCiAgICAgICAgICAgICAgICB7ImJ1YmJsaW5nTW91c2VFdmVudHMiOiB0cnVlLCAiY29sb3IiOiAiIzMzODhmZiIsICJkYXNoQXJyYXkiOiBudWxsLCAiZGFzaE9mZnNldCI6IG51bGwsICJmaWxsIjogZmFsc2UsICJmaWxsQ29sb3IiOiAiIzMzODhmZiIsICJmaWxsT3BhY2l0eSI6IDAuMiwgImZpbGxSdWxlIjogImV2ZW5vZGQiLCAibGluZUNhcCI6ICJyb3VuZCIsICJsaW5lSm9pbiI6ICJyb3VuZCIsICJvcGFjaXR5IjogMS4wLCAicmFkaXVzIjogMTAsICJzdHJva2UiOiB0cnVlLCAid2VpZ2h0IjogM30KICAgICAgICAgICAgKS5hZGRUbyhtYXBfOWE5NTFkN2RiYmM3NDk4MzhkODQxNmQ0Nzc1MWVlOGQpOwogICAgICAgIAogICAgCiAgICAgICAgICAgIHZhciBjaXJjbGVfbWFya2VyXzI1MzEzYTExYThmMjRiMGNhNjU5ODc0MzYwODE1MGUxID0gTC5jaXJjbGVNYXJrZXIoCiAgICAgICAgICAgICAgICBbMzMuNDc0NjgyMTUsIC04NC41MTA4MjE3NzkwMTAzOV0sCiAgICAgICAgICAgICAgICB7ImJ1YmJsaW5nTW91c2VFdmVudHMiOiB0cnVlLCAiY29sb3IiOiAiIzMzODhmZiIsICJkYXNoQXJyYXkiOiBudWxsLCAiZGFzaE9mZnNldCI6IG51bGwsICJmaWxsIjogZmFsc2UsICJmaWxsQ29sb3IiOiAiIzMzODhmZiIsICJmaWxsT3BhY2l0eSI6IDAuMiwgImZpbGxSdWxlIjogImV2ZW5vZGQiLCAibGluZUNhcCI6ICJyb3VuZCIsICJsaW5lSm9pbiI6ICJyb3VuZCIsICJvcGFjaXR5IjogMS4wLCAicmFkaXVzIjogMTAsICJzdHJva2UiOiB0cnVlLCAid2VpZ2h0IjogM30KICAgICAgICAgICAgKS5hZGRUbyhtYXBfOWE5NTFkN2RiYmM3NDk4MzhkODQxNmQ0Nzc1MWVlOGQpOwogICAgICAgIAogICAgCiAgICAgICAgICAgIHZhciBjaXJjbGVfbWFya2VyX2YwMTc3MTRmODEyZjQ3MDhiZDE2N2RlNmNjYWI3Yjg2ID0gTC5jaXJjbGVNYXJrZXIoCiAgICAgICAgICAgICAgICBbMzMuNDc0NjgyMTUsIC04NC41MTA4MjE3NzkwMTAzOV0sCiAgICAgICAgICAgICAgICB7ImJ1YmJsaW5nTW91c2VFdmVudHMiOiB0cnVlLCAiY29sb3IiOiAiIzMzODhmZiIsICJkYXNoQXJyYXkiOiBudWxsLCAiZGFzaE9mZnNldCI6IG51bGwsICJmaWxsIjogZmFsc2UsICJmaWxsQ29sb3IiOiAiIzMzODhmZiIsICJmaWxsT3BhY2l0eSI6IDAuMiwgImZpbGxSdWxlIjogImV2ZW5vZGQiLCAibGluZUNhcCI6ICJyb3VuZCIsICJsaW5lSm9pbiI6ICJyb3VuZCIsICJvcGFjaXR5IjogMS4wLCAicmFkaXVzIjogMTAsICJzdHJva2UiOiB0cnVlLCAid2VpZ2h0IjogM30KICAgICAgICAgICAgKS5hZGRUbyhtYXBfOWE5NTFkN2RiYmM3NDk4MzhkODQxNmQ0Nzc1MWVlOGQpOwogICAgICAgIAogICAgCiAgICAgICAgICAgIHZhciBjaXJjbGVfbWFya2VyXzJjNDdkZGYyMzdhMDQ3Y2Y4NTdmNTRmYWYwYjAwNTg5ID0gTC5jaXJjbGVNYXJrZXIoCiAgICAgICAgICAgICAgICBbMzMuNzQ4OTkyNCwgLTg0LjM5MDI2NDRdLAogICAgICAgICAgICAgICAgeyJidWJibGluZ01vdXNlRXZlbnRzIjogdHJ1ZSwgImNvbG9yIjogIiMzMzg4ZmYiLCAiZGFzaEFycmF5IjogbnVsbCwgImRhc2hPZmZzZXQiOiBudWxsLCAiZmlsbCI6IGZhbHNlLCAiZmlsbENvbG9yIjogIiMzMzg4ZmYiLCAiZmlsbE9wYWNpdHkiOiAwLjIsICJmaWxsUnVsZSI6ICJldmVub2RkIiwgImxpbmVDYXAiOiAicm91bmQiLCAibGluZUpvaW4iOiAicm91bmQiLCAib3BhY2l0eSI6IDEuMCwgInJhZGl1cyI6IDEwLCAic3Ryb2tlIjogdHJ1ZSwgIndlaWdodCI6IDN9CiAgICAgICAgICAgICkuYWRkVG8obWFwXzlhOTUxZDdkYmJjNzQ5ODM4ZDg0MTZkNDc3NTFlZThkKTsKICAgICAgICAKICAgIAogICAgICAgICAgICB2YXIgY2lyY2xlX21hcmtlcl8wNjcwMzZkM2M2YzQ0MDNjYmFlYjUwMjdhZmE3ZDU0ZSA9IEwuY2lyY2xlTWFya2VyKAogICAgICAgICAgICAgICAgWzM0LjA1MzY5MDksIC0xMTguMjQyNzY2XSwKICAgICAgICAgICAgICAgIHsiYnViYmxpbmdNb3VzZUV2ZW50cyI6IHRydWUsICJjb2xvciI6ICIjMzM4OGZmIiwgImRhc2hBcnJheSI6IG51bGwsICJkYXNoT2Zmc2V0IjogbnVsbCwgImZpbGwiOiBmYWxzZSwgImZpbGxDb2xvciI6ICIjMzM4OGZmIiwgImZpbGxPcGFjaXR5IjogMC4yLCAiZmlsbFJ1bGUiOiAiZXZlbm9kZCIsICJsaW5lQ2FwIjogInJvdW5kIiwgImxpbmVKb2luIjogInJvdW5kIiwgIm9wYWNpdHkiOiAxLjAsICJyYWRpdXMiOiAxMCwgInN0cm9rZSI6IHRydWUsICJ3ZWlnaHQiOiAzfQogICAgICAgICAgICApLmFkZFRvKG1hcF85YTk1MWQ3ZGJiYzc0OTgzOGQ4NDE2ZDQ3NzUxZWU4ZCk7CiAgICAgICAgCiAgICAKICAgICAgICAgICAgdmFyIGNpcmNsZV9tYXJrZXJfNzgwODdhM2NhZWJlNDE4ZDg4NDlkMjczYmQ2Yzc5ODAgPSBMLmNpcmNsZU1hcmtlcigKICAgICAgICAgICAgICAgIFszMy43NDg5OTI0LCAtODQuMzkwMjY0NF0sCiAgICAgICAgICAgICAgICB7ImJ1YmJsaW5nTW91c2VFdmVudHMiOiB0cnVlLCAiY29sb3IiOiAiIzMzODhmZiIsICJkYXNoQXJyYXkiOiBudWxsLCAiZGFzaE9mZnNldCI6IG51bGwsICJmaWxsIjogZmFsc2UsICJmaWxsQ29sb3IiOiAiIzMzODhmZiIsICJmaWxsT3BhY2l0eSI6IDAuMiwgImZpbGxSdWxlIjogImV2ZW5vZGQiLCAibGluZUNhcCI6ICJyb3VuZCIsICJsaW5lSm9pbiI6ICJyb3VuZCIsICJvcGFjaXR5IjogMS4wLCAicmFkaXVzIjogMTAsICJzdHJva2UiOiB0cnVlLCAid2VpZ2h0IjogM30KICAgICAgICAgICAgKS5hZGRUbyhtYXBfOWE5NTFkN2RiYmM3NDk4MzhkODQxNmQ0Nzc1MWVlOGQpOwogICAgICAgIAogICAgCiAgICAgICAgICAgIHZhciBjaXJjbGVfbWFya2VyX2NmZDY5OWY1ZTVmMjRlNjI4Mjk3ZWE2MGQ0MTI0ODQzID0gTC5jaXJjbGVNYXJrZXIoCiAgICAgICAgICAgICAgICBbNTEuODQwMDUyMjk5OTk5OTk2LCAtMC4wOTc4NTUxOTIyNDUyMzk2M10sCiAgICAgICAgICAgICAgICB7ImJ1YmJsaW5nTW91c2VFdmVudHMiOiB0cnVlLCAiY29sb3IiOiAiIzMzODhmZiIsICJkYXNoQXJyYXkiOiBudWxsLCAiZGFzaE9mZnNldCI6IG51bGwsICJmaWxsIjogZmFsc2UsICJmaWxsQ29sb3IiOiAiIzMzODhmZiIsICJmaWxsT3BhY2l0eSI6IDAuMiwgImZpbGxSdWxlIjogImV2ZW5vZGQiLCAibGluZUNhcCI6ICJyb3VuZCIsICJsaW5lSm9pbiI6ICJyb3VuZCIsICJvcGFjaXR5IjogMS4wLCAicmFkaXVzIjogMTAsICJzdHJva2UiOiB0cnVlLCAid2VpZ2h0IjogM30KICAgICAgICAgICAgKS5hZGRUbyhtYXBfOWE5NTFkN2RiYmM3NDk4MzhkODQxNmQ0Nzc1MWVlOGQpOwogICAgICAgIAogICAgCiAgICAgICAgICAgIHZhciBtYXJrZXJfY2x1c3Rlcl81NDc3MDU5MjRjMDU0MDAwYmNiYWI1MzhlM2M3ZDczZSA9IEwubWFya2VyQ2x1c3Rlckdyb3VwKAogICAgICAgICAgICAgICAge30KICAgICAgICAgICAgKTsKICAgICAgICAgICAgbWFwXzlhOTUxZDdkYmJjNzQ5ODM4ZDg0MTZkNDc3NTFlZThkLmFkZExheWVyKG1hcmtlcl9jbHVzdGVyXzU0NzcwNTkyNGMwNTQwMDBiY2JhYjUzOGUzYzdkNzNlKTsKICAgICAgICAKICAgIAogICAgICAgICAgICB2YXIgbWFya2VyX2ZjNTEwNTVmOTYwNDRlZWNiNjUxYmM2YmNkMDgwN2U1ID0gTC5tYXJrZXIoCiAgICAgICAgICAgICAgICBbMzQuNjI3NSwgMTE4LjA4MzNdLAogICAgICAgICAgICAgICAge30KICAgICAgICAgICAgKS5hZGRUbyhtYXJrZXJfY2x1c3Rlcl81NDc3MDU5MjRjMDU0MDAwYmNiYWI1MzhlM2M3ZDczZSk7CiAgICAgICAgCiAgICAKICAgICAgICB2YXIgcG9wdXBfMjRiZGQ1MWYxMDdlNDFhM2I1ZjIxOGMyNjRkZTVjYmEgPSBMLnBvcHVwKHsibWF4V2lkdGgiOiAyMDB9KTsKCiAgICAgICAgCiAgICAgICAgICAgIHZhciBodG1sX2FiMTg4MDk3NzkxYjQwODE5NmNiZTUzYmZkNWMwZTk1ID0gJChgPGRpdiBpZD0iaHRtbF9hYjE4ODA5Nzc5MWI0MDgxOTZjYmU1M2JmZDVjMGU5NSIgc3R5bGU9IndpZHRoOiAxMDAuMCU7IGhlaWdodDogMTAwLjAlOyI+SXJvbiBNYW4gICg0MTAwMCAyMCBTdCBFLCBQYWxtZGFsZSwgQ0EgOTM1NTAsIFVuaXRlZCBTdGF0ZXMpPC9kaXY+YClbMF07CiAgICAgICAgICAgIHBvcHVwXzI0YmRkNTFmMTA3ZTQxYTNiNWYyMThjMjY0ZGU1Y2JhLnNldENvbnRlbnQoaHRtbF9hYjE4ODA5Nzc5MWI0MDgxOTZjYmU1M2JmZDVjMGU5NSk7CiAgICAgICAgCgogICAgICAgIG1hcmtlcl9mYzUxMDU1Zjk2MDQ0ZWVjYjY1MWJjNmJjZDA4MDdlNS5iaW5kUG9wdXAocG9wdXBfMjRiZGQ1MWYxMDdlNDFhM2I1ZjIxOGMyNjRkZTVjYmEpCiAgICAgICAgOwoKICAgICAgICAKICAgIAogICAgCiAgICAgICAgICAgIHZhciBtYXJrZXJfM2M3MzI3MTZmYzZiNGY2NTgzMmQzZTA2ZjA5ZmU4OTMgPSBMLm1hcmtlcigKICAgICAgICAgICAgICAgIFs0My42NDA4Mzk2LCAtNzkuMzQ4NTY3N10sCiAgICAgICAgICAgICAgICB7fQogICAgICAgICAgICApLmFkZFRvKG1hcmtlcl9jbHVzdGVyXzU0NzcwNTkyNGMwNTQwMDBiY2JhYjUzOGUzYzdkNzNlKTsKICAgICAgICAKICAgIAogICAgICAgIHZhciBwb3B1cF9lODFjMmE0N2RmNzE0ODM3Yjc3OTgwN2NmMmE3ZjI1OSA9IEwucG9wdXAoeyJtYXhXaWR0aCI6IDIwMH0pOwoKICAgICAgICAKICAgICAgICAgICAgdmFyIGh0bWxfOGY4YWJlNzc0YmNkNGQzMjgzZDQ4YzIyY2M1OGUyZWYgPSAkKGA8ZGl2IGlkPSJodG1sXzhmOGFiZTc3NGJjZDRkMzI4M2Q0OGMyMmNjNThlMmVmIiBzdHlsZT0id2lkdGg6IDEwMC4wJTsgaGVpZ2h0OiAxMDAuMCU7Ij5UaGUgSW5jcmVkaWJsZSBIdWxrICAoQ2hlcnJ5IFN0cmVldCBCcmlkZ2UsIFRvcm9udG8sIE9udGFyaW8sIENhbmFkYSk8L2Rpdj5gKVswXTsKICAgICAgICAgICAgcG9wdXBfZTgxYzJhNDdkZjcxNDgzN2I3Nzk4MDdjZjJhN2YyNTkuc2V0Q29udGVudChodG1sXzhmOGFiZTc3NGJjZDRkMzI4M2Q0OGMyMmNjNThlMmVmKTsKICAgICAgICAKCiAgICAgICAgbWFya2VyXzNjNzMyNzE2ZmM2YjRmNjU4MzJkM2UwNmYwOWZlODkzLmJpbmRQb3B1cChwb3B1cF9lODFjMmE0N2RmNzE0ODM3Yjc3OTgwN2NmMmE3ZjI1OSkKICAgICAgICA7CgogICAgICAgIAogICAgCiAgICAKICAgICAgICAgICAgdmFyIG1hcmtlcl84M2UxMTY2MzJlZTI0MmIxYWI1NDVlYzFlODM5MmZhMCA9IEwubWFya2VyKAogICAgICAgICAgICAgICAgWzM0LjAzODE1MzEyMjY5OTM4LCAtMTE4LjIzMzg0NzQ2NzY1MjI4XSwKICAgICAgICAgICAgICAgIHt9CiAgICAgICAgICAgICkuYWRkVG8obWFya2VyX2NsdXN0ZXJfNTQ3NzA1OTI0YzA1NDAwMGJjYmFiNTM4ZTNjN2Q3M2UpOwogICAgICAgIAogICAgCiAgICAgICAgdmFyIHBvcHVwXzgxNjcxNDMxNTEyYTRkYWZiMTIwZmMyYTE1M2RmZDM1ID0gTC5wb3B1cCh7Im1heFdpZHRoIjogMjAwfSk7CgogICAgICAgIAogICAgICAgICAgICB2YXIgaHRtbF9lM2QwM2Q2MDMwNWQ0NDJhYmRjMTRjNzBmMjE5NGY3ZSA9ICQoYDxkaXYgaWQ9Imh0bWxfZTNkMDNkNjAzMDVkNDQyYWJkYzE0YzcwZjIxOTRmN2UiIHN0eWxlPSJ3aWR0aDogMTAwLjAlOyBoZWlnaHQ6IDEwMC4wJTsiPklyb24gTWFuIDIgICgxMzYwIEUgNnRoIFN0LCBMb3MgQW5nZWxlcywgQ0EgOTAwMjEsIFVuaXRlZCBTdGF0ZXMpPC9kaXY+YClbMF07CiAgICAgICAgICAgIHBvcHVwXzgxNjcxNDMxNTEyYTRkYWZiMTIwZmMyYTE1M2RmZDM1LnNldENvbnRlbnQoaHRtbF9lM2QwM2Q2MDMwNWQ0NDJhYmRjMTRjNzBmMjE5NGY3ZSk7CiAgICAgICAgCgogICAgICAgIG1hcmtlcl84M2UxMTY2MzJlZTI0MmIxYWI1NDVlYzFlODM5MmZhMC5iaW5kUG9wdXAocG9wdXBfODE2NzE0MzE1MTJhNGRhZmIxMjBmYzJhMTUzZGZkMzUpCiAgICAgICAgOwoKICAgICAgICAKICAgIAogICAgCiAgICAgICAgICAgIHZhciBtYXJrZXJfYjlmZTg4YWIyZjVlNDljMDg1YTYwNjdlN2IzMDRiYWEgPSBMLm1hcmtlcigKICAgICAgICAgICAgICAgIFszNS4zOTQ0NTksIC0xMDUuOTYwNDU2NTU2ODQwNzFdLAogICAgICAgICAgICAgICAge30KICAgICAgICAgICAgKS5hZGRUbyhtYXJrZXJfY2x1c3Rlcl81NDc3MDU5MjRjMDU0MDAwYmNiYWI1MzhlM2M3ZDczZSk7CiAgICAgICAgCiAgICAKICAgICAgICB2YXIgcG9wdXBfMzlhYjJjMTJjMjljNDEzNThlYzMzMWVjOGZkNmQxZjUgPSBMLnBvcHVwKHsibWF4V2lkdGgiOiAyMDB9KTsKCiAgICAgICAgCiAgICAgICAgICAgIHZhciBodG1sX2FhZmE3ZjBjMGNkMTQxZDJiMDJjZGQ0OTc0M2UwZjkyID0gJChgPGRpdiBpZD0iaHRtbF9hYWZhN2YwYzBjZDE0MWQyYjAyY2RkNDk3NDNlMGY5MiIgc3R5bGU9IndpZHRoOiAxMDAuMCU7IGhlaWdodDogMTAwLjAlOyI+VGhvciAgKEdhbGlzdGVvLCBOZXcgTWV4aWNvLCBVU0EpPC9kaXY+YClbMF07CiAgICAgICAgICAgIHBvcHVwXzM5YWIyYzEyYzI5YzQxMzU4ZWMzMzFlYzhmZDZkMWY1LnNldENvbnRlbnQoaHRtbF9hYWZhN2YwYzBjZDE0MWQyYjAyY2RkNDk3NDNlMGY5Mik7CiAgICAgICAgCgogICAgICAgIG1hcmtlcl9iOWZlODhhYjJmNWU0OWMwODVhNjA2N2U3YjMwNGJhYS5iaW5kUG9wdXAocG9wdXBfMzlhYjJjMTJjMjljNDEzNThlYzMzMWVjOGZkNmQxZjUpCiAgICAgICAgOwoKICAgICAgICAKICAgIAogICAgCiAgICAgICAgICAgIHZhciBtYXJrZXJfNDE3NGU3ODMxZDIzNDQyYWE4MDQzNDIxMTdhMWFjM2UgPSBMLm1hcmtlcigKICAgICAgICAgICAgICAgIFs1My40MTk3OTY1LCAtMy4wMDAxMjEyXSwKICAgICAgICAgICAgICAgIHt9CiAgICAgICAgICAgICkuYWRkVG8obWFya2VyX2NsdXN0ZXJfNTQ3NzA1OTI0YzA1NDAwMGJjYmFiNTM4ZTNjN2Q3M2UpOwogICAgICAgIAogICAgCiAgICAgICAgdmFyIHBvcHVwX2UwZmE0ZDZhZTMyODQ4YTc4OWM3Y2I0ODg2MTk1YjRlID0gTC5wb3B1cCh7Im1heFdpZHRoIjogMjAwfSk7CgogICAgICAgIAogICAgICAgICAgICB2YXIgaHRtbF9mMThjYTkzNDg1NGU0ZDU5OWY3YTBkZWM0OTEzZjU3MCA9ICQoYDxkaXYgaWQ9Imh0bWxfZjE4Y2E5MzQ4NTRlNGQ1OTlmN2EwZGVjNDkxM2Y1NzAiIHN0eWxlPSJ3aWR0aDogMTAwLjAlOyBoZWlnaHQ6IDEwMC4wJTsiPkNhcHRhaW4gQW1lcmljYTogVGhlIEZpcnN0IEF2ZW5nZXIgIChSZWdlbnQgUmQsIExpdmVycG9vbCBMMyAwQU4sIFVuaXRlZCBLaW5nZG9tKTwvZGl2PmApWzBdOwogICAgICAgICAgICBwb3B1cF9lMGZhNGQ2YWUzMjg0OGE3ODljN2NiNDg4NjE5NWI0ZS5zZXRDb250ZW50KGh0bWxfZjE4Y2E5MzQ4NTRlNGQ1OTlmN2EwZGVjNDkxM2Y1NzApOwogICAgICAgIAoKICAgICAgICBtYXJrZXJfNDE3NGU3ODMxZDIzNDQyYWE4MDQzNDIxMTdhMWFjM2UuYmluZFBvcHVwKHBvcHVwX2UwZmE0ZDZhZTMyODQ4YTc4OWM3Y2I0ODg2MTk1YjRlKQogICAgICAgIDsKCiAgICAgICAgCiAgICAKICAgIAogICAgICAgICAgICB2YXIgbWFya2VyXzdlNDBjYmZkMjI0ODQyYWI4ZjJlNTRmNWFhMDBhMTczID0gTC5tYXJrZXIoCiAgICAgICAgICAgICAgICBbNDAuNDQxNjk0MSwgLTc5Ljk5MDA4NjFdLAogICAgICAgICAgICAgICAge30KICAgICAgICAgICAgKS5hZGRUbyhtYXJrZXJfY2x1c3Rlcl81NDc3MDU5MjRjMDU0MDAwYmNiYWI1MzhlM2M3ZDczZSk7CiAgICAgICAgCiAgICAKICAgICAgICB2YXIgcG9wdXBfOThmYzUyZWI4NDFiNGQ5ZmFmZDhlZWMyYTYxMmE1NDMgPSBMLnBvcHVwKHsibWF4V2lkdGgiOiAyMDB9KTsKCiAgICAgICAgCiAgICAgICAgICAgIHZhciBodG1sXzAwODVhNGFkYzcxMzQzNTc4MTU5MTlkNjJlNWM1OTBmID0gJChgPGRpdiBpZD0iaHRtbF8wMDg1YTRhZGM3MTM0MzU3ODE1OTE5ZDYyZTVjNTkwZiIgc3R5bGU9IndpZHRoOiAxMDAuMCU7IGhlaWdodDogMTAwLjAlOyI+VGhlIEF2ZW5nZXJzICAoUGl0dHNidXJnaCwgUGVubnN5bHZhbmlhLCBVU0EpPC9kaXY+YClbMF07CiAgICAgICAgICAgIHBvcHVwXzk4ZmM1MmViODQxYjRkOWZhZmQ4ZWVjMmE2MTJhNTQzLnNldENvbnRlbnQoaHRtbF8wMDg1YTRhZGM3MTM0MzU3ODE1OTE5ZDYyZTVjNTkwZik7CiAgICAgICAgCgogICAgICAgIG1hcmtlcl83ZTQwY2JmZDIyNDg0MmFiOGYyZTU0ZjVhYTAwYTE3My5iaW5kUG9wdXAocG9wdXBfOThmYzUyZWI4NDFiNGQ5ZmFmZDhlZWMyYTYxMmE1NDMpCiAgICAgICAgOwoKICAgICAgICAKICAgIAogICAgCiAgICAgICAgICAgIHZhciBtYXJrZXJfNTBkMDFlMGQ4MDcwNDhhNTk3NDFmYzlkMmJjOWRiN2YgPSBMLm1hcmtlcigKICAgICAgICAgICAgICAgIFszNS43ODgyODkzLCAtNzguNzgxMjA4MV0sCiAgICAgICAgICAgICAgICB7fQogICAgICAgICAgICApLmFkZFRvKG1hcmtlcl9jbHVzdGVyXzU0NzcwNTkyNGMwNTQwMDBiY2JhYjUzOGUzYzdkNzNlKTsKICAgICAgICAKICAgIAogICAgICAgIHZhciBwb3B1cF9hMmU0YmI3N2Q4OGI0NGQ0YWVhNDI5NDhkNDcyMWU0MyA9IEwucG9wdXAoeyJtYXhXaWR0aCI6IDIwMH0pOwoKICAgICAgICAKICAgICAgICAgICAgdmFyIGh0bWxfMzk3YjM1OGY0NTExNDVmNGJiZDc4ZjBjZjY1N2QxODAgPSAkKGA8ZGl2IGlkPSJodG1sXzM5N2IzNThmNDUxMTQ1ZjRiYmQ3OGYwY2Y2NTdkMTgwIiBzdHlsZT0id2lkdGg6IDEwMC4wJTsgaGVpZ2h0OiAxMDAuMCU7Ij5Jcm9uIE1hbiAzICAoQ2FyeSwgTm9ydGggQ2Fyb2xpbmEsIFVTQSk8L2Rpdj5gKVswXTsKICAgICAgICAgICAgcG9wdXBfYTJlNGJiNzdkODhiNDRkNGFlYTQyOTQ4ZDQ3MjFlNDMuc2V0Q29udGVudChodG1sXzM5N2IzNThmNDUxMTQ1ZjRiYmQ3OGYwY2Y2NTdkMTgwKTsKICAgICAgICAKCiAgICAgICAgbWFya2VyXzUwZDAxZTBkODA3MDQ4YTU5NzQxZmM5ZDJiYzlkYjdmLmJpbmRQb3B1cChwb3B1cF9hMmU0YmI3N2Q4OGI0NGQ0YWVhNDI5NDhkNDcyMWU0MykKICAgICAgICA7CgogICAgICAgIAogICAgCiAgICAKICAgICAgICAgICAgdmFyIG1hcmtlcl83ZDJmYzA4YjZhMDc0ZTgzODFlZTQwODhmYThhYmYyYSA9IEwubWFya2VyKAogICAgICAgICAgICAgICAgWzUxLjQwNjgsIC0wLjQ2NTVdLAogICAgICAgICAgICAgICAge30KICAgICAgICAgICAgKS5hZGRUbyhtYXJrZXJfY2x1c3Rlcl81NDc3MDU5MjRjMDU0MDAwYmNiYWI1MzhlM2M3ZDczZSk7CiAgICAgICAgCiAgICAKICAgICAgICB2YXIgcG9wdXBfMjViYjc2MzU2M2RkNDZjY2I4MzdiN2JmZWZhZjI5ODQgPSBMLnBvcHVwKHsibWF4V2lkdGgiOiAyMDB9KTsKCiAgICAgICAgCiAgICAgICAgICAgIHZhciBodG1sX2Y2YTFiMDcxMWU4ZTQ5M2M4NTRiMzBkMzA5Nzc1YjgwID0gJChgPGRpdiBpZD0iaHRtbF9mNmExYjA3MTFlOGU0OTNjODU0YjMwZDMwOTc3NWI4MCIgc3R5bGU9IndpZHRoOiAxMDAuMCU7IGhlaWdodDogMTAwLjAlOyI+VGhvcjogVGhlIERhcmsgV29ybGQgIChTdHVkaW9zIFJkLCBTaGVwcGVydG9uIFRXMTcgMFFELCBVbml0ZWQgS2luZ2RvbSk8L2Rpdj5gKVswXTsKICAgICAgICAgICAgcG9wdXBfMjViYjc2MzU2M2RkNDZjY2I4MzdiN2JmZWZhZjI5ODQuc2V0Q29udGVudChodG1sX2Y2YTFiMDcxMWU4ZTQ5M2M4NTRiMzBkMzA5Nzc1YjgwKTsKICAgICAgICAKCiAgICAgICAgbWFya2VyXzdkMmZjMDhiNmEwNzRlODM4MWVlNDA4OGZhOGFiZjJhLmJpbmRQb3B1cChwb3B1cF8yNWJiNzYzNTYzZGQ0NmNjYjgzN2I3YmZlZmFmMjk4NCkKICAgICAgICA7CgogICAgICAgIAogICAgCiAgICAKICAgICAgICAgICAgdmFyIG1hcmtlcl9lODlhMTVmNTIzYWI0MDAxODY2MTg4ZGNmODc5ZmRhNyA9IEwubWFya2VyKAogICAgICAgICAgICAgICAgWzM0LjA1MzY5MDksIC0xMTguMjQyNzY2XSwKICAgICAgICAgICAgICAgIHt9CiAgICAgICAgICAgICkuYWRkVG8obWFya2VyX2NsdXN0ZXJfNTQ3NzA1OTI0YzA1NDAwMGJjYmFiNTM4ZTNjN2Q3M2UpOwogICAgICAgIAogICAgCiAgICAgICAgdmFyIHBvcHVwXzk3MmI2ZWU5YzM2MjQ3YmJiYzc4NzRjYTAxNzE2ZWRhID0gTC5wb3B1cCh7Im1heFdpZHRoIjogMjAwfSk7CgogICAgICAgIAogICAgICAgICAgICB2YXIgaHRtbF9mNTgwZDAwNmMyZjI0MzgyODBhNTNjZTA2NjRiNDJlNiA9ICQoYDxkaXYgaWQ9Imh0bWxfZjU4MGQwMDZjMmYyNDM4MjgwYTUzY2UwNjY0YjQyZTYiIHN0eWxlPSJ3aWR0aDogMTAwLjAlOyBoZWlnaHQ6IDEwMC4wJTsiPkNhcHRhaW4gQW1lcmljYTogVGhlIFdpbnRlciBTb2xkaWVyICAoTG9zIEFuZ2VsZXMsIENhbGlmb3JuaWEsIFVTQSk8L2Rpdj5gKVswXTsKICAgICAgICAgICAgcG9wdXBfOTcyYjZlZTljMzYyNDdiYmJjNzg3NGNhMDE3MTZlZGEuc2V0Q29udGVudChodG1sX2Y1ODBkMDA2YzJmMjQzODI4MGE1M2NlMDY2NGI0MmU2KTsKICAgICAgICAKCiAgICAgICAgbWFya2VyX2U4OWExNWY1MjNhYjQwMDE4NjYxODhkY2Y4NzlmZGE3LmJpbmRQb3B1cChwb3B1cF85NzJiNmVlOWMzNjI0N2JiYmM3ODc0Y2EwMTcxNmVkYSkKICAgICAgICA7CgogICAgICAgIAogICAgCiAgICAKICAgICAgICAgICAgdmFyIG1hcmtlcl8zMGMzZDVhMGM1ZDc0ZDEyYmFlMTU0Y2EyNzA5M2UyYyA9IEwubWFya2VyKAogICAgICAgICAgICAgICAgWzUxLjQwNjgsIC0wLjQ2NTVdLAogICAgICAgICAgICAgICAge30KICAgICAgICAgICAgKS5hZGRUbyhtYXJrZXJfY2x1c3Rlcl81NDc3MDU5MjRjMDU0MDAwYmNiYWI1MzhlM2M3ZDczZSk7CiAgICAgICAgCiAgICAKICAgICAgICB2YXIgcG9wdXBfMDZhZGRjM2I4NzE0NDY2N2IzZDNkZGU5ZWM0YzEwN2IgPSBMLnBvcHVwKHsibWF4V2lkdGgiOiAyMDB9KTsKCiAgICAgICAgCiAgICAgICAgICAgIHZhciBodG1sXzlkZTA3ZTU0ZTg1MzRhOTBiZDVlMjAzMGFiYzk4NTBiID0gJChgPGRpdiBpZD0iaHRtbF85ZGUwN2U1NGU4NTM0YTkwYmQ1ZTIwMzBhYmM5ODUwYiIgc3R5bGU9IndpZHRoOiAxMDAuMCU7IGhlaWdodDogMTAwLjAlOyI+R3VhcmRpYW5zIG9mIHRoZSBHYWxheHkgIChTdHVkaW9zIFJkLCBTaGVwcGVydG9uIFRXMTcgMFFELCBVbml0ZWQgS2luZ2RvbSk8L2Rpdj5gKVswXTsKICAgICAgICAgICAgcG9wdXBfMDZhZGRjM2I4NzE0NDY2N2IzZDNkZGU5ZWM0YzEwN2Iuc2V0Q29udGVudChodG1sXzlkZTA3ZTU0ZTg1MzRhOTBiZDVlMjAzMGFiYzk4NTBiKTsKICAgICAgICAKCiAgICAgICAgbWFya2VyXzMwYzNkNWEwYzVkNzRkMTJiYWUxNTRjYTI3MDkzZTJjLmJpbmRQb3B1cChwb3B1cF8wNmFkZGMzYjg3MTQ0NjY3YjNkM2RkZTllYzRjMTA3YikKICAgICAgICA7CgogICAgICAgIAogICAgCiAgICAKICAgICAgICAgICAgdmFyIG1hcmtlcl8yMTliMDBkOTc4NDk0MWViYmZiOWJjZTcyYzIxNjU5MSA9IEwubWFya2VyKAogICAgICAgICAgICAgICAgWzUxLjQwNjgsIC0wLjQ2NTVdLAogICAgICAgICAgICAgICAge30KICAgICAgICAgICAgKS5hZGRUbyhtYXJrZXJfY2x1c3Rlcl81NDc3MDU5MjRjMDU0MDAwYmNiYWI1MzhlM2M3ZDczZSk7CiAgICAgICAgCiAgICAKICAgICAgICB2YXIgcG9wdXBfZjllMzA2Mjg3MzNmNGZmYmJkYjRmNDE2NWRlMDIyNTUgPSBMLnBvcHVwKHsibWF4V2lkdGgiOiAyMDB9KTsKCiAgICAgICAgCiAgICAgICAgICAgIHZhciBodG1sXzExYWEyMmI0Y2YxMDRmZTc4N2I5Yzk0OWU5Y2E0ZGRkID0gJChgPGRpdiBpZD0iaHRtbF8xMWFhMjJiNGNmMTA0ZmU3ODdiOWM5NDllOWNhNGRkZCIgc3R5bGU9IndpZHRoOiAxMDAuMCU7IGhlaWdodDogMTAwLjAlOyI+QXZlbmdlcnM6IEFnZSBvZiBVbHRyb24gIChTdHVkaW9zIFJkLCBTaGVwcGVydG9uIFRXMTcgMFFELCBVbml0ZWQgS2luZ2RvbSk8L2Rpdj5gKVswXTsKICAgICAgICAgICAgcG9wdXBfZjllMzA2Mjg3MzNmNGZmYmJkYjRmNDE2NWRlMDIyNTUuc2V0Q29udGVudChodG1sXzExYWEyMmI0Y2YxMDRmZTc4N2I5Yzk0OWU5Y2E0ZGRkKTsKICAgICAgICAKCiAgICAgICAgbWFya2VyXzIxOWIwMGQ5Nzg0OTQxZWJiZmI5YmNlNzJjMjE2NTkxLmJpbmRQb3B1cChwb3B1cF9mOWUzMDYyODczM2Y0ZmZiYmRiNGY0MTY1ZGUwMjI1NSkKICAgICAgICA7CgogICAgICAgIAogICAgCiAgICAKICAgICAgICAgICAgdmFyIG1hcmtlcl9hNDNlYTY5YTdmYWU0NDZmOTU5NmZhYTg3YzA0NWYzZCA9IEwubWFya2VyKAogICAgICAgICAgICAgICAgWzMzLjQ3NDY4MjE1LCAtODQuNTEwODIxNzc5MDEwMzldLAogICAgICAgICAgICAgICAge30KICAgICAgICAgICAgKS5hZGRUbyhtYXJrZXJfY2x1c3Rlcl81NDc3MDU5MjRjMDU0MDAwYmNiYWI1MzhlM2M3ZDczZSk7CiAgICAgICAgCiAgICAKICAgICAgICB2YXIgcG9wdXBfMzFmY2ZmNDFmYTIwNDQzZGExYTI3MTE5NWU2NjIxMWEgPSBMLnBvcHVwKHsibWF4V2lkdGgiOiAyMDB9KTsKCiAgICAgICAgCiAgICAgICAgICAgIHZhciBodG1sXzk4NzA0MjMzYzE4ZjRjM2U5NzM0MmRlNThkYzJhMWM1ID0gJChgPGRpdiBpZD0iaHRtbF85ODcwNDIzM2MxOGY0YzNlOTczNDJkZTU4ZGMyYTFjNSIgc3R5bGU9IndpZHRoOiAxMDAuMCU7IGhlaWdodDogMTAwLjAlOyI+QW50LU1hbiAgKDQ2MSBTYW5keSBDcmVlayBSZCwgRmF5ZXR0ZXZpbGxlLCBHQSAzMDIxNCwgVW5pdGVkIFN0YXRlcyk8L2Rpdj5gKVswXTsKICAgICAgICAgICAgcG9wdXBfMzFmY2ZmNDFmYTIwNDQzZGExYTI3MTE5NWU2NjIxMWEuc2V0Q29udGVudChodG1sXzk4NzA0MjMzYzE4ZjRjM2U5NzM0MmRlNThkYzJhMWM1KTsKICAgICAgICAKCiAgICAgICAgbWFya2VyX2E0M2VhNjlhN2ZhZTQ0NmY5NTk2ZmFhODdjMDQ1ZjNkLmJpbmRQb3B1cChwb3B1cF8zMWZjZmY0MWZhMjA0NDNkYTFhMjcxMTk1ZTY2MjExYSkKICAgICAgICA7CgogICAgICAgIAogICAgCiAgICAKICAgICAgICAgICAgdmFyIG1hcmtlcl9jY2ViNTU1ZmNhNDQ0OGEzOGY3MmRkNWMyMjVlOGJiNCA9IEwubWFya2VyKAogICAgICAgICAgICAgICAgWzMzLjc0ODk5MjQsIC04NC4zOTAyNjQ0XSwKICAgICAgICAgICAgICAgIHt9CiAgICAgICAgICAgICkuYWRkVG8obWFya2VyX2NsdXN0ZXJfNTQ3NzA1OTI0YzA1NDAwMGJjYmFiNTM4ZTNjN2Q3M2UpOwogICAgICAgIAogICAgCiAgICAgICAgdmFyIHBvcHVwXzZjZmRiMjkxNWE3ODQ3MzNiMTgyNGEwMThlZTExZDhmID0gTC5wb3B1cCh7Im1heFdpZHRoIjogMjAwfSk7CgogICAgICAgIAogICAgICAgICAgICB2YXIgaHRtbF8xNjM1N2VmODRlZDc0ODRlODFjNGMzODVhZGEwYWI0YSA9ICQoYDxkaXYgaWQ9Imh0bWxfMTYzNTdlZjg0ZWQ3NDg0ZTgxYzRjMzg1YWRhMGFiNGEiIHN0eWxlPSJ3aWR0aDogMTAwLjAlOyBoZWlnaHQ6IDEwMC4wJTsiPkNhcHRhaW4gQW1lcmljYTogQ2l2aWwgV2FyICAoQXRsYW50YSwgR2VvcmdpYSwgVVNBKTwvZGl2PmApWzBdOwogICAgICAgICAgICBwb3B1cF82Y2ZkYjI5MTVhNzg0NzMzYjE4MjRhMDE4ZWUxMWQ4Zi5zZXRDb250ZW50KGh0bWxfMTYzNTdlZjg0ZWQ3NDg0ZTgxYzRjMzg1YWRhMGFiNGEpOwogICAgICAgIAoKICAgICAgICBtYXJrZXJfY2NlYjU1NWZjYTQ0NDhhMzhmNzJkZDVjMjI1ZThiYjQuYmluZFBvcHVwKHBvcHVwXzZjZmRiMjkxNWE3ODQ3MzNiMTgyNGEwMThlZTExZDhmKQogICAgICAgIDsKCiAgICAgICAgCiAgICAKICAgIAogICAgICAgICAgICB2YXIgbWFya2VyXzQ3ZWNlNDg2YzQyZDRjNjliY2UyZmU5YzBjN2E2OTMzID0gTC5tYXJrZXIoCiAgICAgICAgICAgICAgICBbNDAuNzEyNzI4MSwgLTc0LjAwNjAxNTJdLAogICAgICAgICAgICAgICAge30KICAgICAgICAgICAgKS5hZGRUbyhtYXJrZXJfY2x1c3Rlcl81NDc3MDU5MjRjMDU0MDAwYmNiYWI1MzhlM2M3ZDczZSk7CiAgICAgICAgCiAgICAKICAgICAgICB2YXIgcG9wdXBfZWNiMjA1MjVhYmUzNDcwNDgxOGIyOTRkMjNjMzljMDYgPSBMLnBvcHVwKHsibWF4V2lkdGgiOiAyMDB9KTsKCiAgICAgICAgCiAgICAgICAgICAgIHZhciBodG1sXzAwZWEzZWVhZWRiYzQ0NzJhNzU1ZTcwZGQwOGMxNmExID0gJChgPGRpdiBpZD0iaHRtbF8wMGVhM2VlYWVkYmM0NDcyYTc1NWU3MGRkMDhjMTZhMSIgc3R5bGU9IndpZHRoOiAxMDAuMCU7IGhlaWdodDogMTAwLjAlOyI+RG9jdG9yIFN0cmFuZ2UgIChOZXcgWW9yayBDaXR5LCBOZXcgWW9yaywgVVNBKTwvZGl2PmApWzBdOwogICAgICAgICAgICBwb3B1cF9lY2IyMDUyNWFiZTM0NzA0ODE4YjI5NGQyM2MzOWMwNi5zZXRDb250ZW50KGh0bWxfMDBlYTNlZWFlZGJjNDQ3MmE3NTVlNzBkZDA4YzE2YTEpOwogICAgICAgIAoKICAgICAgICBtYXJrZXJfNDdlY2U0ODZjNDJkNGM2OWJjZTJmZTljMGM3YTY5MzMuYmluZFBvcHVwKHBvcHVwX2VjYjIwNTI1YWJlMzQ3MDQ4MThiMjk0ZDIzYzM5YzA2KQogICAgICAgIDsKCiAgICAgICAgCiAgICAKICAgIAogICAgICAgICAgICB2YXIgbWFya2VyX2I3ZjM0ZDRmY2EzMjQzNmJiMWRhOWI5Y2VhNjJhZGE1ID0gTC5tYXJrZXIoCiAgICAgICAgICAgICAgICBbMzMuNzQ4OTkyNCwgLTg0LjM5MDI2NDRdLAogICAgICAgICAgICAgICAge30KICAgICAgICAgICAgKS5hZGRUbyhtYXJrZXJfY2x1c3Rlcl81NDc3MDU5MjRjMDU0MDAwYmNiYWI1MzhlM2M3ZDczZSk7CiAgICAgICAgCiAgICAKICAgICAgICB2YXIgcG9wdXBfNDRlY2VhYjMyZTc2NDUyZTg4NWVmY2VlZDU5Y2NmZmUgPSBMLnBvcHVwKHsibWF4V2lkdGgiOiAyMDB9KTsKCiAgICAgICAgCiAgICAgICAgICAgIHZhciBodG1sX2UyNDMyYzJjODRlZDQ4YzRiYjMxNGYxNjEwNTc3YjQ0ID0gJChgPGRpdiBpZD0iaHRtbF9lMjQzMmMyYzg0ZWQ0OGM0YmIzMTRmMTYxMDU3N2I0NCIgc3R5bGU9IndpZHRoOiAxMDAuMCU7IGhlaWdodDogMTAwLjAlOyI+R3VhcmRpYW5zIG9mIHRoZSBHYWxheHkgVm9sLiAyICAoQXRsYW50YSwgR2VvcmdpYSwgVVNBKTwvZGl2PmApWzBdOwogICAgICAgICAgICBwb3B1cF80NGVjZWFiMzJlNzY0NTJlODg1ZWZjZWVkNTljY2ZmZS5zZXRDb250ZW50KGh0bWxfZTI0MzJjMmM4NGVkNDhjNGJiMzE0ZjE2MTA1NzdiNDQpOwogICAgICAgIAoKICAgICAgICBtYXJrZXJfYjdmMzRkNGZjYTMyNDM2YmIxZGE5YjljZWE2MmFkYTUuYmluZFBvcHVwKHBvcHVwXzQ0ZWNlYWIzMmU3NjQ1MmU4ODVlZmNlZWQ1OWNjZmZlKQogICAgICAgIDsKCiAgICAgICAgCiAgICAKICAgIAogICAgICAgICAgICB2YXIgbWFya2VyX2Y0MzE4NDA4ZDk4MTQ4ODI4OGY0YjZmYzc0MDk1MjRhID0gTC5tYXJrZXIoCiAgICAgICAgICAgICAgICBbMzMuNzQ4OTkyNCwgLTg0LjM5MDI2NDRdLAogICAgICAgICAgICAgICAge30KICAgICAgICAgICAgKS5hZGRUbyhtYXJrZXJfY2x1c3Rlcl81NDc3MDU5MjRjMDU0MDAwYmNiYWI1MzhlM2M3ZDczZSk7CiAgICAgICAgCiAgICAKICAgICAgICB2YXIgcG9wdXBfNzJhNjIzMTZhNWFiNGYzZjllNWFiMWEyNzg1ZTg3ZGUgPSBMLnBvcHVwKHsibWF4V2lkdGgiOiAyMDB9KTsKCiAgICAgICAgCiAgICAgICAgICAgIHZhciBodG1sX2MyMGZmMDk3ZDhlODQxZGFhZDRlZDIxOWIzMWRiYmYwID0gJChgPGRpdiBpZD0iaHRtbF9jMjBmZjA5N2Q4ZTg0MWRhYWQ0ZWQyMTliMzFkYmJmMCIgc3R5bGU9IndpZHRoOiAxMDAuMCU7IGhlaWdodDogMTAwLjAlOyI+U3BpZGVyLU1hbjogSG9tZWNvbWluZyAgKEF0bGFudGEsIEdlb3JnaWEsIFVTQSk8L2Rpdj5gKVswXTsKICAgICAgICAgICAgcG9wdXBfNzJhNjIzMTZhNWFiNGYzZjllNWFiMWEyNzg1ZTg3ZGUuc2V0Q29udGVudChodG1sX2MyMGZmMDk3ZDhlODQxZGFhZDRlZDIxOWIzMWRiYmYwKTsKICAgICAgICAKCiAgICAgICAgbWFya2VyX2Y0MzE4NDA4ZDk4MTQ4ODI4OGY0YjZmYzc0MDk1MjRhLmJpbmRQb3B1cChwb3B1cF83MmE2MjMxNmE1YWI0ZjNmOWU1YWIxYTI3ODVlODdkZSkKICAgICAgICA7CgogICAgICAgIAogICAgCiAgICAKICAgICAgICAgICAgdmFyIG1hcmtlcl8zNjFkNjllZTEwNzI0ODg5OGU4MGY1MzEwYTQxMjU3YyA9IEwubWFya2VyKAogICAgICAgICAgICAgICAgWy0yNy45MTA1Mjc3MDAwMDAwMDMsIDE1My4zMTE4MTQ1ODU1OTgzXSwKICAgICAgICAgICAgICAgIHt9CiAgICAgICAgICAgICkuYWRkVG8obWFya2VyX2NsdXN0ZXJfNTQ3NzA1OTI0YzA1NDAwMGJjYmFiNTM4ZTNjN2Q3M2UpOwogICAgICAgIAogICAgCiAgICAgICAgdmFyIHBvcHVwX2VmZjBiNGFkZjVjODRlOGE4NmI3ZjQwZDhjYmRjYWVmID0gTC5wb3B1cCh7Im1heFdpZHRoIjogMjAwfSk7CgogICAgICAgIAogICAgICAgICAgICB2YXIgaHRtbF9mY2EzNGU5YmQwNTE0ZjJmYmFhN2QxODgzNWJhNzljMCA9ICQoYDxkaXYgaWQ9Imh0bWxfZmNhMzRlOWJkMDUxNGYyZmJhYTdkMTg4MzViYTc5YzAiIHN0eWxlPSJ3aWR0aDogMTAwLjAlOyBoZWlnaHQ6IDEwMC4wJTsiPlRob3I6IFJhZ25hcm9rICAoVmlsbGFnZSBSb2Fkc2hvdyBTdHVkaW9zLCBPeGVuZm9yZCwgUXVlZW5zbGFuZCwgQXVzdHJhbGlhKTwvZGl2PmApWzBdOwogICAgICAgICAgICBwb3B1cF9lZmYwYjRhZGY1Yzg0ZThhODZiN2Y0MGQ4Y2JkY2FlZi5zZXRDb250ZW50KGh0bWxfZmNhMzRlOWJkMDUxNGYyZmJhYTdkMTg4MzViYTc5YzApOwogICAgICAgIAoKICAgICAgICBtYXJrZXJfMzYxZDY5ZWUxMDcyNDg4OThlODBmNTMxMGE0MTI1N2MuYmluZFBvcHVwKHBvcHVwX2VmZjBiNGFkZjVjODRlOGE4NmI3ZjQwZDhjYmRjYWVmKQogICAgICAgIDsKCiAgICAgICAgCiAgICAKICAgIAogICAgICAgICAgICB2YXIgbWFya2VyXzU4NTc3NWJkMWEyNTRjNTg4YmY4MjYwYTY4YTNkNjFjID0gTC5tYXJrZXIoCiAgICAgICAgICAgICAgICBbMzMuNDc0NjgyMTUsIC04NC41MTA4MjE3NzkwMTAzOV0sCiAgICAgICAgICAgICAgICB7fQogICAgICAgICAgICApLmFkZFRvKG1hcmtlcl9jbHVzdGVyXzU0NzcwNTkyNGMwNTQwMDBiY2JhYjUzOGUzYzdkNzNlKTsKICAgICAgICAKICAgIAogICAgICAgIHZhciBwb3B1cF80NmM5NjU1ZjU2NTg0MTUwODA5ZDc2YjIyMWJlN2ZlNyA9IEwucG9wdXAoeyJtYXhXaWR0aCI6IDIwMH0pOwoKICAgICAgICAKICAgICAgICAgICAgdmFyIGh0bWxfM2RjMzAwNjI5ZWY2NGE1NTg0OGEyODI0NGU1NTc1N2QgPSAkKGA8ZGl2IGlkPSJodG1sXzNkYzMwMDYyOWVmNjRhNTU4NDhhMjgyNDRlNTU3NTdkIiBzdHlsZT0id2lkdGg6IDEwMC4wJTsgaGVpZ2h0OiAxMDAuMCU7Ij5CbGFjayBQYW50aGVyICAoNDYxIFNhbmR5IENyZWVrIFJkLCBGYXlldHRldmlsbGUsIEdBIDMwMjE0LCBVbml0ZWQgU3RhdGVzKTwvZGl2PmApWzBdOwogICAgICAgICAgICBwb3B1cF80NmM5NjU1ZjU2NTg0MTUwODA5ZDc2YjIyMWJlN2ZlNy5zZXRDb250ZW50KGh0bWxfM2RjMzAwNjI5ZWY2NGE1NTg0OGEyODI0NGU1NTc1N2QpOwogICAgICAgIAoKICAgICAgICBtYXJrZXJfNTg1Nzc1YmQxYTI1NGM1ODhiZjgyNjBhNjhhM2Q2MWMuYmluZFBvcHVwKHBvcHVwXzQ2Yzk2NTVmNTY1ODQxNTA4MDlkNzZiMjIxYmU3ZmU3KQogICAgICAgIDsKCiAgICAgICAgCiAgICAKICAgIAogICAgICAgICAgICB2YXIgbWFya2VyXzIyNmU2MzgyYTNiYTQyNGFhMWExMzhmYzE0YmFkN2QzID0gTC5tYXJrZXIoCiAgICAgICAgICAgICAgICBbMzMuNDc0NjgyMTUsIC04NC41MTA4MjE3NzkwMTAzOV0sCiAgICAgICAgICAgICAgICB7fQogICAgICAgICAgICApLmFkZFRvKG1hcmtlcl9jbHVzdGVyXzU0NzcwNTkyNGMwNTQwMDBiY2JhYjUzOGUzYzdkNzNlKTsKICAgICAgICAKICAgIAogICAgICAgIHZhciBwb3B1cF8xYzJkYmIxMDE5NTc0NDQ4YjQ2ZWRlMjAyNTQ3OGI0YyA9IEwucG9wdXAoeyJtYXhXaWR0aCI6IDIwMH0pOwoKICAgICAgICAKICAgICAgICAgICAgdmFyIGh0bWxfMTQxZjA2YWNlZWJlNDBlYzgzYWZhMDkxMjMxYWFhNTggPSAkKGA8ZGl2IGlkPSJodG1sXzE0MWYwNmFjZWViZTQwZWM4M2FmYTA5MTIzMWFhYTU4IiBzdHlsZT0id2lkdGg6IDEwMC4wJTsgaGVpZ2h0OiAxMDAuMCU7Ij5BdmVuZ2VyczogSW5maW5pdHkgV2FyICAoNDYxIFNhbmR5IENyZWVrIFJkLCBGYXlldHRldmlsbGUsIEdBIDMwMjE0LCBVbml0ZWQgU3RhdGVzKTwvZGl2PmApWzBdOwogICAgICAgICAgICBwb3B1cF8xYzJkYmIxMDE5NTc0NDQ4YjQ2ZWRlMjAyNTQ3OGI0Yy5zZXRDb250ZW50KGh0bWxfMTQxZjA2YWNlZWJlNDBlYzgzYWZhMDkxMjMxYWFhNTgpOwogICAgICAgIAoKICAgICAgICBtYXJrZXJfMjI2ZTYzODJhM2JhNDI0YWExYTEzOGZjMTRiYWQ3ZDMuYmluZFBvcHVwKHBvcHVwXzFjMmRiYjEwMTk1NzQ0NDhiNDZlZGUyMDI1NDc4YjRjKQogICAgICAgIDsKCiAgICAgICAgCiAgICAKICAgIAogICAgICAgICAgICB2YXIgbWFya2VyX2M1N2ZhY2Q3OGNmOTQxZWI5NjcyOTczOGFiMjdiM2ViID0gTC5tYXJrZXIoCiAgICAgICAgICAgICAgICBbMzMuNzQ4OTkyNCwgLTg0LjM5MDI2NDRdLAogICAgICAgICAgICAgICAge30KICAgICAgICAgICAgKS5hZGRUbyhtYXJrZXJfY2x1c3Rlcl81NDc3MDU5MjRjMDU0MDAwYmNiYWI1MzhlM2M3ZDczZSk7CiAgICAgICAgCiAgICAKICAgICAgICB2YXIgcG9wdXBfNTk1NjM2NDVkN2U0NGZlNmIwN2Q5ZjkyOGFkYzI0OTUgPSBMLnBvcHVwKHsibWF4V2lkdGgiOiAyMDB9KTsKCiAgICAgICAgCiAgICAgICAgICAgIHZhciBodG1sX2VkZDhhMmM0MmU2MDRiYjRiZGNlYTlmYjAyMDNlODNhID0gJChgPGRpdiBpZD0iaHRtbF9lZGQ4YTJjNDJlNjA0YmI0YmRjZWE5ZmIwMjAzZTgzYSIgc3R5bGU9IndpZHRoOiAxMDAuMCU7IGhlaWdodDogMTAwLjAlOyI+QW50LU1hbiBhbmQgdGhlIFdhc3AgIChBdGxhbnRhLCBHZW9yZ2lhLCBVU0EpPC9kaXY+YClbMF07CiAgICAgICAgICAgIHBvcHVwXzU5NTYzNjQ1ZDdlNDRmZTZiMDdkOWY5MjhhZGMyNDk1LnNldENvbnRlbnQoaHRtbF9lZGQ4YTJjNDJlNjA0YmI0YmRjZWE5ZmIwMjAzZTgzYSk7CiAgICAgICAgCgogICAgICAgIG1hcmtlcl9jNTdmYWNkNzhjZjk0MWViOTY3Mjk3MzhhYjI3YjNlYi5iaW5kUG9wdXAocG9wdXBfNTk1NjM2NDVkN2U0NGZlNmIwN2Q5ZjkyOGFkYzI0OTUpCiAgICAgICAgOwoKICAgICAgICAKICAgIAogICAgCiAgICAgICAgICAgIHZhciBtYXJrZXJfNzZlYmY3ZTNhOGVlNDhmOGI4OWRkM2VjZGUxZTc4NmQgPSBMLm1hcmtlcigKICAgICAgICAgICAgICAgIFszNC4wNTM2OTA5LCAtMTE4LjI0Mjc2Nl0sCiAgICAgICAgICAgICAgICB7fQogICAgICAgICAgICApLmFkZFRvKG1hcmtlcl9jbHVzdGVyXzU0NzcwNTkyNGMwNTQwMDBiY2JhYjUzOGUzYzdkNzNlKTsKICAgICAgICAKICAgIAogICAgICAgIHZhciBwb3B1cF8yYzNhMzNjODEzY2U0NDE2YWViYzY4ZjNmOWQ1YTNkNyA9IEwucG9wdXAoeyJtYXhXaWR0aCI6IDIwMH0pOwoKICAgICAgICAKICAgICAgICAgICAgdmFyIGh0bWxfZjkwOTA1ZWNlYmRiNDcwOWFiNzFkYzBiZmI0ZmFiYjQgPSAkKGA8ZGl2IGlkPSJodG1sX2Y5MDkwNWVjZWJkYjQ3MDlhYjcxZGMwYmZiNGZhYmI0IiBzdHlsZT0id2lkdGg6IDEwMC4wJTsgaGVpZ2h0OiAxMDAuMCU7Ij5DYXB0YWluIE1hcnZlbCAgKExvcyBBbmdlbGVzLCBDYWxpZm9ybmlhLCBVU0EpPC9kaXY+YClbMF07CiAgICAgICAgICAgIHBvcHVwXzJjM2EzM2M4MTNjZTQ0MTZhZWJjNjhmM2Y5ZDVhM2Q3LnNldENvbnRlbnQoaHRtbF9mOTA5MDVlY2ViZGI0NzA5YWI3MWRjMGJmYjRmYWJiNCk7CiAgICAgICAgCgogICAgICAgIG1hcmtlcl83NmViZjdlM2E4ZWU0OGY4Yjg5ZGQzZWNkZTFlNzg2ZC5iaW5kUG9wdXAocG9wdXBfMmMzYTMzYzgxM2NlNDQxNmFlYmM2OGYzZjlkNWEzZDcpCiAgICAgICAgOwoKICAgICAgICAKICAgIAogICAgCiAgICAgICAgICAgIHZhciBtYXJrZXJfMzY2ZjY2MTQ4ZDNjNDIyY2JjMDg1Mjg3YjhhYjI4NTQgPSBMLm1hcmtlcigKICAgICAgICAgICAgICAgIFszMy43NDg5OTI0LCAtODQuMzkwMjY0NF0sCiAgICAgICAgICAgICAgICB7fQogICAgICAgICAgICApLmFkZFRvKG1hcmtlcl9jbHVzdGVyXzU0NzcwNTkyNGMwNTQwMDBiY2JhYjUzOGUzYzdkNzNlKTsKICAgICAgICAKICAgIAogICAgICAgIHZhciBwb3B1cF81YmQ5MDI1YTgxYWU0ZTBlYjRiZDQ3MGNmMWZiMzc2NiA9IEwucG9wdXAoeyJtYXhXaWR0aCI6IDIwMH0pOwoKICAgICAgICAKICAgICAgICAgICAgdmFyIGh0bWxfNDhjZWRiMzJjYzA3NGEyMmJjN2Y1ZWRhNDU1MTY0MWEgPSAkKGA8ZGl2IGlkPSJodG1sXzQ4Y2VkYjMyY2MwNzRhMjJiYzdmNWVkYTQ1NTE2NDFhIiBzdHlsZT0id2lkdGg6IDEwMC4wJTsgaGVpZ2h0OiAxMDAuMCU7Ij5BdmVuZ2VyczogRW5kZ2FtZSAgKEF0bGFudGEsR2VvcmdpYSxVU0EpPC9kaXY+YClbMF07CiAgICAgICAgICAgIHBvcHVwXzViZDkwMjVhODFhZTRlMGViNGJkNDcwY2YxZmIzNzY2LnNldENvbnRlbnQoaHRtbF80OGNlZGIzMmNjMDc0YTIyYmM3ZjVlZGE0NTUxNjQxYSk7CiAgICAgICAgCgogICAgICAgIG1hcmtlcl8zNjZmNjYxNDhkM2M0MjJjYmMwODUyODdiOGFiMjg1NC5iaW5kUG9wdXAocG9wdXBfNWJkOTAyNWE4MWFlNGUwZWI0YmQ0NzBjZjFmYjM3NjYpCiAgICAgICAgOwoKICAgICAgICAKICAgIAogICAgCiAgICAgICAgICAgIHZhciBtYXJrZXJfNzNjOTBiZjZkZTQ4NGM1NDkxNWZmMDdmMGUwYzVkZWIgPSBMLm1hcmtlcigKICAgICAgICAgICAgICAgIFs1MS44NDAwNTIyOTk5OTk5OTYsIC0wLjA5Nzg1NTE5MjI0NTIzOTYzXSwKICAgICAgICAgICAgICAgIHt9CiAgICAgICAgICAgICkuYWRkVG8obWFya2VyX2NsdXN0ZXJfNTQ3NzA1OTI0YzA1NDAwMGJjYmFiNTM4ZTNjN2Q3M2UpOwogICAgICAgIAogICAgCiAgICAgICAgdmFyIHBvcHVwX2QwZWE4MmQyNDBiMTQ4YTdiY2M2OTk3YjhmZDlkN2YxID0gTC5wb3B1cCh7Im1heFdpZHRoIjogMjAwfSk7CgogICAgICAgIAogICAgICAgICAgICB2YXIgaHRtbF82OGI3ZTMyZjNkOGY0NTY1YmU0YWQ3ZTUwODU0MTEzMSA9ICQoYDxkaXYgaWQ9Imh0bWxfNjhiN2UzMmYzZDhmNDU2NWJlNGFkN2U1MDg1NDExMzEiIHN0eWxlPSJ3aWR0aDogMTAwLjAlOyBoZWlnaHQ6IDEwMC4wJTsiPlNwaWRlci1NYW46IEZhciBmcm9tIEhvbWUgIChIZXJ0Zm9yZHNoaXJlLCBFbmdsYW5kLCBVSyk8L2Rpdj5gKVswXTsKICAgICAgICAgICAgcG9wdXBfZDBlYTgyZDI0MGIxNDhhN2JjYzY5OTdiOGZkOWQ3ZjEuc2V0Q29udGVudChodG1sXzY4YjdlMzJmM2Q4ZjQ1NjViZTRhZDdlNTA4NTQxMTMxKTsKICAgICAgICAKCiAgICAgICAgbWFya2VyXzczYzkwYmY2ZGU0ODRjNTQ5MTVmZjA3ZjBlMGM1ZGViLmJpbmRQb3B1cChwb3B1cF9kMGVhODJkMjQwYjE0OGE3YmNjNjk5N2I4ZmQ5ZDdmMSkKICAgICAgICA7CgogICAgICAgIAogICAgCjwvc2NyaXB0Pg== onload=\"this.contentDocument.open();this.contentDocument.write(atob(this.getAttribute('data-html')));this.contentDocument.close();\" allowfullscreen webkitallowfullscreen mozallowfullscreen></iframe></div></div>"
      ],
      "text/plain": [
       "<folium.folium.Map at 0x7fbc67f149a0>"
      ]
     },
     "execution_count": 124,
     "metadata": {},
     "output_type": "execute_result"
    }
   ],
   "source": [
    "import folium \n",
    "from folium.plugins import MarkerCluster\n",
    "from folium.plugins import FastMarkerCluster\n",
    "\n",
    "map1 = folium.Map(\n",
    "    location=[-20.338315,18.089960],\n",
    "    #tiles='cartodbpositron',\n",
    "    zoom_start=2,\n",
    ")\n",
    "\n",
    "clean_df.apply(lambda row:folium.CircleMarker(location=[row[\"latitude\"], row[\"longitude\"]]).add_to(map1), axis=1)\n",
    "\n",
    "mc = MarkerCluster()\n",
    "\n",
    "for row in clean_df.itertuples():\n",
    "    print(row)\n",
    "    mc.add_child(folium.Marker(location=[row.latitude, row.longitude], \n",
    "                               popup = folium.Popup(row.title + \"\\n (\" + row.locations +\")\", max_width=200)))\n",
    " \n",
    "map1.add_child(mc)\n",
    "\n",
    "map1"
   ]
  },
  {
   "cell_type": "code",
   "execution_count": 125,
   "metadata": {},
   "outputs": [
    {
     "data": {
      "text/html": [
       "<div>\n",
       "<style scoped>\n",
       "    .dataframe tbody tr th:only-of-type {\n",
       "        vertical-align: middle;\n",
       "    }\n",
       "\n",
       "    .dataframe tbody tr th {\n",
       "        vertical-align: top;\n",
       "    }\n",
       "\n",
       "    .dataframe thead th {\n",
       "        text-align: right;\n",
       "    }\n",
       "</style>\n",
       "<table border=\"1\" class=\"dataframe\">\n",
       "  <thead>\n",
       "    <tr style=\"text-align: right;\">\n",
       "      <th></th>\n",
       "      <th>title</th>\n",
       "      <th>genres</th>\n",
       "      <th>date</th>\n",
       "      <th>score</th>\n",
       "      <th>runtime</th>\n",
       "      <th>language</th>\n",
       "      <th>locations</th>\n",
       "      <th>budget</th>\n",
       "      <th>collection</th>\n",
       "      <th>actor_1</th>\n",
       "      <th>...</th>\n",
       "      <th>story</th>\n",
       "      <th>longitude</th>\n",
       "      <th>latitude</th>\n",
       "      <th>locations_country</th>\n",
       "      <th>profit</th>\n",
       "      <th>ROI</th>\n",
       "      <th>actor_1_g</th>\n",
       "      <th>actor_2_g</th>\n",
       "      <th>actor_3_g</th>\n",
       "      <th>actor_4_g</th>\n",
       "    </tr>\n",
       "  </thead>\n",
       "  <tbody>\n",
       "    <tr>\n",
       "      <th>0</th>\n",
       "      <td>Iron Man</td>\n",
       "      <td>Action,Adventure,Sci-Fi</td>\n",
       "      <td>2008-05-02</td>\n",
       "      <td>7.9</td>\n",
       "      <td>126</td>\n",
       "      <td>English,Persian,Urdu,Arabic,Hungarian</td>\n",
       "      <td>41000 20 St E, Palmdale, CA 93550, United States</td>\n",
       "      <td>140000000</td>\n",
       "      <td>585174222</td>\n",
       "      <td>Robert Downey Jr.</td>\n",
       "      <td>...</td>\n",
       "      <td>After being held captive in an Afghan cave, bi...</td>\n",
       "      <td>118.083300</td>\n",
       "      <td>34.627500</td>\n",
       "      <td>USA</td>\n",
       "      <td>445174222</td>\n",
       "      <td>317.981587</td>\n",
       "      <td>male</td>\n",
       "      <td>female</td>\n",
       "      <td>male</td>\n",
       "      <td>male</td>\n",
       "    </tr>\n",
       "    <tr>\n",
       "      <th>1</th>\n",
       "      <td>The Incredible Hulk</td>\n",
       "      <td>Action,Adventure,Sci-Fi</td>\n",
       "      <td>2008-06-13</td>\n",
       "      <td>6.7</td>\n",
       "      <td>112</td>\n",
       "      <td>English,Portuguese,Spanish</td>\n",
       "      <td>Cherry Street Bridge, Toronto, Ontario, Canada</td>\n",
       "      <td>150000000</td>\n",
       "      <td>263427551</td>\n",
       "      <td>Edward Norton</td>\n",
       "      <td>...</td>\n",
       "      <td>Government, must find a cure for the monster h...</td>\n",
       "      <td>-79.348568</td>\n",
       "      <td>43.640840</td>\n",
       "      <td>Canada</td>\n",
       "      <td>113427551</td>\n",
       "      <td>75.618367</td>\n",
       "      <td>male</td>\n",
       "      <td>female</td>\n",
       "      <td>male</td>\n",
       "      <td>male</td>\n",
       "    </tr>\n",
       "    <tr>\n",
       "      <th>2</th>\n",
       "      <td>Iron Man 2</td>\n",
       "      <td>Action,Adventure,Sci-Fi</td>\n",
       "      <td>2010-05-07</td>\n",
       "      <td>7.0</td>\n",
       "      <td>124</td>\n",
       "      <td>English,French,Russian</td>\n",
       "      <td>1360 E 6th St, Los Angeles, CA 90021, United S...</td>\n",
       "      <td>200000000</td>\n",
       "      <td>623933331</td>\n",
       "      <td>Robert Downey Jr.</td>\n",
       "      <td>...</td>\n",
       "      <td>With the world now aware of his identity as Ir...</td>\n",
       "      <td>-118.233847</td>\n",
       "      <td>34.038153</td>\n",
       "      <td>USA</td>\n",
       "      <td>423933331</td>\n",
       "      <td>211.966666</td>\n",
       "      <td>male</td>\n",
       "      <td>male</td>\n",
       "      <td>female</td>\n",
       "      <td>male</td>\n",
       "    </tr>\n",
       "    <tr>\n",
       "      <th>3</th>\n",
       "      <td>Thor</td>\n",
       "      <td>Action,Adventure,Fantasy,Sci-Fi</td>\n",
       "      <td>2011-05-06</td>\n",
       "      <td>7.0</td>\n",
       "      <td>115</td>\n",
       "      <td>English</td>\n",
       "      <td>Galisteo, New Mexico, USA</td>\n",
       "      <td>150000000</td>\n",
       "      <td>449326618</td>\n",
       "      <td>Chris Hemsworth</td>\n",
       "      <td>...</td>\n",
       "      <td>The powerful but arrogant god Thor (Chris Hems...</td>\n",
       "      <td>-105.960457</td>\n",
       "      <td>35.394459</td>\n",
       "      <td>USA</td>\n",
       "      <td>299326618</td>\n",
       "      <td>199.551079</td>\n",
       "      <td>male</td>\n",
       "      <td>male</td>\n",
       "      <td>female</td>\n",
       "      <td>male</td>\n",
       "    </tr>\n",
       "    <tr>\n",
       "      <th>4</th>\n",
       "      <td>Captain America: The First Avenger</td>\n",
       "      <td>Action,Adventure,Sci-Fi</td>\n",
       "      <td>2011-07-22</td>\n",
       "      <td>6.9</td>\n",
       "      <td>124</td>\n",
       "      <td>English,Norwegian,French</td>\n",
       "      <td>Regent Rd, Liverpool L3 0AN, United Kingdom</td>\n",
       "      <td>140000000</td>\n",
       "      <td>370569774</td>\n",
       "      <td>Chris Evans</td>\n",
       "      <td>...</td>\n",
       "      <td>But being Captain America comes at a price as ...</td>\n",
       "      <td>-3.000121</td>\n",
       "      <td>53.419796</td>\n",
       "      <td>UK</td>\n",
       "      <td>230569774</td>\n",
       "      <td>164.692696</td>\n",
       "      <td>male</td>\n",
       "      <td>male</td>\n",
       "      <td>male</td>\n",
       "      <td>female</td>\n",
       "    </tr>\n",
       "    <tr>\n",
       "      <th>5</th>\n",
       "      <td>The Avengers</td>\n",
       "      <td>Action,Adventure,Sci-Fi</td>\n",
       "      <td>2012-05-04</td>\n",
       "      <td>8.1</td>\n",
       "      <td>143</td>\n",
       "      <td>English,Russian,Hindi</td>\n",
       "      <td>Pittsburgh, Pennsylvania, USA</td>\n",
       "      <td>220000000</td>\n",
       "      <td>1519557910</td>\n",
       "      <td>Robert Downey Jr.</td>\n",
       "      <td>...</td>\n",
       "      <td>Earth's mightiest heroes must come together an...</td>\n",
       "      <td>-79.990086</td>\n",
       "      <td>40.441694</td>\n",
       "      <td>USA</td>\n",
       "      <td>1299557910</td>\n",
       "      <td>590.708141</td>\n",
       "      <td>male</td>\n",
       "      <td>male</td>\n",
       "      <td>female</td>\n",
       "      <td>male</td>\n",
       "    </tr>\n",
       "    <tr>\n",
       "      <th>6</th>\n",
       "      <td>Iron Man 3</td>\n",
       "      <td>Action,Adventure,Sci-Fi</td>\n",
       "      <td>2013-05-03</td>\n",
       "      <td>7.2</td>\n",
       "      <td>130</td>\n",
       "      <td>English</td>\n",
       "      <td>Cary, North Carolina, USA</td>\n",
       "      <td>200000000</td>\n",
       "      <td>1215439994</td>\n",
       "      <td>Robert Downey Jr.</td>\n",
       "      <td>...</td>\n",
       "      <td>When Tony Stark's world is torn apart by a for...</td>\n",
       "      <td>-78.781208</td>\n",
       "      <td>35.788289</td>\n",
       "      <td>USA</td>\n",
       "      <td>1015439994</td>\n",
       "      <td>507.719997</td>\n",
       "      <td>male</td>\n",
       "      <td>male</td>\n",
       "      <td>female</td>\n",
       "      <td>male</td>\n",
       "    </tr>\n",
       "    <tr>\n",
       "      <th>7</th>\n",
       "      <td>Thor: The Dark World</td>\n",
       "      <td>Action,Adventure,Fantasy</td>\n",
       "      <td>2013-11-08</td>\n",
       "      <td>6.9</td>\n",
       "      <td>112</td>\n",
       "      <td>English</td>\n",
       "      <td>Studios Rd, Shepperton TW17 0QD, United Kingdom</td>\n",
       "      <td>170000000</td>\n",
       "      <td>644783140</td>\n",
       "      <td>Chris Hemsworth</td>\n",
       "      <td>...</td>\n",
       "      <td>When Dr. Jane Foster (Natalie Portman) gets cu...</td>\n",
       "      <td>-0.465500</td>\n",
       "      <td>51.406800</td>\n",
       "      <td>UK</td>\n",
       "      <td>474783140</td>\n",
       "      <td>279.284200</td>\n",
       "      <td>male</td>\n",
       "      <td>female</td>\n",
       "      <td>male</td>\n",
       "      <td>male</td>\n",
       "    </tr>\n",
       "    <tr>\n",
       "      <th>8</th>\n",
       "      <td>Captain America: The Winter Soldier</td>\n",
       "      <td>Action,Adventure,Sci-Fi,Thriller</td>\n",
       "      <td>2014-04-04</td>\n",
       "      <td>7.8</td>\n",
       "      <td>136</td>\n",
       "      <td>English,French</td>\n",
       "      <td>Los Angeles, California, USA</td>\n",
       "      <td>170000000</td>\n",
       "      <td>714766572</td>\n",
       "      <td>Chris Evans</td>\n",
       "      <td>...</td>\n",
       "      <td>As Steve Rogers struggles to embrace his role ...</td>\n",
       "      <td>-118.242766</td>\n",
       "      <td>34.053691</td>\n",
       "      <td>USA</td>\n",
       "      <td>544766572</td>\n",
       "      <td>320.450925</td>\n",
       "      <td>male</td>\n",
       "      <td>male</td>\n",
       "      <td>female</td>\n",
       "      <td>male</td>\n",
       "    </tr>\n",
       "    <tr>\n",
       "      <th>9</th>\n",
       "      <td>Guardians of the Galaxy</td>\n",
       "      <td>Action,Adventure,Comedy,Sci-Fi</td>\n",
       "      <td>2014-08-01</td>\n",
       "      <td>8.1</td>\n",
       "      <td>121</td>\n",
       "      <td>English</td>\n",
       "      <td>Studios Rd, Shepperton TW17 0QD, United Kingdom</td>\n",
       "      <td>170000000</td>\n",
       "      <td>774176600</td>\n",
       "      <td>Chris Pratt</td>\n",
       "      <td>...</td>\n",
       "      <td>A group of intergalactic criminals must pull t...</td>\n",
       "      <td>-0.465500</td>\n",
       "      <td>51.406800</td>\n",
       "      <td>UK</td>\n",
       "      <td>604176600</td>\n",
       "      <td>355.398000</td>\n",
       "      <td>male</td>\n",
       "      <td>male</td>\n",
       "      <td>male</td>\n",
       "      <td>female</td>\n",
       "    </tr>\n",
       "    <tr>\n",
       "      <th>10</th>\n",
       "      <td>Avengers: Age of Ultron</td>\n",
       "      <td>Action,Adventure,Sci-Fi</td>\n",
       "      <td>2015-05-01</td>\n",
       "      <td>7.3</td>\n",
       "      <td>141</td>\n",
       "      <td>English,Korean</td>\n",
       "      <td>Studios Rd, Shepperton TW17 0QD, United Kingdom</td>\n",
       "      <td>250000000</td>\n",
       "      <td>1405413868</td>\n",
       "      <td>Robert Downey Jr.</td>\n",
       "      <td>...</td>\n",
       "      <td>When Tony Stark and Bruce Banner try to jump-s...</td>\n",
       "      <td>-0.465500</td>\n",
       "      <td>51.406800</td>\n",
       "      <td>UK</td>\n",
       "      <td>1155413868</td>\n",
       "      <td>462.165547</td>\n",
       "      <td>male</td>\n",
       "      <td>male</td>\n",
       "      <td>male</td>\n",
       "      <td>male</td>\n",
       "    </tr>\n",
       "    <tr>\n",
       "      <th>11</th>\n",
       "      <td>Ant-Man</td>\n",
       "      <td>Action,Adventure,Comedy,Sci-Fi</td>\n",
       "      <td>2015-07-17</td>\n",
       "      <td>7.3</td>\n",
       "      <td>117</td>\n",
       "      <td>English</td>\n",
       "      <td>461 Sandy Creek Rd, Fayetteville, GA 30214, Un...</td>\n",
       "      <td>130000000</td>\n",
       "      <td>519445163</td>\n",
       "      <td>Paul Rudd</td>\n",
       "      <td>...</td>\n",
       "      <td>Armed with a super-suit with the astonishing a...</td>\n",
       "      <td>-84.510822</td>\n",
       "      <td>33.474682</td>\n",
       "      <td>USA</td>\n",
       "      <td>389445163</td>\n",
       "      <td>299.573202</td>\n",
       "      <td>male</td>\n",
       "      <td>male</td>\n",
       "      <td>male</td>\n",
       "      <td>female</td>\n",
       "    </tr>\n",
       "    <tr>\n",
       "      <th>12</th>\n",
       "      <td>Captain America: Civil War</td>\n",
       "      <td>Action,Adventure,Sci-Fi</td>\n",
       "      <td>2016-05-06</td>\n",
       "      <td>7.8</td>\n",
       "      <td>147</td>\n",
       "      <td>English,German,Xhosa,Russian,Romanian,Hindi</td>\n",
       "      <td>Atlanta, Georgia, USA</td>\n",
       "      <td>250000000</td>\n",
       "      <td>1153304495</td>\n",
       "      <td>Chris Evans</td>\n",
       "      <td>...</td>\n",
       "      <td>Political involvement in the Avengers' affairs...</td>\n",
       "      <td>-84.390264</td>\n",
       "      <td>33.748992</td>\n",
       "      <td>USA</td>\n",
       "      <td>903304495</td>\n",
       "      <td>361.321798</td>\n",
       "      <td>male</td>\n",
       "      <td>male</td>\n",
       "      <td>female</td>\n",
       "      <td>male</td>\n",
       "    </tr>\n",
       "    <tr>\n",
       "      <th>13</th>\n",
       "      <td>Doctor Strange</td>\n",
       "      <td>Action,Adventure,Fantasy,Sci-Fi</td>\n",
       "      <td>2016-11-04</td>\n",
       "      <td>7.5</td>\n",
       "      <td>115</td>\n",
       "      <td>English</td>\n",
       "      <td>New York City, New York, USA</td>\n",
       "      <td>165000000</td>\n",
       "      <td>677718395</td>\n",
       "      <td>Benedict Cumberbatch</td>\n",
       "      <td>...</td>\n",
       "      <td>While on a journey of physical and spiritual h...</td>\n",
       "      <td>-74.006015</td>\n",
       "      <td>40.712728</td>\n",
       "      <td>USA</td>\n",
       "      <td>512718395</td>\n",
       "      <td>310.738421</td>\n",
       "      <td>male</td>\n",
       "      <td>male</td>\n",
       "      <td>female</td>\n",
       "      <td>male</td>\n",
       "    </tr>\n",
       "    <tr>\n",
       "      <th>14</th>\n",
       "      <td>Guardians of the Galaxy Vol. 2</td>\n",
       "      <td>Action,Adventure,Comedy,Sci-Fi</td>\n",
       "      <td>2017-05-05</td>\n",
       "      <td>7.7</td>\n",
       "      <td>136</td>\n",
       "      <td>English</td>\n",
       "      <td>Atlanta, Georgia, USA</td>\n",
       "      <td>200000000</td>\n",
       "      <td>863756051</td>\n",
       "      <td>Chris Pratt</td>\n",
       "      <td>...</td>\n",
       "      <td>The Guardians struggle to keep together as a t...</td>\n",
       "      <td>-84.390264</td>\n",
       "      <td>33.748992</td>\n",
       "      <td>USA</td>\n",
       "      <td>663756051</td>\n",
       "      <td>331.878026</td>\n",
       "      <td>male</td>\n",
       "      <td>female</td>\n",
       "      <td>male</td>\n",
       "      <td>male</td>\n",
       "    </tr>\n",
       "    <tr>\n",
       "      <th>15</th>\n",
       "      <td>Spider-Man: Homecoming</td>\n",
       "      <td>Action,Adventure,Sci-Fi</td>\n",
       "      <td>2017-07-07</td>\n",
       "      <td>7.5</td>\n",
       "      <td>133</td>\n",
       "      <td>English,Spanish</td>\n",
       "      <td>Atlanta, Georgia, USA</td>\n",
       "      <td>175000000</td>\n",
       "      <td>880166924</td>\n",
       "      <td>Tom Holland</td>\n",
       "      <td>...</td>\n",
       "      <td>Peter Parker balances his life as an ordinary ...</td>\n",
       "      <td>-84.390264</td>\n",
       "      <td>33.748992</td>\n",
       "      <td>USA</td>\n",
       "      <td>705166924</td>\n",
       "      <td>402.952528</td>\n",
       "      <td>male</td>\n",
       "      <td>male</td>\n",
       "      <td>male</td>\n",
       "      <td>female</td>\n",
       "    </tr>\n",
       "    <tr>\n",
       "      <th>16</th>\n",
       "      <td>Thor: Ragnarok</td>\n",
       "      <td>Action,Adventure,Comedy,Fantasy,Sci-Fi</td>\n",
       "      <td>2017-11-03</td>\n",
       "      <td>7.9</td>\n",
       "      <td>130</td>\n",
       "      <td>English</td>\n",
       "      <td>Village Roadshow Studios, Oxenford, Queensland...</td>\n",
       "      <td>180000000</td>\n",
       "      <td>853977126</td>\n",
       "      <td>Chris Hemsworth</td>\n",
       "      <td>...</td>\n",
       "      <td>Thor (Chris Hemsworth) is imprisoned on the pl...</td>\n",
       "      <td>153.311815</td>\n",
       "      <td>-27.910528</td>\n",
       "      <td>Australia</td>\n",
       "      <td>673977126</td>\n",
       "      <td>374.431737</td>\n",
       "      <td>male</td>\n",
       "      <td>male</td>\n",
       "      <td>female</td>\n",
       "      <td>male</td>\n",
       "    </tr>\n",
       "    <tr>\n",
       "      <th>17</th>\n",
       "      <td>Black Panther</td>\n",
       "      <td>Action,Adventure,Sci-Fi</td>\n",
       "      <td>2018-02-16</td>\n",
       "      <td>7.3</td>\n",
       "      <td>134</td>\n",
       "      <td>English,Swahili,Nama,Xhosa,Korean</td>\n",
       "      <td>461 Sandy Creek Rd, Fayetteville, GA 30214, Un...</td>\n",
       "      <td>200000000</td>\n",
       "      <td>1347071259</td>\n",
       "      <td>Chadwick Boseman</td>\n",
       "      <td>...</td>\n",
       "      <td>T'Challa, heir to the hidden but advanced king...</td>\n",
       "      <td>-84.510822</td>\n",
       "      <td>33.474682</td>\n",
       "      <td>USA</td>\n",
       "      <td>1147071259</td>\n",
       "      <td>573.535630</td>\n",
       "      <td>male</td>\n",
       "      <td>male</td>\n",
       "      <td>female</td>\n",
       "      <td>female</td>\n",
       "    </tr>\n",
       "    <tr>\n",
       "      <th>18</th>\n",
       "      <td>Avengers: Infinity War</td>\n",
       "      <td>Action,Adventure,Sci-Fi</td>\n",
       "      <td>2018-04-27</td>\n",
       "      <td>8.5</td>\n",
       "      <td>149</td>\n",
       "      <td>English</td>\n",
       "      <td>461 Sandy Creek Rd, Fayetteville, GA 30214, Un...</td>\n",
       "      <td>321000000</td>\n",
       "      <td>2048709917</td>\n",
       "      <td>Robert Downey Jr.</td>\n",
       "      <td>...</td>\n",
       "      <td>The Avengers and their allies must be willing ...</td>\n",
       "      <td>-84.510822</td>\n",
       "      <td>33.474682</td>\n",
       "      <td>USA</td>\n",
       "      <td>1727709917</td>\n",
       "      <td>538.227388</td>\n",
       "      <td>male</td>\n",
       "      <td>male</td>\n",
       "      <td>male</td>\n",
       "      <td>male</td>\n",
       "    </tr>\n",
       "    <tr>\n",
       "      <th>19</th>\n",
       "      <td>Ant-Man and the Wasp</td>\n",
       "      <td>Action,Adventure,Comedy,Sci-Fi</td>\n",
       "      <td>2018-07-06</td>\n",
       "      <td>7.1</td>\n",
       "      <td>118</td>\n",
       "      <td>English,Spanish</td>\n",
       "      <td>Atlanta, Georgia, USA</td>\n",
       "      <td>162000000</td>\n",
       "      <td>622674139</td>\n",
       "      <td>Paul Rudd</td>\n",
       "      <td>...</td>\n",
       "      <td>As Scott Lang balances being both a Super Hero...</td>\n",
       "      <td>-84.390264</td>\n",
       "      <td>33.748992</td>\n",
       "      <td>USA</td>\n",
       "      <td>460674139</td>\n",
       "      <td>284.366752</td>\n",
       "      <td>male</td>\n",
       "      <td>female</td>\n",
       "      <td>male</td>\n",
       "      <td>male</td>\n",
       "    </tr>\n",
       "    <tr>\n",
       "      <th>20</th>\n",
       "      <td>Captain Marvel</td>\n",
       "      <td>Action,Adventure,Sci-Fi</td>\n",
       "      <td>2019-03-08</td>\n",
       "      <td>7.1</td>\n",
       "      <td>123</td>\n",
       "      <td>English</td>\n",
       "      <td>Los Angeles, California, USA</td>\n",
       "      <td>152000000</td>\n",
       "      <td>1126318317</td>\n",
       "      <td>Brie Larson</td>\n",
       "      <td>...</td>\n",
       "      <td>Carol Danvers becomes one of the universe's mo...</td>\n",
       "      <td>-118.242766</td>\n",
       "      <td>34.053691</td>\n",
       "      <td>USA</td>\n",
       "      <td>974318317</td>\n",
       "      <td>640.998893</td>\n",
       "      <td>female</td>\n",
       "      <td>male</td>\n",
       "      <td>male</td>\n",
       "      <td>male</td>\n",
       "    </tr>\n",
       "    <tr>\n",
       "      <th>21</th>\n",
       "      <td>Avengers: Endgame</td>\n",
       "      <td>Action,Adventure,Sci-Fi</td>\n",
       "      <td>2019-04-26</td>\n",
       "      <td>8.8</td>\n",
       "      <td>181</td>\n",
       "      <td>English,Japanese,Xhosa</td>\n",
       "      <td>Atlanta,Georgia,USA</td>\n",
       "      <td>356000000</td>\n",
       "      <td>2681988528</td>\n",
       "      <td>Robert Downey Jr.</td>\n",
       "      <td>...</td>\n",
       "      <td>With the help of remaining allies, the Avenger...</td>\n",
       "      <td>-84.390264</td>\n",
       "      <td>33.748992</td>\n",
       "      <td>USA</td>\n",
       "      <td>2325988528</td>\n",
       "      <td>653.367564</td>\n",
       "      <td>male</td>\n",
       "      <td>male</td>\n",
       "      <td>male</td>\n",
       "      <td>male</td>\n",
       "    </tr>\n",
       "    <tr>\n",
       "      <th>22</th>\n",
       "      <td>Spider-Man: Far from Home</td>\n",
       "      <td>Action , Adventure , Sci-Fi</td>\n",
       "      <td>2019-07-02</td>\n",
       "      <td>7.5</td>\n",
       "      <td>129</td>\n",
       "      <td>English</td>\n",
       "      <td>Hertfordshire, England, UK</td>\n",
       "      <td>160000000</td>\n",
       "      <td>1132000000</td>\n",
       "      <td>Tom Holland</td>\n",
       "      <td>...</td>\n",
       "      <td>Following the events of Avengers: Endgame, Spi...</td>\n",
       "      <td>-0.097855</td>\n",
       "      <td>51.840052</td>\n",
       "      <td>UK</td>\n",
       "      <td>972000000</td>\n",
       "      <td>607.500000</td>\n",
       "      <td>male</td>\n",
       "      <td>male</td>\n",
       "      <td>male</td>\n",
       "      <td>female</td>\n",
       "    </tr>\n",
       "  </tbody>\n",
       "</table>\n",
       "<p>23 rows × 24 columns</p>\n",
       "</div>"
      ],
      "text/plain": [
       "                                  title  \\\n",
       "0                              Iron Man   \n",
       "1                   The Incredible Hulk   \n",
       "2                            Iron Man 2   \n",
       "3                                  Thor   \n",
       "4    Captain America: The First Avenger   \n",
       "5                          The Avengers   \n",
       "6                            Iron Man 3   \n",
       "7                  Thor: The Dark World   \n",
       "8   Captain America: The Winter Soldier   \n",
       "9               Guardians of the Galaxy   \n",
       "10              Avengers: Age of Ultron   \n",
       "11                              Ant-Man   \n",
       "12           Captain America: Civil War   \n",
       "13                       Doctor Strange   \n",
       "14       Guardians of the Galaxy Vol. 2   \n",
       "15               Spider-Man: Homecoming   \n",
       "16                       Thor: Ragnarok   \n",
       "17                        Black Panther   \n",
       "18               Avengers: Infinity War   \n",
       "19                 Ant-Man and the Wasp   \n",
       "20                       Captain Marvel   \n",
       "21                    Avengers: Endgame   \n",
       "22            Spider-Man: Far from Home   \n",
       "\n",
       "                                    genres       date  score  runtime  \\\n",
       "0                  Action,Adventure,Sci-Fi 2008-05-02    7.9      126   \n",
       "1                  Action,Adventure,Sci-Fi 2008-06-13    6.7      112   \n",
       "2                  Action,Adventure,Sci-Fi 2010-05-07    7.0      124   \n",
       "3          Action,Adventure,Fantasy,Sci-Fi 2011-05-06    7.0      115   \n",
       "4                  Action,Adventure,Sci-Fi 2011-07-22    6.9      124   \n",
       "5                  Action,Adventure,Sci-Fi 2012-05-04    8.1      143   \n",
       "6                  Action,Adventure,Sci-Fi 2013-05-03    7.2      130   \n",
       "7                 Action,Adventure,Fantasy 2013-11-08    6.9      112   \n",
       "8         Action,Adventure,Sci-Fi,Thriller 2014-04-04    7.8      136   \n",
       "9           Action,Adventure,Comedy,Sci-Fi 2014-08-01    8.1      121   \n",
       "10                 Action,Adventure,Sci-Fi 2015-05-01    7.3      141   \n",
       "11          Action,Adventure,Comedy,Sci-Fi 2015-07-17    7.3      117   \n",
       "12                 Action,Adventure,Sci-Fi 2016-05-06    7.8      147   \n",
       "13         Action,Adventure,Fantasy,Sci-Fi 2016-11-04    7.5      115   \n",
       "14          Action,Adventure,Comedy,Sci-Fi 2017-05-05    7.7      136   \n",
       "15                 Action,Adventure,Sci-Fi 2017-07-07    7.5      133   \n",
       "16  Action,Adventure,Comedy,Fantasy,Sci-Fi 2017-11-03    7.9      130   \n",
       "17                 Action,Adventure,Sci-Fi 2018-02-16    7.3      134   \n",
       "18                 Action,Adventure,Sci-Fi 2018-04-27    8.5      149   \n",
       "19          Action,Adventure,Comedy,Sci-Fi 2018-07-06    7.1      118   \n",
       "20                 Action,Adventure,Sci-Fi 2019-03-08    7.1      123   \n",
       "21                 Action,Adventure,Sci-Fi 2019-04-26    8.8      181   \n",
       "22             Action , Adventure , Sci-Fi 2019-07-02    7.5      129   \n",
       "\n",
       "                                       language  \\\n",
       "0         English,Persian,Urdu,Arabic,Hungarian   \n",
       "1                    English,Portuguese,Spanish   \n",
       "2                        English,French,Russian   \n",
       "3                                       English   \n",
       "4                      English,Norwegian,French   \n",
       "5                         English,Russian,Hindi   \n",
       "6                                       English   \n",
       "7                                       English   \n",
       "8                                English,French   \n",
       "9                                       English   \n",
       "10                               English,Korean   \n",
       "11                                      English   \n",
       "12  English,German,Xhosa,Russian,Romanian,Hindi   \n",
       "13                                      English   \n",
       "14                                      English   \n",
       "15                              English,Spanish   \n",
       "16                                      English   \n",
       "17            English,Swahili,Nama,Xhosa,Korean   \n",
       "18                                      English   \n",
       "19                              English,Spanish   \n",
       "20                                      English   \n",
       "21                       English,Japanese,Xhosa   \n",
       "22                                      English   \n",
       "\n",
       "                                            locations     budget  collection  \\\n",
       "0    41000 20 St E, Palmdale, CA 93550, United States  140000000   585174222   \n",
       "1      Cherry Street Bridge, Toronto, Ontario, Canada  150000000   263427551   \n",
       "2   1360 E 6th St, Los Angeles, CA 90021, United S...  200000000   623933331   \n",
       "3                           Galisteo, New Mexico, USA  150000000   449326618   \n",
       "4         Regent Rd, Liverpool L3 0AN, United Kingdom  140000000   370569774   \n",
       "5                       Pittsburgh, Pennsylvania, USA  220000000  1519557910   \n",
       "6                           Cary, North Carolina, USA  200000000  1215439994   \n",
       "7     Studios Rd, Shepperton TW17 0QD, United Kingdom  170000000   644783140   \n",
       "8                        Los Angeles, California, USA  170000000   714766572   \n",
       "9     Studios Rd, Shepperton TW17 0QD, United Kingdom  170000000   774176600   \n",
       "10    Studios Rd, Shepperton TW17 0QD, United Kingdom  250000000  1405413868   \n",
       "11  461 Sandy Creek Rd, Fayetteville, GA 30214, Un...  130000000   519445163   \n",
       "12                              Atlanta, Georgia, USA  250000000  1153304495   \n",
       "13                       New York City, New York, USA  165000000   677718395   \n",
       "14                              Atlanta, Georgia, USA  200000000   863756051   \n",
       "15                              Atlanta, Georgia, USA  175000000   880166924   \n",
       "16  Village Roadshow Studios, Oxenford, Queensland...  180000000   853977126   \n",
       "17  461 Sandy Creek Rd, Fayetteville, GA 30214, Un...  200000000  1347071259   \n",
       "18  461 Sandy Creek Rd, Fayetteville, GA 30214, Un...  321000000  2048709917   \n",
       "19                              Atlanta, Georgia, USA  162000000   622674139   \n",
       "20                       Los Angeles, California, USA  152000000  1126318317   \n",
       "21                                Atlanta,Georgia,USA  356000000  2681988528   \n",
       "22                         Hertfordshire, England, UK  160000000  1132000000   \n",
       "\n",
       "                 actor_1  ...  \\\n",
       "0      Robert Downey Jr.  ...   \n",
       "1          Edward Norton  ...   \n",
       "2      Robert Downey Jr.  ...   \n",
       "3        Chris Hemsworth  ...   \n",
       "4            Chris Evans  ...   \n",
       "5      Robert Downey Jr.  ...   \n",
       "6      Robert Downey Jr.  ...   \n",
       "7        Chris Hemsworth  ...   \n",
       "8            Chris Evans  ...   \n",
       "9            Chris Pratt  ...   \n",
       "10     Robert Downey Jr.  ...   \n",
       "11             Paul Rudd  ...   \n",
       "12           Chris Evans  ...   \n",
       "13  Benedict Cumberbatch  ...   \n",
       "14           Chris Pratt  ...   \n",
       "15           Tom Holland  ...   \n",
       "16       Chris Hemsworth  ...   \n",
       "17      Chadwick Boseman  ...   \n",
       "18     Robert Downey Jr.  ...   \n",
       "19             Paul Rudd  ...   \n",
       "20           Brie Larson  ...   \n",
       "21     Robert Downey Jr.  ...   \n",
       "22           Tom Holland  ...   \n",
       "\n",
       "                                                story   longitude   latitude  \\\n",
       "0   After being held captive in an Afghan cave, bi...  118.083300  34.627500   \n",
       "1   Government, must find a cure for the monster h...  -79.348568  43.640840   \n",
       "2   With the world now aware of his identity as Ir... -118.233847  34.038153   \n",
       "3   The powerful but arrogant god Thor (Chris Hems... -105.960457  35.394459   \n",
       "4   But being Captain America comes at a price as ...   -3.000121  53.419796   \n",
       "5   Earth's mightiest heroes must come together an...  -79.990086  40.441694   \n",
       "6   When Tony Stark's world is torn apart by a for...  -78.781208  35.788289   \n",
       "7   When Dr. Jane Foster (Natalie Portman) gets cu...   -0.465500  51.406800   \n",
       "8   As Steve Rogers struggles to embrace his role ... -118.242766  34.053691   \n",
       "9   A group of intergalactic criminals must pull t...   -0.465500  51.406800   \n",
       "10  When Tony Stark and Bruce Banner try to jump-s...   -0.465500  51.406800   \n",
       "11  Armed with a super-suit with the astonishing a...  -84.510822  33.474682   \n",
       "12  Political involvement in the Avengers' affairs...  -84.390264  33.748992   \n",
       "13  While on a journey of physical and spiritual h...  -74.006015  40.712728   \n",
       "14  The Guardians struggle to keep together as a t...  -84.390264  33.748992   \n",
       "15  Peter Parker balances his life as an ordinary ...  -84.390264  33.748992   \n",
       "16  Thor (Chris Hemsworth) is imprisoned on the pl...  153.311815 -27.910528   \n",
       "17  T'Challa, heir to the hidden but advanced king...  -84.510822  33.474682   \n",
       "18  The Avengers and their allies must be willing ...  -84.510822  33.474682   \n",
       "19  As Scott Lang balances being both a Super Hero...  -84.390264  33.748992   \n",
       "20  Carol Danvers becomes one of the universe's mo... -118.242766  34.053691   \n",
       "21  With the help of remaining allies, the Avenger...  -84.390264  33.748992   \n",
       "22  Following the events of Avengers: Endgame, Spi...   -0.097855  51.840052   \n",
       "\n",
       "   locations_country      profit         ROI  actor_1_g actor_2_g  actor_3_g  \\\n",
       "0                USA   445174222  317.981587       male    female       male   \n",
       "1             Canada   113427551   75.618367       male    female       male   \n",
       "2                USA   423933331  211.966666       male      male     female   \n",
       "3                USA   299326618  199.551079       male      male     female   \n",
       "4                 UK   230569774  164.692696       male      male       male   \n",
       "5                USA  1299557910  590.708141       male      male     female   \n",
       "6                USA  1015439994  507.719997       male      male     female   \n",
       "7                 UK   474783140  279.284200       male    female       male   \n",
       "8                USA   544766572  320.450925       male      male     female   \n",
       "9                 UK   604176600  355.398000       male      male       male   \n",
       "10                UK  1155413868  462.165547       male      male       male   \n",
       "11               USA   389445163  299.573202       male      male       male   \n",
       "12               USA   903304495  361.321798       male      male     female   \n",
       "13               USA   512718395  310.738421       male      male     female   \n",
       "14               USA   663756051  331.878026       male    female       male   \n",
       "15               USA   705166924  402.952528       male      male       male   \n",
       "16         Australia   673977126  374.431737       male      male     female   \n",
       "17               USA  1147071259  573.535630       male      male     female   \n",
       "18               USA  1727709917  538.227388       male      male       male   \n",
       "19               USA   460674139  284.366752       male    female       male   \n",
       "20               USA   974318317  640.998893     female      male       male   \n",
       "21               USA  2325988528  653.367564       male      male       male   \n",
       "22                UK   972000000  607.500000       male      male       male   \n",
       "\n",
       "    actor_4_g  \n",
       "0        male  \n",
       "1        male  \n",
       "2        male  \n",
       "3        male  \n",
       "4      female  \n",
       "5        male  \n",
       "6        male  \n",
       "7        male  \n",
       "8        male  \n",
       "9      female  \n",
       "10       male  \n",
       "11     female  \n",
       "12       male  \n",
       "13       male  \n",
       "14       male  \n",
       "15     female  \n",
       "16       male  \n",
       "17     female  \n",
       "18       male  \n",
       "19       male  \n",
       "20       male  \n",
       "21       male  \n",
       "22     female  \n",
       "\n",
       "[23 rows x 24 columns]"
      ]
     },
     "execution_count": 125,
     "metadata": {},
     "output_type": "execute_result"
    }
   ],
   "source": [
    "clean_df"
   ]
  },
  {
   "cell_type": "markdown",
   "metadata": {},
   "source": [
    "### Which movie earned the most?"
   ]
  },
  {
   "cell_type": "code",
   "execution_count": 126,
   "metadata": {},
   "outputs": [
    {
     "data": {
      "text/plain": [
       "Text(0.5, 0, 'revenue/cost in $ 10 million')"
      ]
     },
     "execution_count": 126,
     "metadata": {},
     "output_type": "execute_result"
    },
    {
     "data": {
      "image/png": "[encoded data removed]",
      "text/plain": [
       "<Figure size 720x720 with 1 Axes>"
      ]
     },
     "metadata": {
      "needs_background": "light"
     },
     "output_type": "display_data"
    }
   ],
   "source": [
    "fig, ax1 = plt.subplots(figsize=(10, 10))\n",
    "tidy = clean_df[[\"title\", \"collection\",\"budget\"]].sort_values(\n",
    "    \"collection\",ascending=False).melt(id_vars='title').rename(columns=str.title)\n",
    "sns.barplot(y='Title', x='Value', hue='Variable', data=tidy, ax=ax1, palette=[\"skyblue\", \"red\"],dodge=False)\n",
    "plt.title(\"Movie collections & budgets\")\n",
    "plt.xlabel(\"revenue/cost in $ 10 million\")"
   ]
  },
  {
   "cell_type": "markdown",
   "metadata": {},
   "source": [
    "Seems like \"Avengers: Endgame\" has gathered most collections but also had the largest budget.<br>\n",
    "However, to see the profit more clearly, let's make another graph representing return on investment & profit in dollar amount."
   ]
  },
  {
   "cell_type": "code",
   "execution_count": 127,
   "metadata": {},
   "outputs": [
    {
     "data": {
      "image/png": "[encoded data removed]",
      "text/plain": [
       "<Figure size 1008x576 with 2 Axes>"
      ]
     },
     "metadata": {
      "needs_background": "light"
     },
     "output_type": "display_data"
    }
   ],
   "source": [
    "def colors_from_values(values, palette_name):\n",
    "    # normalize the values to range [0, 1]\n",
    "    normalized = (values - min(values)) / (max(values) - min(values))\n",
    "    # convert to indices\n",
    "    indices = np.round(normalized * (len(values) - 1)).astype(np.int32)\n",
    "    # use the indices to get the colors\n",
    "    palette = sns.color_palette(palette_name, len(values))\n",
    "    return np.array(palette).take(indices, axis=0)\n",
    "\n",
    "#palette=colors_from_values(clean_df.profit, \"Greys_d\")\n",
    "\n",
    "#rank = [int((max(clean_df.profit)-elem)*len(clean_df)/(max(clean_df.profit)+1)) for elem in clean_df.profit] \n",
    "#pal = sns.color_palette(\"Reds_d\",len(clean_df))\n",
    "\n",
    "y = \"title\"\n",
    "data = clean_df.sort_values('ROI', ascending=False)\n",
    "\n",
    "fig, axes = plt.subplots(ncols=2, sharey=False, figsize=(14,8))\n",
    "\n",
    "sns.barplot(\"ROI\",y=y, data=data, palette=\"Blues_d\", ax=axes[0],zorder=5)\n",
    "axes[0].set(title='return on investment')\n",
    "\n",
    "sns.barplot(\"profit\",y=y, data=data, palette=\"Reds\", ax=axes[1],zorder=5,hue=\"profit\",dodge=False)\n",
    "axes[1].legend_.remove()\n",
    "axes[1].set(title='profit in dollors')\n",
    "\n",
    "axes[0].invert_xaxis()\n",
    "axes[0].yaxis.tick_right()\n",
    "plt.ylabel(\"\")\n",
    "axes[1].set(yticklabels=[])\n",
    "plt.ylabel(\"\")\n",
    "\n",
    "for ax in axes.flat:\n",
    "    ax.margins(0.03)\n",
    "    ax.grid(True)\n",
    "\n",
    "fig.tight_layout()\n",
    "fig.subplots_adjust(wspace=0.5)\n",
    "\n",
    "plt.show()"
   ]
  },
  {
   "cell_type": "markdown",
   "metadata": {},
   "source": [
    "Wow. Another win for Endgame. It recorded the biggest ROI, which is over 600%, among all the movies so far. <br>\n",
    "Also, the movie earned the biggest profit in dollars!. Kudos to Thanos...maybe?<br>\n",
    "\n",
    "![Dancing Captain America](https://media.giphy.com/media/eMVmYBj2OkoQ35sXHm/giphy.gif)\n",
    "\n",
    "Other interesting things:\n",
    "* Although the movie \"Avengers: Infinity War\" has recorded the 2nd best profit in dollar amount, its ROI is 6th. (Must be expensive to create all the dusty scenes, huh?)\n",
    "* Iron Man, the very first movie in MCU, has the least collection, ROI and profit. (Your beginnings will seem humble, so prosperous will your future be.)\n",
    "* Seems like the ROI & collection are much related to the date released."
   ]
  },
  {
   "cell_type": "markdown",
   "metadata": {},
   "source": [
    "### Which actor starred the most?"
   ]
  },
  {
   "cell_type": "code",
   "execution_count": 128,
   "metadata": {},
   "outputs": [
    {
     "data": {
      "text/html": [
       "<div>\n",
       "<style scoped>\n",
       "    .dataframe tbody tr th:only-of-type {\n",
       "        vertical-align: middle;\n",
       "    }\n",
       "\n",
       "    .dataframe tbody tr th {\n",
       "        vertical-align: top;\n",
       "    }\n",
       "\n",
       "    .dataframe thead th {\n",
       "        text-align: right;\n",
       "    }\n",
       "</style>\n",
       "<table border=\"1\" class=\"dataframe\">\n",
       "  <thead>\n",
       "    <tr style=\"text-align: right;\">\n",
       "      <th></th>\n",
       "      <th>actor</th>\n",
       "      <th>actor_1</th>\n",
       "      <th>actor_2</th>\n",
       "      <th>actor_3</th>\n",
       "      <th>actor_4</th>\n",
       "      <th>actor_total</th>\n",
       "    </tr>\n",
       "  </thead>\n",
       "  <tbody>\n",
       "    <tr>\n",
       "      <th>0</th>\n",
       "      <td>Anthony Hopkins</td>\n",
       "      <td>0</td>\n",
       "      <td>1</td>\n",
       "      <td>0</td>\n",
       "      <td>0</td>\n",
       "      <td>1</td>\n",
       "    </tr>\n",
       "    <tr>\n",
       "      <th>23</th>\n",
       "      <td>Jeff Bridges</td>\n",
       "      <td>0</td>\n",
       "      <td>0</td>\n",
       "      <td>0</td>\n",
       "      <td>1</td>\n",
       "      <td>1</td>\n",
       "    </tr>\n",
       "    <tr>\n",
       "      <th>24</th>\n",
       "      <td>Jeremy Renner</td>\n",
       "      <td>0</td>\n",
       "      <td>0</td>\n",
       "      <td>0</td>\n",
       "      <td>1</td>\n",
       "      <td>1</td>\n",
       "    </tr>\n",
       "    <tr>\n",
       "      <th>50</th>\n",
       "      <td>William Hurt</td>\n",
       "      <td>0</td>\n",
       "      <td>0</td>\n",
       "      <td>0</td>\n",
       "      <td>1</td>\n",
       "      <td>1</td>\n",
       "    </tr>\n",
       "    <tr>\n",
       "      <th>26</th>\n",
       "      <td>Liv Tyler</td>\n",
       "      <td>0</td>\n",
       "      <td>1</td>\n",
       "      <td>0</td>\n",
       "      <td>0</td>\n",
       "      <td>1</td>\n",
       "    </tr>\n",
       "  </tbody>\n",
       "</table>\n",
       "</div>"
      ],
      "text/plain": [
       "              actor actor_1 actor_2 actor_3 actor_4 actor_total\n",
       "0   Anthony Hopkins       0       1       0       0           1\n",
       "23     Jeff Bridges       0       0       0       1           1\n",
       "24    Jeremy Renner       0       0       0       1           1\n",
       "50     William Hurt       0       0       0       1           1\n",
       "26        Liv Tyler       0       1       0       0           1"
      ]
     },
     "metadata": {},
     "output_type": "display_data"
    }
   ],
   "source": [
    "ap_df = clean_df[['title',\"actor_1\",\"actor_2\",\"actor_3\",\"actor_4\"]]\n",
    "#display(ap_df.head())\n",
    "\n",
    "ap_df_2 = pd.DataFrame(columns=['actor_1','actor_2','actor_3','actor_4','actor_total'],index=name_list)\n",
    "ap_df_2 = ap_df_2.reset_index().rename(columns={\"index\":\"actor\"})\n",
    "\n",
    "for i in range(ap_df_2.actor.count()):\n",
    "    for column in [\"actor_1\",\"actor_2\",\"actor_3\",\"actor_4\"]:\n",
    "        ap_df_2[column][i] = ap_df[ap_df[column] == ap_df_2[\"actor\"][i]].shape[0]\n",
    "ap_df_2.actor_total = ap_df_2.actor_1 + ap_df_2.actor_2 + ap_df_2.actor_3 + ap_df_2.actor_4\n",
    "ap_df_2 = ap_df_2.sort_values(\"actor_total\", ascending=True)\n",
    "display(ap_df_2.head())"
   ]
  },
  {
   "cell_type": "code",
   "execution_count": 129,
   "metadata": {},
   "outputs": [
    {
     "data": {
      "image/png": "[encoded data removed]",
      "text/plain": [
       "<Figure size 864x576 with 2 Axes>"
      ]
     },
     "metadata": {
      "needs_background": "light"
     },
     "output_type": "display_data"
    }
   ],
   "source": [
    "fig, ax = plt.subplots(1,2,figsize=(12,8),sharey=False)\n",
    "tidy = ap_df_2[[\"actor\", \"actor_total\", \"actor_1\"]].sort_values(\n",
    "    [\"actor_total\",\"actor_1\"],ascending=False)[:15].melt(id_vars='actor').rename(columns=str.title)\n",
    "sns.barplot(y='Actor', x='Value', hue='Variable', data=tidy, ax=ax[0], palette=[\"skyblue\", \"blue\"])\n",
    "ax[0].set_title('Appearance counts sorted by total-starred')\n",
    "ax[0].set_xlabel('# of appeareances')\n",
    "\n",
    "\n",
    "tidy = ap_df_2[[\"actor\", \"actor_total\", \"actor_1\"]].sort_values(\n",
    "    [\"actor_1\",\"actor_total\"],ascending=False)[:15].melt(id_vars='actor').rename(columns=str.title)\n",
    "sns.barplot(y='Actor', x='Value', hue='Variable', data=tidy, ax=ax[1], palette=[\"skyblue\", \"blue\"])\n",
    "ax[1].set_title('Appearance counts sorted by main-starred')\n",
    "ax[1].set_xlabel('# of appeareances')\n",
    "\n",
    "for ax in ax.flat:\n",
    "    ax.margins(0.04)\n",
    "    ax.grid(True)\n",
    "    \n",
    "fig.tight_layout()\n",
    "fig.subplots_adjust(wspace=0.7)"
   ]
  },
  {
   "cell_type": "markdown",
   "metadata": {},
   "source": [
    "The top 3 most main-starred actors are the \"Big 3\" - Robert Downey Jr(Iron Man), Chris Evans(Captain America), Chris Hemsworth(Thor).<br>\n",
    "Below that, we can see our precious heros(or villans) with 0 solo movies...* <br>\n",
    "However Black Widow will have her first solo movie this year, and there will be Loki drama, so all is good. <br>"
   ]
  },
  {
   "cell_type": "markdown",
   "metadata": {},
   "source": [
    "If you sort the data by main appearance, you can see the different pattern.<br>\n",
    "We can see a lot of 2nd generation heros here. For example, All actors through top 4 ~ top 9 ** are from the new generation.<br>\n",
    "\n",
    "\\* This graph may not represent the 100% accurate reality because it only considered main 4 casts. For example, Hawkeye, who is one of the Big 6, is not on the graph.\n",
    "\n",
    "** Tom Holland(Spiderman), Paul Rudd(Antman), Chris Pratt(Starlord), Benedict Cumberbatch(Doctor Strange), Brie Larson(Captain Marvel), Chadwick Boseman(Black Panther)"
   ]
  },
  {
   "cell_type": "markdown",
   "metadata": {},
   "source": [
    "### How is the distribution of genders?"
   ]
  },
  {
   "cell_type": "code",
   "execution_count": 130,
   "metadata": {},
   "outputs": [
    {
     "data": {
      "image/png": "[encoded data removed]",
      "text/plain": [
       "<Figure size 720x360 with 4 Axes>"
      ]
     },
     "metadata": {
      "needs_background": "light"
     },
     "output_type": "display_data"
    }
   ],
   "source": [
    "#fig, ax1 = plt.subplots(figsize=(5, 5))\n",
    "#sns.countplot(y='actor_1_g',  hue='actor_1_g', data=clean_df, ax=ax1)\n",
    "\n",
    "fig, ax =plt.subplots(1,4,figsize=(10,5),sharey=True)\n",
    "max_count = max([max(clean_df[i].value_counts()) for i in clean_df.columns])\n",
    "A=sns.countplot(x=clean_df['actor_1_g'],ax=ax[0], palette=['skyblue','salmon'],\n",
    "                order=clean_df['actor_1_g'].value_counts().iloc[:2].index)\n",
    "B=sns.countplot(x=clean_df['actor_2_g'],ax=ax[1], palette=['skyblue','salmon'],\n",
    "                order=clean_df['actor_2_g'].value_counts().iloc[:2].index)\n",
    "C=sns.countplot(x=clean_df['actor_3_g'],ax=ax[2], palette=['skyblue','salmon'],\n",
    "                order=clean_df['actor_3_g'].value_counts().iloc[:2].index)\n",
    "D=sns.countplot(x=clean_df['actor_4_g'],ax=ax[3], palette=['skyblue','salmon'],\n",
    "                order=clean_df['actor_4_g'].value_counts().iloc[:2].index)\n",
    "ax[0].set_xlabel('1st lead')\n",
    "ax[1].set_xlabel('2nd lead')\n",
    "ax[2].set_xlabel('3rd lead')\n",
    "ax[3].set_xlabel('4th lead')\n",
    "ax[1].set_ylabel('')\n",
    "ax[2].set_ylabel('')\n",
    "ax[3].set_ylabel('')\n",
    "\n",
    "plt.show()"
   ]
  },
  {
   "cell_type": "markdown",
   "metadata": {},
   "source": [
    "We can see the clear trend here. All positions in the main cast is male-dominant, but the portion of female cast is slightly increasing through actor1 ~ actor4. <br>\n",
    "The only female lead character was Captain Marvel by Brie Larson.<br>\n",
    "Go Captain!\n",
    "![Captain Marvel Destroying Everything](https://media.giphy.com/media/1kh3Tjz9EBmU3uwpdP/giphy.gif)"
   ]
  }
 ],
 "metadata": {
  "kernelspec": {
   "display_name": "Python 3",
   "language": "python",
   "name": "python3"
  },
  "language_info": {
   "codemirror_mode": {
    "name": "ipython",
    "version": 3
   },
   "file_extension": ".py",
   "mimetype": "text/x-python",
   "name": "python",
   "nbconvert_exporter": "python",
   "pygments_lexer": "ipython3",
   "version": "3.8.3"
  }
 },
 "nbformat": 4,
 "nbformat_minor": 2
}
